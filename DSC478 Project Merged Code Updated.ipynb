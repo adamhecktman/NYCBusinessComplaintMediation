{
 "cells": [
  {
   "cell_type": "markdown",
   "metadata": {
    "collapsed": true
   },
   "source": [
    "# DSC 478 Team Project\n",
    "## Adam Hecktman, Devindra “Dave” Sawh\n",
    "## Consumer Services Complaints for The City of New York  "
   ]
  },
  {
   "cell_type": "code",
   "execution_count": 1,
   "metadata": {},
   "outputs": [],
   "source": [
    "import pandas as pd\n",
    "import numpy as np\n",
    "import matplotlib.pyplot as plt\n",
    "%matplotlib inline"
   ]
  },
  {
   "cell_type": "code",
   "execution_count": 2,
   "metadata": {},
   "outputs": [
    {
     "data": {
      "text/plain": [
       "(2792, 17)"
      ]
     },
     "execution_count": 2,
     "metadata": {},
     "output_type": "execute_result"
    }
   ],
   "source": [
    "df = pd.read_csv(\"Cleansed Consumer_Services_Mediated_Complaints.csv\")\n",
    "df.shape"
   ]
  },
  {
   "cell_type": "code",
   "execution_count": 3,
   "metadata": {},
   "outputs": [
    {
     "name": "stdout",
     "output_type": "stream",
     "text": [
      "<class 'pandas.core.frame.DataFrame'>\n",
      "RangeIndex: 2792 entries, 0 to 2791\n",
      "Data columns (total 8 columns):\n",
      "Business Name           2757 non-null object\n",
      "Industry                2792 non-null object\n",
      "Complaint Type          2616 non-null object\n",
      "Mediation Start Date    2791 non-null object\n",
      "Mediation Close Date    2792 non-null object\n",
      "Satisfaction            2225 non-null object\n",
      "Restitution             2792 non-null object\n",
      "Business State          2739 non-null object\n",
      "dtypes: object(8)\n",
      "memory usage: 174.6+ KB\n"
     ]
    }
   ],
   "source": [
    "#drop columns not needed\n",
    "\n",
    "df = df.drop(columns=['Complaint Result','Business Building' ,'Business Street', 'Building Address Unit', 'Business City', 'Business Zip', 'Complainant Zip', 'Longitude', 'Latitude'])\n",
    "df.info()"
   ]
  },
  {
   "cell_type": "markdown",
   "metadata": {},
   "source": [
    "### Review the unique values of the categorical values of interest"
   ]
  },
  {
   "cell_type": "code",
   "execution_count": 4,
   "metadata": {},
   "outputs": [
    {
     "data": {
      "text/plain": [
       "array(['Secondhand Dealer Auto - 005', 'Tow Truck Company - 124',\n",
       "       'Laundry - 064', 'Travel Agency - 440',\n",
       "       'Dealer In Products For The Disabled - 119',\n",
       "       'Home Improvement Contractor - 100', 'Furniture Sales - 242',\n",
       "       'Misc Non-Food Retail - 817', 'Debt Collection Agency - 122',\n",
       "       'Locksmith - 062', 'Retail Store - 820', 'Health Spa - 839',\n",
       "       'Electronic & Home Appliance Service Dealer - 115', 'Garage - 049',\n",
       "       'Restaurant - 818', 'Other', 'Electronic Store - 001',\n",
       "       'Auto Rental - 213', 'Tax Preparers - 891',\n",
       "       'Sightseeing Bus - 078', 'Gas Station-Retail - 815',\n",
       "       'Jewelry Store-Retail - 823', 'Dry Cleaners - 230',\n",
       "       'Appliances - 244', 'Employment Agency - 034', 'Supermarket - 819',\n",
       "       'Grocery-Retail - 808', 'Mini-Storage Company - 830',\n",
       "       'Megastore - 821', 'Funeral Homes - 888', 'Hotel/Motel - 460',\n",
       "       'Parking Lot - 050', 'Ticket Seller Business',\n",
       "       'Hardware-Retail - 811', 'Mailorder Misc - 319',\n",
       "       'Drug Store Retail - 810', 'Car Wash', 'Wearing Apparel - 450',\n",
       "       'Auction House - 128', 'Sightseeing Guide - 021',\n",
       "       'Pawnbroker - 080', 'Catering Establishment - 075',\n",
       "       'Auto Dealership - 212', 'Debt Settlement - 248',\n",
       "       'Pedicab Driver - 131', 'Garage & Parking Lot - 098',\n",
       "       'Storage Warehouse - 120', 'Secondhand Dealer [General] - 006',\n",
       "       'Internet Complaints - 443', 'Tenant Screening - 480',\n",
       "       'Stoop Line Stand - 033', 'Immigration Svc Prv - 893',\n",
       "       'Salons And Barbershop - 841', 'Fuel Oil Dealer - 814',\n",
       "       'Tow Truck Driver - 125', 'Booting Company - 126',\n",
       "       'Tickets-Live Perf - 260', 'Auctioneer - 036',\n",
       "       'Floor Coverings - 241', 'Pool Or Billiard Room - 046',\n",
       "       'Photography Services - 415', 'Auto Leasing - 211'], dtype=object)"
      ]
     },
     "execution_count": 4,
     "metadata": {},
     "output_type": "execute_result"
    }
   ],
   "source": [
    "df.Industry.unique()"
   ]
  },
  {
   "cell_type": "code",
   "execution_count": 5,
   "metadata": {},
   "outputs": [
    {
     "data": {
      "text/plain": [
       "array(['Damaged Goods - D01', 'Lemon', 'Billing Dispute - B02',\n",
       "       'Refund Policy - R01', 'Surcharge/Overcharge - S02',\n",
       "       'Non-Delivery of Goods - N01', nan, 'Quality of Work - Q01',\n",
       "       'Non-Delivery of Service - N02', 'Misrepresentation - M01',\n",
       "       'Breach of Contract - B03', 'Illegal/Unfair Booting',\n",
       "       'Exchange Goods/Contract Cancelled - E01',\n",
       "       'Advertising/General - A01', 'Defective Goods - D02',\n",
       "       'Unauthorized tow', 'Lost Property - L02',\n",
       "       'Advertising/Misleading - A02', 'Credit Card Discrepancy - C01',\n",
       "       'Damage / Estimate', 'Service Install - S01',\n",
       "       'Outstanding Judgment - J01', 'Breach of Warranty - B04',\n",
       "       'Credit Card Limitations Not Posted',\n",
       "       'Cancellation/Closure Without Notice',\n",
       "       'Receipt Incomplete/Not Given', 'Over Capacity',\n",
       "       'Unauthorized Repair - U01', 'Health Spa - 839',\n",
       "       'Unsanitary conditions', 'Advertising/Non-Availability - A03',\n",
       "       'Wrong Goods - W01', 'Other - Z01', 'Closed without Notice',\n",
       "       'No Title Provided', 'Minor Present School Hours', 'Restock Fee',\n",
       "       'Unlicensed', 'Unauthorized charges', 'Bait & Switch - B01',\n",
       "       'Harassment - H01', 'Gender Pricing',\n",
       "       'Dissatisfaction with Provider', 'Expiration date',\n",
       "       'Cancellation Fee', 'Refurbished /used',\n",
       "       'Non-Delivery Goods/Services', 'Scale Inaccurate/Broken',\n",
       "       'Price Not Posted', 'Bugs', 'Contact Sign Not Posted',\n",
       "       'Satisfaction With Provider'], dtype=object)"
      ]
     },
     "execution_count": 5,
     "metadata": {},
     "output_type": "execute_result"
    }
   ],
   "source": [
    "df['Complaint Type'].unique()"
   ]
  },
  {
   "cell_type": "code",
   "execution_count": 6,
   "metadata": {},
   "outputs": [
    {
     "data": {
      "text/plain": [
       "array(['No', 'Yes', nan], dtype=object)"
      ]
     },
     "execution_count": 6,
     "metadata": {},
     "output_type": "execute_result"
    }
   ],
   "source": [
    "df['Satisfaction'].unique()"
   ]
  },
  {
   "cell_type": "code",
   "execution_count": 7,
   "metadata": {},
   "outputs": [
    {
     "data": {
      "text/plain": [
       "array(['NY', 'NC', 'GA', 'KS', 'CA', nan, 'UT', 'WI', 'NJ', 'MN', 'MS',\n",
       "       'IL', 'WA', 'MI', 'TX', 'AZ', 'RI', 'FL', 'CT', 'KY', 'NH', 'OH',\n",
       "       'NEW YORK', 'SC', 'NM', 'TN', 'PA', 'VA', 'MA', 'MD', 'CO', 'MO',\n",
       "       'LA', 'IA', 'NV', 'DE'], dtype=object)"
      ]
     },
     "execution_count": 7,
     "metadata": {},
     "output_type": "execute_result"
    }
   ],
   "source": [
    "df['Business State'].unique()"
   ]
  },
  {
   "cell_type": "code",
   "execution_count": 8,
   "metadata": {},
   "outputs": [
    {
     "data": {
      "text/html": [
       "<div>\n",
       "<style scoped>\n",
       "    .dataframe tbody tr th:only-of-type {\n",
       "        vertical-align: middle;\n",
       "    }\n",
       "\n",
       "    .dataframe tbody tr th {\n",
       "        vertical-align: top;\n",
       "    }\n",
       "\n",
       "    .dataframe thead th {\n",
       "        text-align: right;\n",
       "    }\n",
       "</style>\n",
       "<table border=\"1\" class=\"dataframe\">\n",
       "  <thead>\n",
       "    <tr style=\"text-align: right;\">\n",
       "      <th></th>\n",
       "      <th>Business Name</th>\n",
       "      <th>Industry</th>\n",
       "      <th>Complaint Type</th>\n",
       "      <th>Mediation Start Date</th>\n",
       "      <th>Mediation Close Date</th>\n",
       "      <th>Satisfaction</th>\n",
       "      <th>Restitution</th>\n",
       "      <th>Business State</th>\n",
       "    </tr>\n",
       "  </thead>\n",
       "  <tbody>\n",
       "    <tr>\n",
       "      <td>0</td>\n",
       "      <td>MAJOR WORLD CHEVROLET, L.L.C.</td>\n",
       "      <td>Secondhand Dealer Auto - 005</td>\n",
       "      <td>Damaged Goods - D01</td>\n",
       "      <td>4/26/2019</td>\n",
       "      <td>5/9/2019</td>\n",
       "      <td>No</td>\n",
       "      <td>0</td>\n",
       "      <td>NY</td>\n",
       "    </tr>\n",
       "    <tr>\n",
       "      <td>1</td>\n",
       "      <td>CYPRESS MOTORS OF RIDGEWOOD INC,</td>\n",
       "      <td>Secondhand Dealer Auto - 005</td>\n",
       "      <td>Lemon</td>\n",
       "      <td>4/11/2019</td>\n",
       "      <td>5/22/2019</td>\n",
       "      <td>Yes</td>\n",
       "      <td>2400</td>\n",
       "      <td>NY</td>\n",
       "    </tr>\n",
       "    <tr>\n",
       "      <td>2</td>\n",
       "      <td>FINEST AUTOMOTIVE RECOVERY INC</td>\n",
       "      <td>Tow Truck Company - 124</td>\n",
       "      <td>Billing Dispute - B02</td>\n",
       "      <td>4/10/2019</td>\n",
       "      <td>5/7/2019</td>\n",
       "      <td>Yes</td>\n",
       "      <td>60</td>\n",
       "      <td>NY</td>\n",
       "    </tr>\n",
       "    <tr>\n",
       "      <td>3</td>\n",
       "      <td>U NICE LAUNDRY INC</td>\n",
       "      <td>Laundry - 064</td>\n",
       "      <td>Refund Policy - R01</td>\n",
       "      <td>11/25/2019</td>\n",
       "      <td>12/10/2019</td>\n",
       "      <td>Yes</td>\n",
       "      <td>4</td>\n",
       "      <td>NY</td>\n",
       "    </tr>\n",
       "    <tr>\n",
       "      <td>4</td>\n",
       "      <td>LEVIA TOUR LLC</td>\n",
       "      <td>Travel Agency - 440</td>\n",
       "      <td>Surcharge/Overcharge - S02</td>\n",
       "      <td>2/1/2019</td>\n",
       "      <td>3/11/2019</td>\n",
       "      <td>NaN</td>\n",
       "      <td>0</td>\n",
       "      <td>NY</td>\n",
       "    </tr>\n",
       "  </tbody>\n",
       "</table>\n",
       "</div>"
      ],
      "text/plain": [
       "                      Business Name                      Industry  \\\n",
       "0     MAJOR WORLD CHEVROLET, L.L.C.  Secondhand Dealer Auto - 005   \n",
       "1  CYPRESS MOTORS OF RIDGEWOOD INC,  Secondhand Dealer Auto - 005   \n",
       "2    FINEST AUTOMOTIVE RECOVERY INC       Tow Truck Company - 124   \n",
       "3                U NICE LAUNDRY INC                 Laundry - 064   \n",
       "4                    LEVIA TOUR LLC           Travel Agency - 440   \n",
       "\n",
       "               Complaint Type Mediation Start Date Mediation Close Date  \\\n",
       "0         Damaged Goods - D01            4/26/2019             5/9/2019   \n",
       "1                       Lemon            4/11/2019            5/22/2019   \n",
       "2       Billing Dispute - B02            4/10/2019             5/7/2019   \n",
       "3         Refund Policy - R01           11/25/2019           12/10/2019   \n",
       "4  Surcharge/Overcharge - S02             2/1/2019            3/11/2019   \n",
       "\n",
       "  Satisfaction Restitution Business State  \n",
       "0           No           0             NY  \n",
       "1          Yes        2400             NY  \n",
       "2          Yes          60             NY  \n",
       "3          Yes           4             NY  \n",
       "4          NaN           0             NY  "
      ]
     },
     "execution_count": 8,
     "metadata": {},
     "output_type": "execute_result"
    }
   ],
   "source": [
    "df.head()"
   ]
  },
  {
   "cell_type": "code",
   "execution_count": 9,
   "metadata": {},
   "outputs": [
    {
     "data": {
      "text/plain": [
       "(2792, 8)"
      ]
     },
     "execution_count": 9,
     "metadata": {},
     "output_type": "execute_result"
    }
   ],
   "source": [
    "df.shape  "
   ]
  },
  {
   "cell_type": "markdown",
   "metadata": {},
   "source": [
    "# Data Transformation"
   ]
  },
  {
   "cell_type": "code",
   "execution_count": 10,
   "metadata": {
    "scrolled": true
   },
   "outputs": [
    {
     "data": {
      "text/html": [
       "<div>\n",
       "<style scoped>\n",
       "    .dataframe tbody tr th:only-of-type {\n",
       "        vertical-align: middle;\n",
       "    }\n",
       "\n",
       "    .dataframe tbody tr th {\n",
       "        vertical-align: top;\n",
       "    }\n",
       "\n",
       "    .dataframe thead th {\n",
       "        text-align: right;\n",
       "    }\n",
       "</style>\n",
       "<table border=\"1\" class=\"dataframe\">\n",
       "  <thead>\n",
       "    <tr style=\"text-align: right;\">\n",
       "      <th></th>\n",
       "      <th>Business Name</th>\n",
       "      <th>Industry</th>\n",
       "      <th>Complaint Type</th>\n",
       "      <th>Mediation Start Date</th>\n",
       "      <th>Mediation Close Date</th>\n",
       "      <th>Satisfaction</th>\n",
       "      <th>Restitution</th>\n",
       "      <th>Business State</th>\n",
       "    </tr>\n",
       "  </thead>\n",
       "  <tbody>\n",
       "    <tr>\n",
       "      <td>4</td>\n",
       "      <td>LEVIA TOUR LLC</td>\n",
       "      <td>Travel Agency - 440</td>\n",
       "      <td>Surcharge/Overcharge - S02</td>\n",
       "      <td>2/1/2019</td>\n",
       "      <td>3/11/2019</td>\n",
       "      <td>NaN</td>\n",
       "      <td>0</td>\n",
       "      <td>NY</td>\n",
       "    </tr>\n",
       "    <tr>\n",
       "      <td>5</td>\n",
       "      <td>MEDICAL EQUIPMENT REPAIRS &amp; DISTRIBUTION INC.</td>\n",
       "      <td>Dealer In Products For The Disabled - 119</td>\n",
       "      <td>Non-Delivery of Goods - N01</td>\n",
       "      <td>1/29/2019</td>\n",
       "      <td>2/14/2019</td>\n",
       "      <td>NaN</td>\n",
       "      <td>0</td>\n",
       "      <td>NY</td>\n",
       "    </tr>\n",
       "    <tr>\n",
       "      <td>7</td>\n",
       "      <td>JML AUTO GROUP LLC</td>\n",
       "      <td>Secondhand Dealer Auto - 005</td>\n",
       "      <td>NaN</td>\n",
       "      <td>6/18/2019</td>\n",
       "      <td>7/16/2019</td>\n",
       "      <td>NaN</td>\n",
       "      <td>0</td>\n",
       "      <td>NY</td>\n",
       "    </tr>\n",
       "    <tr>\n",
       "      <td>12</td>\n",
       "      <td>LIC MOTOR GROUP LLC</td>\n",
       "      <td>Secondhand Dealer Auto - 005</td>\n",
       "      <td>Damaged Goods - D01</td>\n",
       "      <td>8/15/2019</td>\n",
       "      <td>8/20/2019</td>\n",
       "      <td>NaN</td>\n",
       "      <td>0</td>\n",
       "      <td>NY</td>\n",
       "    </tr>\n",
       "    <tr>\n",
       "      <td>17</td>\n",
       "      <td>COHEN'S FASHION OPTICAL OF AMERICA INC</td>\n",
       "      <td>Retail Store - 820</td>\n",
       "      <td>NaN</td>\n",
       "      <td>5/8/2019</td>\n",
       "      <td>6/27/2019</td>\n",
       "      <td>NaN</td>\n",
       "      <td>0</td>\n",
       "      <td>NY</td>\n",
       "    </tr>\n",
       "    <tr>\n",
       "      <td>...</td>\n",
       "      <td>...</td>\n",
       "      <td>...</td>\n",
       "      <td>...</td>\n",
       "      <td>...</td>\n",
       "      <td>...</td>\n",
       "      <td>...</td>\n",
       "      <td>...</td>\n",
       "      <td>...</td>\n",
       "    </tr>\n",
       "    <tr>\n",
       "      <td>2741</td>\n",
       "      <td>WATSON'S PLUMBING &amp; HEATING INC.</td>\n",
       "      <td>Other</td>\n",
       "      <td>Misrepresentation - M01</td>\n",
       "      <td>7/30/2019</td>\n",
       "      <td>8/19/2019</td>\n",
       "      <td>NaN</td>\n",
       "      <td>0</td>\n",
       "      <td>NY</td>\n",
       "    </tr>\n",
       "    <tr>\n",
       "      <td>2754</td>\n",
       "      <td>BOB'S DISCOUNT FURNITURE, LLC</td>\n",
       "      <td>Furniture Sales - 242</td>\n",
       "      <td>Damaged Goods - D01</td>\n",
       "      <td>9/12/2019</td>\n",
       "      <td>10/7/2019</td>\n",
       "      <td>NaN</td>\n",
       "      <td>0</td>\n",
       "      <td>CT</td>\n",
       "    </tr>\n",
       "    <tr>\n",
       "      <td>2758</td>\n",
       "      <td>NEW YORK &amp; COMPANY</td>\n",
       "      <td>Retail Store - 820</td>\n",
       "      <td>Surcharge/Overcharge - S02</td>\n",
       "      <td>10/1/2019</td>\n",
       "      <td>10/11/2019</td>\n",
       "      <td>NaN</td>\n",
       "      <td>0</td>\n",
       "      <td>NY</td>\n",
       "    </tr>\n",
       "    <tr>\n",
       "      <td>2759</td>\n",
       "      <td>SYLHET MOTORS INC.</td>\n",
       "      <td>Secondhand Dealer Auto - 005</td>\n",
       "      <td>Billing Dispute - B02</td>\n",
       "      <td>5/28/2019</td>\n",
       "      <td>6/5/2019</td>\n",
       "      <td>NaN</td>\n",
       "      <td>0</td>\n",
       "      <td>NY</td>\n",
       "    </tr>\n",
       "    <tr>\n",
       "      <td>2774</td>\n",
       "      <td>MIG FURNITURE INC</td>\n",
       "      <td>Furniture Sales - 242</td>\n",
       "      <td>Advertising/Misleading - A02</td>\n",
       "      <td>2/13/2019</td>\n",
       "      <td>3/15/2019</td>\n",
       "      <td>NaN</td>\n",
       "      <td>0</td>\n",
       "      <td>NY</td>\n",
       "    </tr>\n",
       "  </tbody>\n",
       "</table>\n",
       "<p>567 rows × 8 columns</p>\n",
       "</div>"
      ],
      "text/plain": [
       "                                      Business Name  \\\n",
       "4                                    LEVIA TOUR LLC   \n",
       "5     MEDICAL EQUIPMENT REPAIRS & DISTRIBUTION INC.   \n",
       "7                                JML AUTO GROUP LLC   \n",
       "12                              LIC MOTOR GROUP LLC   \n",
       "17           COHEN'S FASHION OPTICAL OF AMERICA INC   \n",
       "...                                             ...   \n",
       "2741               WATSON'S PLUMBING & HEATING INC.   \n",
       "2754                  BOB'S DISCOUNT FURNITURE, LLC   \n",
       "2758                             NEW YORK & COMPANY   \n",
       "2759                             SYLHET MOTORS INC.   \n",
       "2774                              MIG FURNITURE INC   \n",
       "\n",
       "                                       Industry                Complaint Type  \\\n",
       "4                           Travel Agency - 440    Surcharge/Overcharge - S02   \n",
       "5     Dealer In Products For The Disabled - 119   Non-Delivery of Goods - N01   \n",
       "7                  Secondhand Dealer Auto - 005                           NaN   \n",
       "12                 Secondhand Dealer Auto - 005           Damaged Goods - D01   \n",
       "17                           Retail Store - 820                           NaN   \n",
       "...                                         ...                           ...   \n",
       "2741                                      Other       Misrepresentation - M01   \n",
       "2754                      Furniture Sales - 242           Damaged Goods - D01   \n",
       "2758                         Retail Store - 820    Surcharge/Overcharge - S02   \n",
       "2759               Secondhand Dealer Auto - 005         Billing Dispute - B02   \n",
       "2774                      Furniture Sales - 242  Advertising/Misleading - A02   \n",
       "\n",
       "     Mediation Start Date Mediation Close Date Satisfaction Restitution  \\\n",
       "4                2/1/2019            3/11/2019          NaN           0   \n",
       "5               1/29/2019            2/14/2019          NaN           0   \n",
       "7               6/18/2019            7/16/2019          NaN           0   \n",
       "12              8/15/2019            8/20/2019          NaN           0   \n",
       "17               5/8/2019            6/27/2019          NaN           0   \n",
       "...                   ...                  ...          ...         ...   \n",
       "2741            7/30/2019            8/19/2019          NaN           0   \n",
       "2754            9/12/2019            10/7/2019          NaN           0   \n",
       "2758            10/1/2019           10/11/2019          NaN           0   \n",
       "2759            5/28/2019             6/5/2019          NaN           0   \n",
       "2774            2/13/2019            3/15/2019          NaN           0   \n",
       "\n",
       "     Business State  \n",
       "4                NY  \n",
       "5                NY  \n",
       "7                NY  \n",
       "12               NY  \n",
       "17               NY  \n",
       "...             ...  \n",
       "2741             NY  \n",
       "2754             CT  \n",
       "2758             NY  \n",
       "2759             NY  \n",
       "2774             NY  \n",
       "\n",
       "[567 rows x 8 columns]"
      ]
     },
     "execution_count": 10,
     "metadata": {},
     "output_type": "execute_result"
    }
   ],
   "source": [
    "df[df['Satisfaction'].isnull()]  #target column with null records.  We need to delete these records."
   ]
  },
  {
   "cell_type": "code",
   "execution_count": 11,
   "metadata": {},
   "outputs": [],
   "source": [
    "df.drop(df[df.Satisfaction.isnull()].index,axis=0, inplace = True)"
   ]
  },
  {
   "cell_type": "code",
   "execution_count": 12,
   "metadata": {},
   "outputs": [
    {
     "data": {
      "text/plain": [
       "(2225, 8)"
      ]
     },
     "execution_count": 12,
     "metadata": {},
     "output_type": "execute_result"
    }
   ],
   "source": [
    "df.shape"
   ]
  },
  {
   "cell_type": "markdown",
   "metadata": {},
   "source": [
    "### Convert Restitution to float"
   ]
  },
  {
   "cell_type": "code",
   "execution_count": 13,
   "metadata": {},
   "outputs": [
    {
     "name": "stdout",
     "output_type": "stream",
     "text": [
      "Int64Index([318], dtype='int64')\n"
     ]
    },
    {
     "data": {
      "text/plain": [
       "(2224, 8)"
      ]
     },
     "execution_count": 13,
     "metadata": {},
     "output_type": "execute_result"
    }
   ],
   "source": [
    "#need to convert Restitution to float but need to get rid of string record\n",
    "indexNames = df[ df['Restitution'] == 'Yes' ].index\n",
    "print(indexNames)\n",
    "df.drop(indexNames , inplace=True)\n",
    "df.shape"
   ]
  },
  {
   "cell_type": "code",
   "execution_count": 14,
   "metadata": {},
   "outputs": [],
   "source": [
    "#df.dropna(inplace = True) \n",
    "df['Restitution'] = df['Restitution'].astype(float) "
   ]
  },
  {
   "cell_type": "markdown",
   "metadata": {},
   "source": [
    "### Convert categorical variables to string"
   ]
  },
  {
   "cell_type": "code",
   "execution_count": 15,
   "metadata": {},
   "outputs": [],
   "source": [
    "df['Industry'] = df['Industry'].astype('category') \n",
    "df['Complaint Type'] = df['Complaint Type'].astype('category') \n",
    "#df['Complaint Result'] = df['Complaint Result'].astype('category')\n",
    "df['Business State'] = df['Business State'].astype('category')\n"
   ]
  },
  {
   "cell_type": "markdown",
   "metadata": {},
   "source": [
    "### Capture start and close dates for later calculation of duration"
   ]
  },
  {
   "cell_type": "code",
   "execution_count": 16,
   "metadata": {},
   "outputs": [],
   "source": [
    "df['Mediation Start Date'] = pd.to_datetime(df['Mediation Start Date'])\n",
    "df['Mediation Close Date'] = pd.to_datetime(df['Mediation Close Date'])"
   ]
  },
  {
   "cell_type": "code",
   "execution_count": 17,
   "metadata": {},
   "outputs": [
    {
     "name": "stdout",
     "output_type": "stream",
     "text": [
      "<class 'pandas.core.frame.DataFrame'>\n",
      "Int64Index: 2224 entries, 0 to 2791\n",
      "Data columns (total 8 columns):\n",
      "Business Name           2197 non-null object\n",
      "Industry                2224 non-null category\n",
      "Complaint Type          2087 non-null category\n",
      "Mediation Start Date    2224 non-null datetime64[ns]\n",
      "Mediation Close Date    2224 non-null datetime64[ns]\n",
      "Satisfaction            2224 non-null object\n",
      "Restitution             2224 non-null float64\n",
      "Business State          2182 non-null category\n",
      "dtypes: category(3), datetime64[ns](2), float64(1), object(2)\n",
      "memory usage: 116.9+ KB\n"
     ]
    }
   ],
   "source": [
    "df.info()"
   ]
  },
  {
   "cell_type": "code",
   "execution_count": 18,
   "metadata": {},
   "outputs": [
    {
     "data": {
      "text/html": [
       "<div>\n",
       "<style scoped>\n",
       "    .dataframe tbody tr th:only-of-type {\n",
       "        vertical-align: middle;\n",
       "    }\n",
       "\n",
       "    .dataframe tbody tr th {\n",
       "        vertical-align: top;\n",
       "    }\n",
       "\n",
       "    .dataframe thead th {\n",
       "        text-align: right;\n",
       "    }\n",
       "</style>\n",
       "<table border=\"1\" class=\"dataframe\">\n",
       "  <thead>\n",
       "    <tr style=\"text-align: right;\">\n",
       "      <th></th>\n",
       "      <th>Business Name</th>\n",
       "      <th>Industry</th>\n",
       "      <th>Complaint Type</th>\n",
       "      <th>Mediation Start Date</th>\n",
       "      <th>Mediation Close Date</th>\n",
       "      <th>Satisfaction</th>\n",
       "      <th>Restitution</th>\n",
       "      <th>Business State</th>\n",
       "    </tr>\n",
       "  </thead>\n",
       "  <tbody>\n",
       "    <tr>\n",
       "      <td>0</td>\n",
       "      <td>MAJOR WORLD CHEVROLET, L.L.C.</td>\n",
       "      <td>Secondhand Dealer Auto - 005</td>\n",
       "      <td>Damaged Goods - D01</td>\n",
       "      <td>2019-04-26</td>\n",
       "      <td>2019-05-09</td>\n",
       "      <td>No</td>\n",
       "      <td>0.0</td>\n",
       "      <td>NY</td>\n",
       "    </tr>\n",
       "    <tr>\n",
       "      <td>1</td>\n",
       "      <td>CYPRESS MOTORS OF RIDGEWOOD INC,</td>\n",
       "      <td>Secondhand Dealer Auto - 005</td>\n",
       "      <td>Lemon</td>\n",
       "      <td>2019-04-11</td>\n",
       "      <td>2019-05-22</td>\n",
       "      <td>Yes</td>\n",
       "      <td>2400.0</td>\n",
       "      <td>NY</td>\n",
       "    </tr>\n",
       "    <tr>\n",
       "      <td>2</td>\n",
       "      <td>FINEST AUTOMOTIVE RECOVERY INC</td>\n",
       "      <td>Tow Truck Company - 124</td>\n",
       "      <td>Billing Dispute - B02</td>\n",
       "      <td>2019-04-10</td>\n",
       "      <td>2019-05-07</td>\n",
       "      <td>Yes</td>\n",
       "      <td>60.0</td>\n",
       "      <td>NY</td>\n",
       "    </tr>\n",
       "    <tr>\n",
       "      <td>3</td>\n",
       "      <td>U NICE LAUNDRY INC</td>\n",
       "      <td>Laundry - 064</td>\n",
       "      <td>Refund Policy - R01</td>\n",
       "      <td>2019-11-25</td>\n",
       "      <td>2019-12-10</td>\n",
       "      <td>Yes</td>\n",
       "      <td>4.0</td>\n",
       "      <td>NY</td>\n",
       "    </tr>\n",
       "    <tr>\n",
       "      <td>6</td>\n",
       "      <td>S + A REMODELLING INC.</td>\n",
       "      <td>Home Improvement Contractor - 100</td>\n",
       "      <td>Refund Policy - R01</td>\n",
       "      <td>2019-03-05</td>\n",
       "      <td>2019-04-08</td>\n",
       "      <td>Yes</td>\n",
       "      <td>10900.0</td>\n",
       "      <td>NY</td>\n",
       "    </tr>\n",
       "  </tbody>\n",
       "</table>\n",
       "</div>"
      ],
      "text/plain": [
       "                      Business Name                           Industry  \\\n",
       "0     MAJOR WORLD CHEVROLET, L.L.C.       Secondhand Dealer Auto - 005   \n",
       "1  CYPRESS MOTORS OF RIDGEWOOD INC,       Secondhand Dealer Auto - 005   \n",
       "2    FINEST AUTOMOTIVE RECOVERY INC            Tow Truck Company - 124   \n",
       "3                U NICE LAUNDRY INC                      Laundry - 064   \n",
       "6            S + A REMODELLING INC.  Home Improvement Contractor - 100   \n",
       "\n",
       "          Complaint Type Mediation Start Date Mediation Close Date  \\\n",
       "0    Damaged Goods - D01           2019-04-26           2019-05-09   \n",
       "1                  Lemon           2019-04-11           2019-05-22   \n",
       "2  Billing Dispute - B02           2019-04-10           2019-05-07   \n",
       "3    Refund Policy - R01           2019-11-25           2019-12-10   \n",
       "6    Refund Policy - R01           2019-03-05           2019-04-08   \n",
       "\n",
       "  Satisfaction  Restitution Business State  \n",
       "0           No          0.0             NY  \n",
       "1          Yes       2400.0             NY  \n",
       "2          Yes         60.0             NY  \n",
       "3          Yes          4.0             NY  \n",
       "6          Yes      10900.0             NY  "
      ]
     },
     "execution_count": 18,
     "metadata": {},
     "output_type": "execute_result"
    }
   ],
   "source": [
    "df.head()"
   ]
  },
  {
   "cell_type": "markdown",
   "metadata": {},
   "source": [
    "### Converting categorical variables to standard spreadsheet format"
   ]
  },
  {
   "cell_type": "code",
   "execution_count": 19,
   "metadata": {},
   "outputs": [],
   "source": [
    "# split each category into SSF to later to merge back to dfcopy \n",
    "# dfcopy will be in standard spreadsheet format\n",
    "df_ssfIndustry = pd.get_dummies(df['Industry'])\n",
    "df_ssfCompType = pd.get_dummies(df['Complaint Type'])\n",
    "#df_ssfCompResult = pd.get_dummies(df['Complaint Result'])\n",
    "df_ssfBusState = pd.get_dummies(df['Business State'])"
   ]
  },
  {
   "cell_type": "code",
   "execution_count": 20,
   "metadata": {},
   "outputs": [],
   "source": [
    "#### made a copy of df so we don't affect the df stats and visualizations\n",
    "dfcopy = df\n",
    "dfcopy = dfcopy.drop(columns=['Industry', 'Complaint Type', 'Business State'])"
   ]
  },
  {
   "cell_type": "code",
   "execution_count": 21,
   "metadata": {},
   "outputs": [],
   "source": [
    "dfcopy = pd.concat([dfcopy, df_ssfIndustry], axis=1).reindex(dfcopy.index)"
   ]
  },
  {
   "cell_type": "code",
   "execution_count": 22,
   "metadata": {},
   "outputs": [],
   "source": [
    "dfcopy = pd.concat([dfcopy, df_ssfCompType], axis=1).reindex(dfcopy.index)"
   ]
  },
  {
   "cell_type": "code",
   "execution_count": 23,
   "metadata": {},
   "outputs": [],
   "source": [
    "dfcopy = pd.concat([dfcopy, df_ssfBusState], axis=1).reindex(dfcopy.index)"
   ]
  },
  {
   "cell_type": "code",
   "execution_count": 24,
   "metadata": {},
   "outputs": [
    {
     "data": {
      "text/html": [
       "<div>\n",
       "<style scoped>\n",
       "    .dataframe tbody tr th:only-of-type {\n",
       "        vertical-align: middle;\n",
       "    }\n",
       "\n",
       "    .dataframe tbody tr th {\n",
       "        vertical-align: top;\n",
       "    }\n",
       "\n",
       "    .dataframe thead th {\n",
       "        text-align: right;\n",
       "    }\n",
       "</style>\n",
       "<table border=\"1\" class=\"dataframe\">\n",
       "  <thead>\n",
       "    <tr style=\"text-align: right;\">\n",
       "      <th></th>\n",
       "      <th>Business Name</th>\n",
       "      <th>Mediation Start Date</th>\n",
       "      <th>Mediation Close Date</th>\n",
       "      <th>Satisfaction</th>\n",
       "      <th>Restitution</th>\n",
       "      <th>Appliances - 244</th>\n",
       "      <th>Auction House - 128</th>\n",
       "      <th>Auto Dealership - 212</th>\n",
       "      <th>Auto Leasing - 211</th>\n",
       "      <th>Auto Rental - 213</th>\n",
       "      <th>...</th>\n",
       "      <th>OH</th>\n",
       "      <th>PA</th>\n",
       "      <th>RI</th>\n",
       "      <th>SC</th>\n",
       "      <th>TN</th>\n",
       "      <th>TX</th>\n",
       "      <th>UT</th>\n",
       "      <th>VA</th>\n",
       "      <th>WA</th>\n",
       "      <th>WI</th>\n",
       "    </tr>\n",
       "  </thead>\n",
       "  <tbody>\n",
       "    <tr>\n",
       "      <td>0</td>\n",
       "      <td>MAJOR WORLD CHEVROLET, L.L.C.</td>\n",
       "      <td>2019-04-26</td>\n",
       "      <td>2019-05-09</td>\n",
       "      <td>No</td>\n",
       "      <td>0.0</td>\n",
       "      <td>0</td>\n",
       "      <td>0</td>\n",
       "      <td>0</td>\n",
       "      <td>0</td>\n",
       "      <td>0</td>\n",
       "      <td>...</td>\n",
       "      <td>0</td>\n",
       "      <td>0</td>\n",
       "      <td>0</td>\n",
       "      <td>0</td>\n",
       "      <td>0</td>\n",
       "      <td>0</td>\n",
       "      <td>0</td>\n",
       "      <td>0</td>\n",
       "      <td>0</td>\n",
       "      <td>0</td>\n",
       "    </tr>\n",
       "    <tr>\n",
       "      <td>1</td>\n",
       "      <td>CYPRESS MOTORS OF RIDGEWOOD INC,</td>\n",
       "      <td>2019-04-11</td>\n",
       "      <td>2019-05-22</td>\n",
       "      <td>Yes</td>\n",
       "      <td>2400.0</td>\n",
       "      <td>0</td>\n",
       "      <td>0</td>\n",
       "      <td>0</td>\n",
       "      <td>0</td>\n",
       "      <td>0</td>\n",
       "      <td>...</td>\n",
       "      <td>0</td>\n",
       "      <td>0</td>\n",
       "      <td>0</td>\n",
       "      <td>0</td>\n",
       "      <td>0</td>\n",
       "      <td>0</td>\n",
       "      <td>0</td>\n",
       "      <td>0</td>\n",
       "      <td>0</td>\n",
       "      <td>0</td>\n",
       "    </tr>\n",
       "    <tr>\n",
       "      <td>2</td>\n",
       "      <td>FINEST AUTOMOTIVE RECOVERY INC</td>\n",
       "      <td>2019-04-10</td>\n",
       "      <td>2019-05-07</td>\n",
       "      <td>Yes</td>\n",
       "      <td>60.0</td>\n",
       "      <td>0</td>\n",
       "      <td>0</td>\n",
       "      <td>0</td>\n",
       "      <td>0</td>\n",
       "      <td>0</td>\n",
       "      <td>...</td>\n",
       "      <td>0</td>\n",
       "      <td>0</td>\n",
       "      <td>0</td>\n",
       "      <td>0</td>\n",
       "      <td>0</td>\n",
       "      <td>0</td>\n",
       "      <td>0</td>\n",
       "      <td>0</td>\n",
       "      <td>0</td>\n",
       "      <td>0</td>\n",
       "    </tr>\n",
       "    <tr>\n",
       "      <td>3</td>\n",
       "      <td>U NICE LAUNDRY INC</td>\n",
       "      <td>2019-11-25</td>\n",
       "      <td>2019-12-10</td>\n",
       "      <td>Yes</td>\n",
       "      <td>4.0</td>\n",
       "      <td>0</td>\n",
       "      <td>0</td>\n",
       "      <td>0</td>\n",
       "      <td>0</td>\n",
       "      <td>0</td>\n",
       "      <td>...</td>\n",
       "      <td>0</td>\n",
       "      <td>0</td>\n",
       "      <td>0</td>\n",
       "      <td>0</td>\n",
       "      <td>0</td>\n",
       "      <td>0</td>\n",
       "      <td>0</td>\n",
       "      <td>0</td>\n",
       "      <td>0</td>\n",
       "      <td>0</td>\n",
       "    </tr>\n",
       "    <tr>\n",
       "      <td>6</td>\n",
       "      <td>S + A REMODELLING INC.</td>\n",
       "      <td>2019-03-05</td>\n",
       "      <td>2019-04-08</td>\n",
       "      <td>Yes</td>\n",
       "      <td>10900.0</td>\n",
       "      <td>0</td>\n",
       "      <td>0</td>\n",
       "      <td>0</td>\n",
       "      <td>0</td>\n",
       "      <td>0</td>\n",
       "      <td>...</td>\n",
       "      <td>0</td>\n",
       "      <td>0</td>\n",
       "      <td>0</td>\n",
       "      <td>0</td>\n",
       "      <td>0</td>\n",
       "      <td>0</td>\n",
       "      <td>0</td>\n",
       "      <td>0</td>\n",
       "      <td>0</td>\n",
       "      <td>0</td>\n",
       "    </tr>\n",
       "  </tbody>\n",
       "</table>\n",
       "<p>5 rows × 144 columns</p>\n",
       "</div>"
      ],
      "text/plain": [
       "                      Business Name Mediation Start Date Mediation Close Date  \\\n",
       "0     MAJOR WORLD CHEVROLET, L.L.C.           2019-04-26           2019-05-09   \n",
       "1  CYPRESS MOTORS OF RIDGEWOOD INC,           2019-04-11           2019-05-22   \n",
       "2    FINEST AUTOMOTIVE RECOVERY INC           2019-04-10           2019-05-07   \n",
       "3                U NICE LAUNDRY INC           2019-11-25           2019-12-10   \n",
       "6            S + A REMODELLING INC.           2019-03-05           2019-04-08   \n",
       "\n",
       "  Satisfaction  Restitution  Appliances - 244  Auction House - 128  \\\n",
       "0           No          0.0                 0                    0   \n",
       "1          Yes       2400.0                 0                    0   \n",
       "2          Yes         60.0                 0                    0   \n",
       "3          Yes          4.0                 0                    0   \n",
       "6          Yes      10900.0                 0                    0   \n",
       "\n",
       "   Auto Dealership - 212  Auto Leasing - 211  Auto Rental - 213  ...  OH  PA  \\\n",
       "0                      0                   0                  0  ...   0   0   \n",
       "1                      0                   0                  0  ...   0   0   \n",
       "2                      0                   0                  0  ...   0   0   \n",
       "3                      0                   0                  0  ...   0   0   \n",
       "6                      0                   0                  0  ...   0   0   \n",
       "\n",
       "   RI  SC  TN  TX  UT  VA  WA  WI  \n",
       "0   0   0   0   0   0   0   0   0  \n",
       "1   0   0   0   0   0   0   0   0  \n",
       "2   0   0   0   0   0   0   0   0  \n",
       "3   0   0   0   0   0   0   0   0  \n",
       "6   0   0   0   0   0   0   0   0  \n",
       "\n",
       "[5 rows x 144 columns]"
      ]
     },
     "execution_count": 24,
     "metadata": {},
     "output_type": "execute_result"
    }
   ],
   "source": [
    "dfcopy.head()"
   ]
  },
  {
   "cell_type": "code",
   "execution_count": 25,
   "metadata": {},
   "outputs": [
    {
     "data": {
      "text/plain": [
       "(2224, 144)"
      ]
     },
     "execution_count": 25,
     "metadata": {},
     "output_type": "execute_result"
    }
   ],
   "source": [
    "dfcopy.shape"
   ]
  },
  {
   "cell_type": "code",
   "execution_count": 26,
   "metadata": {},
   "outputs": [
    {
     "data": {
      "text/plain": [
       "Index(['Business Name', 'Mediation Start Date', 'Mediation Close Date',\n",
       "       'Satisfaction', 'Restitution', 'Appliances - 244',\n",
       "       'Auction House - 128', 'Auto Dealership - 212', 'Auto Leasing - 211',\n",
       "       'Auto Rental - 213',\n",
       "       ...\n",
       "       'OH', 'PA', 'RI', 'SC', 'TN', 'TX', 'UT', 'VA', 'WA', 'WI'],\n",
       "      dtype='object', length=144)"
      ]
     },
     "execution_count": 26,
     "metadata": {},
     "output_type": "execute_result"
    }
   ],
   "source": [
    "dfcopy.columns"
   ]
  },
  {
   "cell_type": "code",
   "execution_count": 27,
   "metadata": {},
   "outputs": [
    {
     "name": "stdout",
     "output_type": "stream",
     "text": [
      "<class 'pandas.core.frame.DataFrame'>\n",
      "Int64Index: 2224 entries, 0 to 2791\n",
      "Columns: 144 entries, Business Name to WI\n",
      "dtypes: datetime64[ns](2), float64(1), object(2), uint8(139)\n",
      "memory usage: 406.1+ KB\n"
     ]
    }
   ],
   "source": [
    "dfcopy.info()"
   ]
  },
  {
   "cell_type": "code",
   "execution_count": 28,
   "metadata": {},
   "outputs": [
    {
     "data": {
      "text/html": [
       "<div>\n",
       "<style scoped>\n",
       "    .dataframe tbody tr th:only-of-type {\n",
       "        vertical-align: middle;\n",
       "    }\n",
       "\n",
       "    .dataframe tbody tr th {\n",
       "        vertical-align: top;\n",
       "    }\n",
       "\n",
       "    .dataframe thead th {\n",
       "        text-align: right;\n",
       "    }\n",
       "</style>\n",
       "<table border=\"1\" class=\"dataframe\">\n",
       "  <thead>\n",
       "    <tr style=\"text-align: right;\">\n",
       "      <th></th>\n",
       "      <th>Business Name</th>\n",
       "      <th>Mediation Start Date</th>\n",
       "      <th>Mediation Close Date</th>\n",
       "      <th>Satisfaction</th>\n",
       "      <th>Restitution</th>\n",
       "      <th>Appliances - 244</th>\n",
       "      <th>Auction House - 128</th>\n",
       "      <th>Auto Dealership - 212</th>\n",
       "      <th>Auto Leasing - 211</th>\n",
       "      <th>Auto Rental - 213</th>\n",
       "      <th>...</th>\n",
       "      <th>OH</th>\n",
       "      <th>PA</th>\n",
       "      <th>RI</th>\n",
       "      <th>SC</th>\n",
       "      <th>TN</th>\n",
       "      <th>TX</th>\n",
       "      <th>UT</th>\n",
       "      <th>VA</th>\n",
       "      <th>WA</th>\n",
       "      <th>WI</th>\n",
       "    </tr>\n",
       "  </thead>\n",
       "  <tbody>\n",
       "    <tr>\n",
       "      <td>0</td>\n",
       "      <td>MAJOR WORLD CHEVROLET, L.L.C.</td>\n",
       "      <td>2019-04-26</td>\n",
       "      <td>2019-05-09</td>\n",
       "      <td>No</td>\n",
       "      <td>0.0</td>\n",
       "      <td>0</td>\n",
       "      <td>0</td>\n",
       "      <td>0</td>\n",
       "      <td>0</td>\n",
       "      <td>0</td>\n",
       "      <td>...</td>\n",
       "      <td>0</td>\n",
       "      <td>0</td>\n",
       "      <td>0</td>\n",
       "      <td>0</td>\n",
       "      <td>0</td>\n",
       "      <td>0</td>\n",
       "      <td>0</td>\n",
       "      <td>0</td>\n",
       "      <td>0</td>\n",
       "      <td>0</td>\n",
       "    </tr>\n",
       "    <tr>\n",
       "      <td>1</td>\n",
       "      <td>CYPRESS MOTORS OF RIDGEWOOD INC,</td>\n",
       "      <td>2019-04-11</td>\n",
       "      <td>2019-05-22</td>\n",
       "      <td>Yes</td>\n",
       "      <td>2400.0</td>\n",
       "      <td>0</td>\n",
       "      <td>0</td>\n",
       "      <td>0</td>\n",
       "      <td>0</td>\n",
       "      <td>0</td>\n",
       "      <td>...</td>\n",
       "      <td>0</td>\n",
       "      <td>0</td>\n",
       "      <td>0</td>\n",
       "      <td>0</td>\n",
       "      <td>0</td>\n",
       "      <td>0</td>\n",
       "      <td>0</td>\n",
       "      <td>0</td>\n",
       "      <td>0</td>\n",
       "      <td>0</td>\n",
       "    </tr>\n",
       "    <tr>\n",
       "      <td>2</td>\n",
       "      <td>FINEST AUTOMOTIVE RECOVERY INC</td>\n",
       "      <td>2019-04-10</td>\n",
       "      <td>2019-05-07</td>\n",
       "      <td>Yes</td>\n",
       "      <td>60.0</td>\n",
       "      <td>0</td>\n",
       "      <td>0</td>\n",
       "      <td>0</td>\n",
       "      <td>0</td>\n",
       "      <td>0</td>\n",
       "      <td>...</td>\n",
       "      <td>0</td>\n",
       "      <td>0</td>\n",
       "      <td>0</td>\n",
       "      <td>0</td>\n",
       "      <td>0</td>\n",
       "      <td>0</td>\n",
       "      <td>0</td>\n",
       "      <td>0</td>\n",
       "      <td>0</td>\n",
       "      <td>0</td>\n",
       "    </tr>\n",
       "  </tbody>\n",
       "</table>\n",
       "<p>3 rows × 144 columns</p>\n",
       "</div>"
      ],
      "text/plain": [
       "                      Business Name Mediation Start Date Mediation Close Date  \\\n",
       "0     MAJOR WORLD CHEVROLET, L.L.C.           2019-04-26           2019-05-09   \n",
       "1  CYPRESS MOTORS OF RIDGEWOOD INC,           2019-04-11           2019-05-22   \n",
       "2    FINEST AUTOMOTIVE RECOVERY INC           2019-04-10           2019-05-07   \n",
       "\n",
       "  Satisfaction  Restitution  Appliances - 244  Auction House - 128  \\\n",
       "0           No          0.0                 0                    0   \n",
       "1          Yes       2400.0                 0                    0   \n",
       "2          Yes         60.0                 0                    0   \n",
       "\n",
       "   Auto Dealership - 212  Auto Leasing - 211  Auto Rental - 213  ...  OH  PA  \\\n",
       "0                      0                   0                  0  ...   0   0   \n",
       "1                      0                   0                  0  ...   0   0   \n",
       "2                      0                   0                  0  ...   0   0   \n",
       "\n",
       "   RI  SC  TN  TX  UT  VA  WA  WI  \n",
       "0   0   0   0   0   0   0   0   0  \n",
       "1   0   0   0   0   0   0   0   0  \n",
       "2   0   0   0   0   0   0   0   0  \n",
       "\n",
       "[3 rows x 144 columns]"
      ]
     },
     "execution_count": 28,
     "metadata": {},
     "output_type": "execute_result"
    }
   ],
   "source": [
    "dfcopy.head(3)"
   ]
  },
  {
   "cell_type": "markdown",
   "metadata": {},
   "source": [
    "# General Descriptive Statistics"
   ]
  },
  {
   "cell_type": "markdown",
   "metadata": {},
   "source": [
    "### Data Visualization"
   ]
  },
  {
   "cell_type": "code",
   "execution_count": 29,
   "metadata": {},
   "outputs": [
    {
     "data": {
      "text/plain": [
       "<matplotlib.axes._subplots.AxesSubplot at 0x18aec2efa08>"
      ]
     },
     "execution_count": 29,
     "metadata": {},
     "output_type": "execute_result"
    },
    {
     "data": {
      "image/png": "[encoded data removed]",
      "text/plain": [
       "<Figure size 432x288 with 1 Axes>"
      ]
     },
     "metadata": {
      "needs_background": "light"
     },
     "output_type": "display_data"
    }
   ],
   "source": [
    "# Distribution of count by satisfaction\n",
    "df[\"Satisfaction\"].value_counts().plot(kind='bar')"
   ]
  },
  {
   "cell_type": "code",
   "execution_count": 30,
   "metadata": {},
   "outputs": [
    {
     "data": {
      "text/plain": [
       "<matplotlib.axes._subplots.AxesSubplot at 0x18aec859f08>"
      ]
     },
     "execution_count": 30,
     "metadata": {},
     "output_type": "execute_result"
    },
    {
     "data": {
      "image/png": "[encoded data removed]",
      "text/plain": [
       "<Figure size 432x288 with 1 Axes>"
      ]
     },
     "metadata": {
      "needs_background": "light"
     },
     "output_type": "display_data"
    }
   ],
   "source": [
    "# Distribution of count by satisfaction\n",
    "df[\"Business State\"].value_counts().plot(kind='bar')"
   ]
  },
  {
   "cell_type": "code",
   "execution_count": 31,
   "metadata": {},
   "outputs": [
    {
     "data": {
      "text/plain": [
       "<matplotlib.axes._subplots.AxesSubplot at 0x18aec9e0148>"
      ]
     },
     "execution_count": 31,
     "metadata": {},
     "output_type": "execute_result"
    },
    {
     "data": {
      "image/png": "[encoded data removed]",
      "text/plain": [
       "<Figure size 720x288 with 2 Axes>"
      ]
     },
     "metadata": {
      "needs_background": "light"
     },
     "output_type": "display_data"
    }
   ],
   "source": [
    "# Percentage Distribution by Industry and by Complaint Type\n",
    "temp1 = df[\"Industry\"].value_counts()/df[\"Industry\"].count()\n",
    "temp2 = df[\"Complaint Type\"].value_counts()/df[\"Complaint Type\"].count()\n",
    "temp2\n",
    "\n",
    "fig = plt.figure(figsize=(10,4))\n",
    "ax1 = fig.add_subplot(121)\n",
    "ax1.set_xlabel('Industry')\n",
    "ax1.set_ylabel('Percentage')\n",
    "ax1.set_title(\"Industry Distribution\")\n",
    "temp1.plot(kind='bar', grid = True)\n",
    "\n",
    "ax1 = fig.add_subplot(122)\n",
    "ax1.set_xlabel('Complaint Type')\n",
    "ax1.set_ylabel('Percentage')\n",
    "ax1.set_title(\"Complaint Type Distribution\")\n",
    "temp2.plot(kind='bar', grid = True)"
   ]
  },
  {
   "cell_type": "code",
   "execution_count": 32,
   "metadata": {},
   "outputs": [
    {
     "data": {
      "text/plain": [
       "<matplotlib.axes._subplots.AxesSubplot at 0x18aedcd3b88>"
      ]
     },
     "execution_count": 32,
     "metadata": {},
     "output_type": "execute_result"
    },
    {
     "data": {
      "image/png": "[encoded data removed]",
      "text/plain": [
       "<Figure size 432x288 with 1 Axes>"
      ]
     },
     "metadata": {
      "needs_background": "light"
     },
     "output_type": "display_data"
    }
   ],
   "source": [
    "# Count of Complaints by Industry\n",
    "df[\"Industry\"].value_counts().plot(kind='bar')"
   ]
  },
  {
   "cell_type": "code",
   "execution_count": 33,
   "metadata": {},
   "outputs": [
    {
     "data": {
      "text/plain": [
       "<matplotlib.axes._subplots.AxesSubplot at 0x18aedfb5548>"
      ]
     },
     "execution_count": 33,
     "metadata": {},
     "output_type": "execute_result"
    },
    {
     "data": {
      "image/png": "[encoded data removed]",
      "text/plain": [
       "<Figure size 432x288 with 1 Axes>"
      ]
     },
     "metadata": {
      "needs_background": "light"
     },
     "output_type": "display_data"
    }
   ],
   "source": [
    "# Count of Complaints by Type\n",
    "df[\"Complaint Type\"].value_counts().plot(kind='bar')"
   ]
  },
  {
   "cell_type": "code",
   "execution_count": 34,
   "metadata": {},
   "outputs": [
    {
     "data": {
      "text/plain": [
       "count     2224.000000\n",
       "mean       416.788669\n",
       "std       2635.218632\n",
       "min          0.000000\n",
       "25%          0.000000\n",
       "50%          0.000000\n",
       "75%         62.250000\n",
       "max      71928.000000\n",
       "Name: Restitution, dtype: float64"
      ]
     },
     "execution_count": 34,
     "metadata": {},
     "output_type": "execute_result"
    }
   ],
   "source": [
    "# restitution amounts are skewed\n",
    "df[\"Restitution\"].describe()"
   ]
  },
  {
   "cell_type": "code",
   "execution_count": 35,
   "metadata": {},
   "outputs": [
    {
     "data": {
      "text/plain": [
       "<matplotlib.axes._subplots.AxesSubplot at 0x18aee128648>"
      ]
     },
     "execution_count": 35,
     "metadata": {},
     "output_type": "execute_result"
    },
    {
     "data": {
      "image/png": "[encoded data removed]",
      "text/plain": [
       "<Figure size 864x576 with 1 Axes>"
      ]
     },
     "metadata": {
      "needs_background": "light"
     },
     "output_type": "display_data"
    }
   ],
   "source": [
    "# Restitution distribution\n",
    "df.boxplot(column=[\"Restitution\"], return_type='axes', figsize=(12,8))"
   ]
  },
  {
   "cell_type": "code",
   "execution_count": 36,
   "metadata": {},
   "outputs": [
    {
     "data": {
      "text/plain": [
       "<function matplotlib.pyplot.show(*args, **kw)>"
      ]
     },
     "execution_count": 36,
     "metadata": {},
     "output_type": "execute_result"
    },
    {
     "data": {
      "image/png": "[encoded data removed]",
      "text/plain": [
       "<Figure size 432x288 with 1 Axes>"
      ]
     },
     "metadata": {
      "needs_background": "light"
     },
     "output_type": "display_data"
    }
   ],
   "source": [
    "y = np.linspace(-1, 3000, 100) # this doesn't look consistent with the describe, which shows that 75% are 0\n",
    "plt.figure()\n",
    "plt.hist(df[\"Restitution\"], bins = 7)\n",
    "plt.xlabel(\"amounts\")\n",
    "plt.ylabel(\"frequency\")\n",
    "plt.title(\"Distribution of payouts\")\n",
    "plt.show"
   ]
  },
  {
   "cell_type": "code",
   "execution_count": 37,
   "metadata": {},
   "outputs": [
    {
     "data": {
      "text/plain": [
       "count     2224.000000\n",
       "mean       416.788669\n",
       "std       2635.218632\n",
       "min          0.000000\n",
       "25%          0.000000\n",
       "50%          0.000000\n",
       "75%         62.250000\n",
       "max      71928.000000\n",
       "Name: Restitution, dtype: float64"
      ]
     },
     "execution_count": 37,
     "metadata": {},
     "output_type": "execute_result"
    }
   ],
   "source": [
    "df[\"Restitution\"].describe()"
   ]
  },
  {
   "cell_type": "markdown",
   "metadata": {},
   "source": [
    "### Data Exploration"
   ]
  },
  {
   "cell_type": "code",
   "execution_count": 38,
   "metadata": {},
   "outputs": [
    {
     "data": {
      "text/html": [
       "<div>\n",
       "<style scoped>\n",
       "    .dataframe tbody tr th:only-of-type {\n",
       "        vertical-align: middle;\n",
       "    }\n",
       "\n",
       "    .dataframe tbody tr th {\n",
       "        vertical-align: top;\n",
       "    }\n",
       "\n",
       "    .dataframe thead th {\n",
       "        text-align: right;\n",
       "    }\n",
       "</style>\n",
       "<table border=\"1\" class=\"dataframe\">\n",
       "  <thead>\n",
       "    <tr style=\"text-align: right;\">\n",
       "      <th></th>\n",
       "      <th>Restitution</th>\n",
       "    </tr>\n",
       "  </thead>\n",
       "  <tbody>\n",
       "    <tr>\n",
       "      <td>count</td>\n",
       "      <td>2224.000000</td>\n",
       "    </tr>\n",
       "    <tr>\n",
       "      <td>mean</td>\n",
       "      <td>416.788669</td>\n",
       "    </tr>\n",
       "    <tr>\n",
       "      <td>std</td>\n",
       "      <td>2635.218632</td>\n",
       "    </tr>\n",
       "    <tr>\n",
       "      <td>min</td>\n",
       "      <td>0.000000</td>\n",
       "    </tr>\n",
       "    <tr>\n",
       "      <td>25%</td>\n",
       "      <td>0.000000</td>\n",
       "    </tr>\n",
       "    <tr>\n",
       "      <td>50%</td>\n",
       "      <td>0.000000</td>\n",
       "    </tr>\n",
       "    <tr>\n",
       "      <td>75%</td>\n",
       "      <td>62.250000</td>\n",
       "    </tr>\n",
       "    <tr>\n",
       "      <td>max</td>\n",
       "      <td>71928.000000</td>\n",
       "    </tr>\n",
       "  </tbody>\n",
       "</table>\n",
       "</div>"
      ],
      "text/plain": [
       "        Restitution\n",
       "count   2224.000000\n",
       "mean     416.788669\n",
       "std     2635.218632\n",
       "min        0.000000\n",
       "25%        0.000000\n",
       "50%        0.000000\n",
       "75%       62.250000\n",
       "max    71928.000000"
      ]
     },
     "execution_count": 38,
     "metadata": {},
     "output_type": "execute_result"
    }
   ],
   "source": [
    "# DF is the dataframe we started with\n",
    "df.describe()"
   ]
  },
  {
   "cell_type": "code",
   "execution_count": 39,
   "metadata": {},
   "outputs": [
    {
     "data": {
      "text/html": [
       "<div>\n",
       "<style scoped>\n",
       "    .dataframe tbody tr th:only-of-type {\n",
       "        vertical-align: middle;\n",
       "    }\n",
       "\n",
       "    .dataframe tbody tr th {\n",
       "        vertical-align: top;\n",
       "    }\n",
       "\n",
       "    .dataframe thead th {\n",
       "        text-align: right;\n",
       "    }\n",
       "</style>\n",
       "<table border=\"1\" class=\"dataframe\">\n",
       "  <thead>\n",
       "    <tr style=\"text-align: right;\">\n",
       "      <th></th>\n",
       "      <th>Restitution</th>\n",
       "      <th>Appliances - 244</th>\n",
       "      <th>Auction House - 128</th>\n",
       "      <th>Auto Dealership - 212</th>\n",
       "      <th>Auto Leasing - 211</th>\n",
       "      <th>Auto Rental - 213</th>\n",
       "      <th>Booting Company - 126</th>\n",
       "      <th>Car Wash</th>\n",
       "      <th>Catering Establishment - 075</th>\n",
       "      <th>Dealer In Products For The Disabled - 119</th>\n",
       "      <th>...</th>\n",
       "      <th>OH</th>\n",
       "      <th>PA</th>\n",
       "      <th>RI</th>\n",
       "      <th>SC</th>\n",
       "      <th>TN</th>\n",
       "      <th>TX</th>\n",
       "      <th>UT</th>\n",
       "      <th>VA</th>\n",
       "      <th>WA</th>\n",
       "      <th>WI</th>\n",
       "    </tr>\n",
       "  </thead>\n",
       "  <tbody>\n",
       "    <tr>\n",
       "      <td>count</td>\n",
       "      <td>2224.000000</td>\n",
       "      <td>2224.000000</td>\n",
       "      <td>2224.000000</td>\n",
       "      <td>2224.000000</td>\n",
       "      <td>2224.000000</td>\n",
       "      <td>2224.000000</td>\n",
       "      <td>2224.000000</td>\n",
       "      <td>2224.000000</td>\n",
       "      <td>2224.000000</td>\n",
       "      <td>2224.000000</td>\n",
       "      <td>...</td>\n",
       "      <td>2224.000000</td>\n",
       "      <td>2224.000000</td>\n",
       "      <td>2224.000000</td>\n",
       "      <td>2224.000000</td>\n",
       "      <td>2224.000000</td>\n",
       "      <td>2224.000000</td>\n",
       "      <td>2224.000000</td>\n",
       "      <td>2224.000000</td>\n",
       "      <td>2224.000000</td>\n",
       "      <td>2224.000000</td>\n",
       "    </tr>\n",
       "    <tr>\n",
       "      <td>mean</td>\n",
       "      <td>416.788669</td>\n",
       "      <td>0.018435</td>\n",
       "      <td>0.004047</td>\n",
       "      <td>0.000450</td>\n",
       "      <td>0.000450</td>\n",
       "      <td>0.006295</td>\n",
       "      <td>0.001349</td>\n",
       "      <td>0.001349</td>\n",
       "      <td>0.000899</td>\n",
       "      <td>0.000450</td>\n",
       "      <td>...</td>\n",
       "      <td>0.004496</td>\n",
       "      <td>0.012140</td>\n",
       "      <td>0.001349</td>\n",
       "      <td>0.003147</td>\n",
       "      <td>0.001799</td>\n",
       "      <td>0.017086</td>\n",
       "      <td>0.002248</td>\n",
       "      <td>0.005845</td>\n",
       "      <td>0.008993</td>\n",
       "      <td>0.010342</td>\n",
       "    </tr>\n",
       "    <tr>\n",
       "      <td>std</td>\n",
       "      <td>2635.218632</td>\n",
       "      <td>0.134549</td>\n",
       "      <td>0.063500</td>\n",
       "      <td>0.021205</td>\n",
       "      <td>0.021205</td>\n",
       "      <td>0.079108</td>\n",
       "      <td>0.036711</td>\n",
       "      <td>0.036711</td>\n",
       "      <td>0.029981</td>\n",
       "      <td>0.021205</td>\n",
       "      <td>...</td>\n",
       "      <td>0.066919</td>\n",
       "      <td>0.109537</td>\n",
       "      <td>0.036711</td>\n",
       "      <td>0.056027</td>\n",
       "      <td>0.042381</td>\n",
       "      <td>0.129622</td>\n",
       "      <td>0.047373</td>\n",
       "      <td>0.076248</td>\n",
       "      <td>0.094424</td>\n",
       "      <td>0.101190</td>\n",
       "    </tr>\n",
       "    <tr>\n",
       "      <td>min</td>\n",
       "      <td>0.000000</td>\n",
       "      <td>0.000000</td>\n",
       "      <td>0.000000</td>\n",
       "      <td>0.000000</td>\n",
       "      <td>0.000000</td>\n",
       "      <td>0.000000</td>\n",
       "      <td>0.000000</td>\n",
       "      <td>0.000000</td>\n",
       "      <td>0.000000</td>\n",
       "      <td>0.000000</td>\n",
       "      <td>...</td>\n",
       "      <td>0.000000</td>\n",
       "      <td>0.000000</td>\n",
       "      <td>0.000000</td>\n",
       "      <td>0.000000</td>\n",
       "      <td>0.000000</td>\n",
       "      <td>0.000000</td>\n",
       "      <td>0.000000</td>\n",
       "      <td>0.000000</td>\n",
       "      <td>0.000000</td>\n",
       "      <td>0.000000</td>\n",
       "    </tr>\n",
       "    <tr>\n",
       "      <td>25%</td>\n",
       "      <td>0.000000</td>\n",
       "      <td>0.000000</td>\n",
       "      <td>0.000000</td>\n",
       "      <td>0.000000</td>\n",
       "      <td>0.000000</td>\n",
       "      <td>0.000000</td>\n",
       "      <td>0.000000</td>\n",
       "      <td>0.000000</td>\n",
       "      <td>0.000000</td>\n",
       "      <td>0.000000</td>\n",
       "      <td>...</td>\n",
       "      <td>0.000000</td>\n",
       "      <td>0.000000</td>\n",
       "      <td>0.000000</td>\n",
       "      <td>0.000000</td>\n",
       "      <td>0.000000</td>\n",
       "      <td>0.000000</td>\n",
       "      <td>0.000000</td>\n",
       "      <td>0.000000</td>\n",
       "      <td>0.000000</td>\n",
       "      <td>0.000000</td>\n",
       "    </tr>\n",
       "    <tr>\n",
       "      <td>50%</td>\n",
       "      <td>0.000000</td>\n",
       "      <td>0.000000</td>\n",
       "      <td>0.000000</td>\n",
       "      <td>0.000000</td>\n",
       "      <td>0.000000</td>\n",
       "      <td>0.000000</td>\n",
       "      <td>0.000000</td>\n",
       "      <td>0.000000</td>\n",
       "      <td>0.000000</td>\n",
       "      <td>0.000000</td>\n",
       "      <td>...</td>\n",
       "      <td>0.000000</td>\n",
       "      <td>0.000000</td>\n",
       "      <td>0.000000</td>\n",
       "      <td>0.000000</td>\n",
       "      <td>0.000000</td>\n",
       "      <td>0.000000</td>\n",
       "      <td>0.000000</td>\n",
       "      <td>0.000000</td>\n",
       "      <td>0.000000</td>\n",
       "      <td>0.000000</td>\n",
       "    </tr>\n",
       "    <tr>\n",
       "      <td>75%</td>\n",
       "      <td>62.250000</td>\n",
       "      <td>0.000000</td>\n",
       "      <td>0.000000</td>\n",
       "      <td>0.000000</td>\n",
       "      <td>0.000000</td>\n",
       "      <td>0.000000</td>\n",
       "      <td>0.000000</td>\n",
       "      <td>0.000000</td>\n",
       "      <td>0.000000</td>\n",
       "      <td>0.000000</td>\n",
       "      <td>...</td>\n",
       "      <td>0.000000</td>\n",
       "      <td>0.000000</td>\n",
       "      <td>0.000000</td>\n",
       "      <td>0.000000</td>\n",
       "      <td>0.000000</td>\n",
       "      <td>0.000000</td>\n",
       "      <td>0.000000</td>\n",
       "      <td>0.000000</td>\n",
       "      <td>0.000000</td>\n",
       "      <td>0.000000</td>\n",
       "    </tr>\n",
       "    <tr>\n",
       "      <td>max</td>\n",
       "      <td>71928.000000</td>\n",
       "      <td>1.000000</td>\n",
       "      <td>1.000000</td>\n",
       "      <td>1.000000</td>\n",
       "      <td>1.000000</td>\n",
       "      <td>1.000000</td>\n",
       "      <td>1.000000</td>\n",
       "      <td>1.000000</td>\n",
       "      <td>1.000000</td>\n",
       "      <td>1.000000</td>\n",
       "      <td>...</td>\n",
       "      <td>1.000000</td>\n",
       "      <td>1.000000</td>\n",
       "      <td>1.000000</td>\n",
       "      <td>1.000000</td>\n",
       "      <td>1.000000</td>\n",
       "      <td>1.000000</td>\n",
       "      <td>1.000000</td>\n",
       "      <td>1.000000</td>\n",
       "      <td>1.000000</td>\n",
       "      <td>1.000000</td>\n",
       "    </tr>\n",
       "  </tbody>\n",
       "</table>\n",
       "<p>8 rows × 140 columns</p>\n",
       "</div>"
      ],
      "text/plain": [
       "        Restitution  Appliances - 244  Auction House - 128  \\\n",
       "count   2224.000000       2224.000000          2224.000000   \n",
       "mean     416.788669          0.018435             0.004047   \n",
       "std     2635.218632          0.134549             0.063500   \n",
       "min        0.000000          0.000000             0.000000   \n",
       "25%        0.000000          0.000000             0.000000   \n",
       "50%        0.000000          0.000000             0.000000   \n",
       "75%       62.250000          0.000000             0.000000   \n",
       "max    71928.000000          1.000000             1.000000   \n",
       "\n",
       "       Auto Dealership - 212  Auto Leasing - 211  Auto Rental - 213  \\\n",
       "count            2224.000000         2224.000000        2224.000000   \n",
       "mean                0.000450            0.000450           0.006295   \n",
       "std                 0.021205            0.021205           0.079108   \n",
       "min                 0.000000            0.000000           0.000000   \n",
       "25%                 0.000000            0.000000           0.000000   \n",
       "50%                 0.000000            0.000000           0.000000   \n",
       "75%                 0.000000            0.000000           0.000000   \n",
       "max                 1.000000            1.000000           1.000000   \n",
       "\n",
       "       Booting Company - 126     Car Wash  Catering Establishment - 075  \\\n",
       "count            2224.000000  2224.000000                   2224.000000   \n",
       "mean                0.001349     0.001349                      0.000899   \n",
       "std                 0.036711     0.036711                      0.029981   \n",
       "min                 0.000000     0.000000                      0.000000   \n",
       "25%                 0.000000     0.000000                      0.000000   \n",
       "50%                 0.000000     0.000000                      0.000000   \n",
       "75%                 0.000000     0.000000                      0.000000   \n",
       "max                 1.000000     1.000000                      1.000000   \n",
       "\n",
       "       Dealer In Products For The Disabled - 119  ...           OH  \\\n",
       "count                                2224.000000  ...  2224.000000   \n",
       "mean                                    0.000450  ...     0.004496   \n",
       "std                                     0.021205  ...     0.066919   \n",
       "min                                     0.000000  ...     0.000000   \n",
       "25%                                     0.000000  ...     0.000000   \n",
       "50%                                     0.000000  ...     0.000000   \n",
       "75%                                     0.000000  ...     0.000000   \n",
       "max                                     1.000000  ...     1.000000   \n",
       "\n",
       "                PA           RI           SC           TN           TX  \\\n",
       "count  2224.000000  2224.000000  2224.000000  2224.000000  2224.000000   \n",
       "mean      0.012140     0.001349     0.003147     0.001799     0.017086   \n",
       "std       0.109537     0.036711     0.056027     0.042381     0.129622   \n",
       "min       0.000000     0.000000     0.000000     0.000000     0.000000   \n",
       "25%       0.000000     0.000000     0.000000     0.000000     0.000000   \n",
       "50%       0.000000     0.000000     0.000000     0.000000     0.000000   \n",
       "75%       0.000000     0.000000     0.000000     0.000000     0.000000   \n",
       "max       1.000000     1.000000     1.000000     1.000000     1.000000   \n",
       "\n",
       "                UT           VA           WA           WI  \n",
       "count  2224.000000  2224.000000  2224.000000  2224.000000  \n",
       "mean      0.002248     0.005845     0.008993     0.010342  \n",
       "std       0.047373     0.076248     0.094424     0.101190  \n",
       "min       0.000000     0.000000     0.000000     0.000000  \n",
       "25%       0.000000     0.000000     0.000000     0.000000  \n",
       "50%       0.000000     0.000000     0.000000     0.000000  \n",
       "75%       0.000000     0.000000     0.000000     0.000000  \n",
       "max       1.000000     1.000000     1.000000     1.000000  \n",
       "\n",
       "[8 rows x 140 columns]"
      ]
     },
     "execution_count": 39,
     "metadata": {},
     "output_type": "execute_result"
    }
   ],
   "source": [
    "# DF Copy is in Standard Spreadsheet Format\n",
    "dfcopy.describe()"
   ]
  },
  {
   "cell_type": "markdown",
   "metadata": {},
   "source": [
    "### Split the data into training and testing sets"
   ]
  },
  {
   "cell_type": "code",
   "execution_count": 40,
   "metadata": {},
   "outputs": [],
   "source": [
    "# drop time series\n",
    "dfcopy = dfcopy.drop(columns=['Mediation Start Date'])\n",
    "dfcopy = dfcopy.drop(columns=['Mediation Close Date'])"
   ]
  },
  {
   "cell_type": "code",
   "execution_count": 41,
   "metadata": {},
   "outputs": [],
   "source": [
    "# drop target colum \n",
    "dfcopy = dfcopy.drop(columns=['Satisfaction'])\n"
   ]
  },
  {
   "cell_type": "code",
   "execution_count": 42,
   "metadata": {},
   "outputs": [],
   "source": [
    "dfcopy = dfcopy.drop(columns=['Business Name'])"
   ]
  },
  {
   "cell_type": "code",
   "execution_count": 43,
   "metadata": {},
   "outputs": [],
   "source": [
    "df_target = df[\"Satisfaction\"]"
   ]
  },
  {
   "cell_type": "code",
   "execution_count": 44,
   "metadata": {},
   "outputs": [],
   "source": [
    "from sklearn.model_selection import train_test_split\n",
    "df_train, df_test, df_target_train, df_target_test = train_test_split(dfcopy, df_target, test_size=0.2, random_state=33)\n"
   ]
  },
  {
   "cell_type": "markdown",
   "metadata": {},
   "source": [
    "### KNN Model"
   ]
  },
  {
   "cell_type": "code",
   "execution_count": 45,
   "metadata": {},
   "outputs": [],
   "source": [
    "from sklearn import neighbors, tree, naive_bayes"
   ]
  },
  {
   "cell_type": "code",
   "execution_count": 46,
   "metadata": {},
   "outputs": [
    {
     "data": {
      "text/plain": [
       "KNeighborsClassifier(algorithm='auto', leaf_size=30, metric='minkowski',\n",
       "                     metric_params=None, n_jobs=None, n_neighbors=10, p=2,\n",
       "                     weights='distance')"
      ]
     },
     "execution_count": 46,
     "metadata": {},
     "output_type": "execute_result"
    }
   ],
   "source": [
    "#create the object\n",
    "n_neighbors = 10\n",
    "knnclf = neighbors.KNeighborsClassifier(n_neighbors, weights='distance')\n",
    "knnclf.fit(df_train, df_target_train)"
   ]
  },
  {
   "cell_type": "code",
   "execution_count": 47,
   "metadata": {},
   "outputs": [
    {
     "name": "stdout",
     "output_type": "stream",
     "text": [
      "['No' 'No' 'Yes' 'No' 'No' 'No' 'No' 'Yes' 'No' 'Yes' 'No' 'Yes' 'No'\n",
      " 'Yes' 'No' 'Yes' 'Yes' 'Yes' 'Yes' 'No' 'Yes' 'No' 'No' 'Yes' 'No' 'No'\n",
      " 'No' 'Yes' 'Yes' 'No' 'Yes' 'No' 'Yes' 'No' 'No' 'Yes' 'No' 'Yes' 'No'\n",
      " 'No' 'No' 'Yes' 'No' 'Yes' 'No' 'No' 'Yes' 'Yes' 'Yes' 'Yes' 'Yes' 'Yes'\n",
      " 'Yes' 'Yes' 'No' 'No' 'Yes' 'Yes' 'Yes' 'Yes' 'No' 'No' 'Yes' 'No' 'No'\n",
      " 'No' 'Yes' 'No' 'Yes' 'No' 'No' 'No' 'Yes' 'Yes' 'No' 'No' 'Yes' 'No'\n",
      " 'Yes' 'No' 'No' 'No' 'Yes' 'No' 'No' 'Yes' 'Yes' 'Yes' 'No' 'No' 'No'\n",
      " 'No' 'No' 'Yes' 'Yes' 'Yes' 'Yes' 'Yes' 'No' 'Yes' 'No' 'No' 'Yes' 'No'\n",
      " 'No' 'No' 'No' 'No' 'Yes' 'Yes' 'Yes' 'Yes' 'No' 'Yes' 'No' 'Yes' 'Yes'\n",
      " 'No' 'No' 'Yes' 'Yes' 'Yes' 'Yes' 'No' 'Yes' 'Yes' 'No' 'Yes' 'Yes' 'No'\n",
      " 'No' 'Yes' 'Yes' 'No' 'Yes' 'Yes' 'No' 'No' 'Yes' 'No' 'Yes' 'No' 'No'\n",
      " 'Yes' 'Yes' 'No' 'Yes' 'No' 'No' 'Yes' 'No' 'Yes' 'No' 'No' 'Yes' 'Yes'\n",
      " 'Yes' 'Yes' 'Yes' 'Yes' 'Yes' 'No' 'Yes' 'Yes' 'Yes' 'Yes' 'No' 'No' 'No'\n",
      " 'Yes' 'Yes' 'No' 'No' 'No' 'Yes' 'Yes' 'No' 'Yes' 'Yes' 'No' 'Yes' 'Yes'\n",
      " 'No' 'No' 'No' 'No' 'Yes' 'Yes' 'No' 'No' 'No' 'No' 'No' 'No' 'No' 'No'\n",
      " 'Yes' 'Yes' 'Yes' 'Yes' 'No' 'No' 'No' 'Yes' 'No' 'No' 'No' 'No' 'No'\n",
      " 'No' 'No' 'No' 'Yes' 'No' 'No' 'No' 'No' 'No' 'Yes' 'Yes' 'Yes' 'No'\n",
      " 'Yes' 'No' 'Yes' 'No' 'No' 'Yes' 'Yes' 'Yes' 'Yes' 'Yes' 'Yes' 'No' 'Yes'\n",
      " 'No' 'No' 'Yes' 'Yes' 'No' 'No' 'No' 'Yes' 'No' 'Yes' 'Yes' 'Yes' 'No'\n",
      " 'No' 'No' 'No' 'Yes' 'No' 'Yes' 'Yes' 'Yes' 'Yes' 'Yes' 'No' 'Yes' 'Yes'\n",
      " 'No' 'No' 'No' 'No' 'Yes' 'No' 'No' 'Yes' 'No' 'Yes' 'No' 'Yes' 'Yes'\n",
      " 'No' 'No' 'No' 'No' 'Yes' 'Yes' 'Yes' 'Yes' 'No' 'No' 'Yes' 'Yes' 'Yes'\n",
      " 'No' 'No' 'Yes' 'No' 'No' 'No' 'Yes' 'No' 'No' 'No' 'No' 'No' 'Yes' 'Yes'\n",
      " 'Yes' 'No' 'Yes' 'Yes' 'Yes' 'No' 'No' 'Yes' 'No' 'No' 'Yes' 'No' 'No'\n",
      " 'No' 'No' 'No' 'No' 'No' 'No' 'Yes' 'No' 'No' 'Yes' 'No' 'No' 'Yes' 'No'\n",
      " 'Yes' 'Yes' 'Yes' 'Yes' 'No' 'No' 'Yes' 'Yes' 'Yes' 'No' 'No' 'No' 'No'\n",
      " 'No' 'Yes' 'No' 'No' 'No' 'No' 'Yes' 'No' 'Yes' 'Yes' 'Yes' 'Yes' 'No'\n",
      " 'Yes' 'Yes' 'Yes' 'No' 'Yes' 'No' 'Yes' 'Yes' 'Yes' 'No' 'No' 'No' 'Yes'\n",
      " 'No' 'No' 'No' 'Yes' 'Yes' 'No' 'No' 'Yes' 'No' 'Yes' 'No' 'No' 'No'\n",
      " 'Yes' 'No' 'Yes' 'Yes' 'No' 'No' 'Yes' 'Yes' 'No' 'No' 'No' 'Yes' 'Yes'\n",
      " 'No' 'No' 'No' 'Yes' 'Yes' 'Yes' 'Yes' 'No' 'Yes' 'Yes' 'No' 'Yes' 'Yes'\n",
      " 'Yes' 'No' 'Yes' 'Yes' 'No' 'Yes' 'No' 'No' 'No' 'No' 'Yes' 'No' 'Yes'\n",
      " 'Yes' 'No' 'Yes' 'No' 'Yes' 'No' 'No' 'No' 'Yes' 'No' 'Yes' 'No' 'No'\n",
      " 'Yes' 'Yes' 'Yes' 'No' 'Yes' 'Yes' 'Yes' 'Yes' 'Yes' 'No' 'Yes' 'No'\n",
      " 'Yes']\n"
     ]
    }
   ],
   "source": [
    "knnpreds_test = knnclf.predict(df_test)\n",
    "print(knnpreds_test)"
   ]
  },
  {
   "cell_type": "code",
   "execution_count": 48,
   "metadata": {},
   "outputs": [],
   "source": [
    "from sklearn.metrics import classification_report\n",
    "from sklearn.metrics import confusion_matrix"
   ]
  },
  {
   "cell_type": "code",
   "execution_count": 49,
   "metadata": {},
   "outputs": [
    {
     "name": "stdout",
     "output_type": "stream",
     "text": [
      "              precision    recall  f1-score   support\n",
      "\n",
      "          No       0.67      0.87      0.75       177\n",
      "         Yes       0.89      0.71      0.79       268\n",
      "\n",
      "    accuracy                           0.78       445\n",
      "   macro avg       0.78      0.79      0.77       445\n",
      "weighted avg       0.80      0.78      0.78       445\n",
      "\n"
     ]
    }
   ],
   "source": [
    "print(classification_report(df_target_test, knnpreds_test))"
   ]
  },
  {
   "cell_type": "code",
   "execution_count": 50,
   "metadata": {},
   "outputs": [
    {
     "name": "stdout",
     "output_type": "stream",
     "text": [
      "[[154  23]\n",
      " [ 77 191]]\n"
     ]
    }
   ],
   "source": [
    "knncm = confusion_matrix(df_target_test, knnpreds_test)\n",
    "print(knncm)"
   ]
  },
  {
   "cell_type": "code",
   "execution_count": 51,
   "metadata": {},
   "outputs": [
    {
     "name": "stdout",
     "output_type": "stream",
     "text": [
      "0.7752808988764045\n"
     ]
    }
   ],
   "source": [
    "print(knnclf.score(df_test, df_target_test))"
   ]
  },
  {
   "cell_type": "code",
   "execution_count": 52,
   "metadata": {},
   "outputs": [
    {
     "data": {
      "image/png": "[encoded data removed]",
      "text/plain": [
       "<Figure size 288x288 with 2 Axes>"
      ]
     },
     "metadata": {
      "needs_background": "light"
     },
     "output_type": "display_data"
    }
   ],
   "source": [
    "### Plot the confusion matrix\n",
    "\n",
    "import pylab as plt\n",
    "%matplotlib inline\n",
    "plt.matshow(knncm)\n",
    "plt.title('Confusion matrix for KNN')\n",
    "plt.colorbar()\n",
    "plt.ylabel('Actual')\n",
    "plt.xlabel('Predicted')\n",
    "plt.show()"
   ]
  },
  {
   "cell_type": "markdown",
   "metadata": {},
   "source": []
  },
  {
   "cell_type": "markdown",
   "metadata": {},
   "source": [
    "### Decision Tree "
   ]
  },
  {
   "cell_type": "markdown",
   "metadata": {},
   "source": [
    "#### Initial run using Gini as purity function"
   ]
  },
  {
   "cell_type": "code",
   "execution_count": 53,
   "metadata": {},
   "outputs": [],
   "source": [
    "# we started with using Gini as our purity function\n",
    "treeclf = tree.DecisionTreeClassifier(criterion= 'gini', max_leaf_nodes = 10) #max_leaf_nodes"
   ]
  },
  {
   "cell_type": "code",
   "execution_count": 54,
   "metadata": {},
   "outputs": [],
   "source": [
    "treeclf = treeclf.fit(df_train, df_target_train)"
   ]
  },
  {
   "cell_type": "code",
   "execution_count": 55,
   "metadata": {},
   "outputs": [
    {
     "name": "stdout",
     "output_type": "stream",
     "text": [
      "['Yes' 'No' 'Yes' 'Yes' 'No' 'No' 'No' 'Yes' 'No' 'No' 'No' 'Yes' 'No'\n",
      " 'Yes' 'No' 'Yes' 'Yes' 'Yes' 'Yes' 'No' 'Yes' 'No' 'No' 'Yes' 'No' 'No'\n",
      " 'No' 'No' 'Yes' 'No' 'Yes' 'No' 'Yes' 'No' 'No' 'Yes' 'No' 'Yes' 'No'\n",
      " 'No' 'No' 'Yes' 'No' 'Yes' 'No' 'No' 'Yes' 'Yes' 'Yes' 'Yes' 'Yes' 'No'\n",
      " 'Yes' 'Yes' 'No' 'No' 'Yes' 'No' 'No' 'Yes' 'Yes' 'No' 'Yes' 'No' 'No'\n",
      " 'No' 'No' 'No' 'Yes' 'No' 'No' 'No' 'Yes' 'Yes' 'No' 'No' 'Yes' 'No'\n",
      " 'Yes' 'No' 'No' 'No' 'Yes' 'No' 'No' 'Yes' 'No' 'Yes' 'No' 'No' 'No' 'No'\n",
      " 'Yes' 'Yes' 'Yes' 'Yes' 'No' 'No' 'No' 'No' 'No' 'No' 'Yes' 'No' 'No'\n",
      " 'Yes' 'No' 'No' 'Yes' 'Yes' 'Yes' 'No' 'No' 'No' 'No' 'Yes' 'Yes' 'No'\n",
      " 'No' 'Yes' 'Yes' 'Yes' 'Yes' 'No' 'Yes' 'No' 'Yes' 'Yes' 'Yes' 'No' 'No'\n",
      " 'Yes' 'No' 'No' 'Yes' 'Yes' 'No' 'No' 'Yes' 'No' 'No' 'No' 'No' 'Yes'\n",
      " 'No' 'No' 'Yes' 'No' 'No' 'Yes' 'No' 'Yes' 'No' 'No' 'Yes' 'Yes' 'Yes'\n",
      " 'No' 'Yes' 'Yes' 'Yes' 'No' 'Yes' 'Yes' 'Yes' 'Yes' 'No' 'No' 'No' 'Yes'\n",
      " 'Yes' 'No' 'No' 'No' 'No' 'Yes' 'No' 'Yes' 'Yes' 'No' 'No' 'Yes' 'No'\n",
      " 'No' 'Yes' 'Yes' 'Yes' 'Yes' 'No' 'No' 'No' 'No' 'No' 'No' 'No' 'No'\n",
      " 'Yes' 'No' 'Yes' 'Yes' 'No' 'No' 'No' 'Yes' 'Yes' 'No' 'No' 'No' 'No'\n",
      " 'No' 'No' 'No' 'Yes' 'No' 'No' 'No' 'No' 'No' 'Yes' 'Yes' 'Yes' 'No'\n",
      " 'Yes' 'No' 'Yes' 'No' 'No' 'Yes' 'Yes' 'Yes' 'Yes' 'Yes' 'Yes' 'No' 'Yes'\n",
      " 'No' 'No' 'Yes' 'Yes' 'Yes' 'No' 'No' 'Yes' 'No' 'Yes' 'Yes' 'Yes' 'No'\n",
      " 'No' 'No' 'No' 'Yes' 'No' 'Yes' 'No' 'No' 'Yes' 'Yes' 'Yes' 'Yes' 'Yes'\n",
      " 'No' 'No' 'No' 'No' 'Yes' 'No' 'No' 'Yes' 'No' 'Yes' 'No' 'Yes' 'No' 'No'\n",
      " 'No' 'Yes' 'No' 'Yes' 'Yes' 'Yes' 'No' 'Yes' 'No' 'No' 'Yes' 'Yes' 'No'\n",
      " 'No' 'Yes' 'No' 'No' 'No' 'Yes' 'No' 'No' 'No' 'No' 'No' 'Yes' 'Yes'\n",
      " 'Yes' 'No' 'Yes' 'Yes' 'Yes' 'No' 'No' 'Yes' 'No' 'No' 'Yes' 'No' 'No'\n",
      " 'No' 'No' 'No' 'No' 'No' 'No' 'Yes' 'No' 'No' 'No' 'No' 'No' 'Yes' 'No'\n",
      " 'Yes' 'Yes' 'No' 'Yes' 'Yes' 'No' 'Yes' 'Yes' 'Yes' 'No' 'No' 'No' 'No'\n",
      " 'No' 'No' 'No' 'No' 'No' 'No' 'Yes' 'No' 'No' 'Yes' 'Yes' 'Yes' 'No'\n",
      " 'Yes' 'Yes' 'Yes' 'Yes' 'Yes' 'No' 'No' 'No' 'Yes' 'No' 'No' 'No' 'Yes'\n",
      " 'No' 'No' 'No' 'Yes' 'Yes' 'No' 'No' 'Yes' 'No' 'Yes' 'No' 'Yes' 'No'\n",
      " 'Yes' 'No' 'Yes' 'No' 'No' 'No' 'Yes' 'Yes' 'No' 'No' 'No' 'No' 'No' 'No'\n",
      " 'No' 'No' 'Yes' 'Yes' 'Yes' 'Yes' 'No' 'Yes' 'Yes' 'No' 'Yes' 'Yes' 'No'\n",
      " 'No' 'Yes' 'Yes' 'No' 'Yes' 'No' 'No' 'No' 'No' 'Yes' 'No' 'Yes' 'Yes'\n",
      " 'No' 'Yes' 'No' 'Yes' 'No' 'No' 'No' 'Yes' 'No' 'Yes' 'No' 'No' 'No'\n",
      " 'Yes' 'Yes' 'No' 'Yes' 'Yes' 'Yes' 'No' 'Yes' 'No' 'Yes' 'No' 'Yes']\n"
     ]
    }
   ],
   "source": [
    "treepreds_test = treeclf.predict(df_test)\n",
    "print(treepreds_test)"
   ]
  },
  {
   "cell_type": "code",
   "execution_count": 56,
   "metadata": {},
   "outputs": [
    {
     "name": "stdout",
     "output_type": "stream",
     "text": [
      "0.7685393258426966\n"
     ]
    }
   ],
   "source": [
    "print(treeclf.score(df_test, df_target_test))"
   ]
  },
  {
   "cell_type": "code",
   "execution_count": 57,
   "metadata": {},
   "outputs": [
    {
     "name": "stdout",
     "output_type": "stream",
     "text": [
      "7\n",
      "10\n",
      "<bound method BaseEstimator.get_params of DecisionTreeClassifier(class_weight=None, criterion='gini', max_depth=None,\n",
      "                       max_features=None, max_leaf_nodes=10,\n",
      "                       min_impurity_decrease=0.0, min_impurity_split=None,\n",
      "                       min_samples_leaf=1, min_samples_split=2,\n",
      "                       min_weight_fraction_leaf=0.0, presort=False,\n",
      "                       random_state=None, splitter='best')>\n"
     ]
    }
   ],
   "source": [
    "print(treeclf.get_depth())\n",
    "print(treeclf.get_n_leaves())\n",
    "print(treeclf.get_params)"
   ]
  },
  {
   "cell_type": "code",
   "execution_count": 58,
   "metadata": {},
   "outputs": [],
   "source": [
    "from sklearn.model_selection import cross_val_score"
   ]
  },
  {
   "cell_type": "code",
   "execution_count": 59,
   "metadata": {},
   "outputs": [
    {
     "name": "stdout",
     "output_type": "stream",
     "text": [
      "[0.73333333 0.8        0.75555556 0.77777778 0.75555556 0.82222222\n",
      " 0.75555556 0.68181818 0.72093023 0.81395349]\n"
     ]
    }
   ],
   "source": [
    "cv_scores = cross_val_score(treeclf, df_test, df_target_test, cv=10)\n",
    "print(cv_scores)"
   ]
  },
  {
   "cell_type": "code",
   "execution_count": 60,
   "metadata": {},
   "outputs": [
    {
     "name": "stdout",
     "output_type": "stream",
     "text": [
      "0.7807757166947723\n"
     ]
    }
   ],
   "source": [
    "print(treeclf.score(df_train, df_target_train))"
   ]
  },
  {
   "cell_type": "markdown",
   "metadata": {},
   "source": [
    "#### Accuracy of 77%"
   ]
  },
  {
   "cell_type": "code",
   "execution_count": 61,
   "metadata": {},
   "outputs": [
    {
     "name": "stdout",
     "output_type": "stream",
     "text": [
      "              precision    recall  f1-score   support\n",
      "\n",
      "          No       0.65      0.92      0.76       177\n",
      "         Yes       0.93      0.67      0.78       268\n",
      "\n",
      "    accuracy                           0.77       445\n",
      "   macro avg       0.79      0.79      0.77       445\n",
      "weighted avg       0.82      0.77      0.77       445\n",
      "\n"
     ]
    }
   ],
   "source": [
    "print(classification_report(df_target_test, treepreds_test))"
   ]
  },
  {
   "cell_type": "code",
   "execution_count": 62,
   "metadata": {},
   "outputs": [
    {
     "name": "stdout",
     "output_type": "stream",
     "text": [
      "[[163  14]\n",
      " [ 89 179]]\n"
     ]
    }
   ],
   "source": [
    "treecm = confusion_matrix(df_target_test, treepreds_test)\n",
    "print(treecm)"
   ]
  },
  {
   "cell_type": "code",
   "execution_count": 63,
   "metadata": {},
   "outputs": [
    {
     "data": {
      "image/png": "[encoded data removed]",
      "text/plain": [
       "<Figure size 288x288 with 2 Axes>"
      ]
     },
     "metadata": {
      "needs_background": "light"
     },
     "output_type": "display_data"
    }
   ],
   "source": [
    "### Plot the confusion matrix\n",
    "\n",
    "import pylab as plt\n",
    "%matplotlib inline\n",
    "plt.matshow(treecm)\n",
    "plt.title('Confusion matrix fo Decision Tree')\n",
    "plt.colorbar()\n",
    "plt.ylabel('Actual')\n",
    "plt.xlabel('Predicted')\n",
    "plt.show()"
   ]
  },
  {
   "cell_type": "code",
   "execution_count": 64,
   "metadata": {},
   "outputs": [
    {
     "data": {
      "image/svg+xml": [
       "<?xml version=\"1.0\" encoding=\"UTF-8\" standalone=\"no\"?>\r\n",
       "<!DOCTYPE svg PUBLIC \"-//W3C//DTD SVG 1.1//EN\"\r\n",
       " \"http://www.w3.org/Graphics/SVG/1.1/DTD/svg11.dtd\">\r\n",
       "<!-- Generated by graphviz version 2.38.0 (20140413.2041)\r\n",
       " -->\r\n",
       "<!-- Title: Tree Pages: 1 -->\r\n",
       "<svg width=\"768pt\" height=\"909pt\"\r\n",
       " viewBox=\"0.00 0.00 768.00 909.00\" xmlns=\"http://www.w3.org/2000/svg\" xmlns:xlink=\"http://www.w3.org/1999/xlink\">\r\n",
       "<g id=\"graph0\" class=\"graph\" transform=\"scale(1 1) rotate(0) translate(4 905)\">\r\n",
       "<title>Tree</title>\r\n",
       "<polygon fill=\"white\" stroke=\"none\" points=\"-4,4 -4,-905 764,-905 764,4 -4,4\"/>\r\n",
       "<!-- 0 -->\r\n",
       "<g id=\"node1\" class=\"node\"><title>0</title>\r\n",
       "<polygon fill=\"none\" stroke=\"black\" points=\"679.5,-901 554.5,-901 554.5,-818 679.5,-818 679.5,-901\"/>\r\n",
       "<text text-anchor=\"middle\" x=\"617\" y=\"-885.8\" font-family=\"Times New Roman,serif\" font-size=\"14.00\">Restitution &lt;= 1.5</text>\r\n",
       "<text text-anchor=\"middle\" x=\"617\" y=\"-870.8\" font-family=\"Times New Roman,serif\" font-size=\"14.00\">gini = 0.479</text>\r\n",
       "<text text-anchor=\"middle\" x=\"617\" y=\"-855.8\" font-family=\"Times New Roman,serif\" font-size=\"14.00\">samples = 1779</text>\r\n",
       "<text text-anchor=\"middle\" x=\"617\" y=\"-840.8\" font-family=\"Times New Roman,serif\" font-size=\"14.00\">value = [706, 1073]</text>\r\n",
       "<text text-anchor=\"middle\" x=\"617\" y=\"-825.8\" font-family=\"Times New Roman,serif\" font-size=\"14.00\">class = Yes</text>\r\n",
       "</g>\r\n",
       "<!-- 1 -->\r\n",
       "<g id=\"node2\" class=\"node\"><title>1</title>\r\n",
       "<polygon fill=\"none\" stroke=\"black\" points=\"638,-782 414,-782 414,-699 638,-699 638,-782\"/>\r\n",
       "<text text-anchor=\"middle\" x=\"526\" y=\"-766.8\" font-family=\"Times New Roman,serif\" font-size=\"14.00\">Debt Collection Agency &#45; 122 &lt;= 0.5</text>\r\n",
       "<text text-anchor=\"middle\" x=\"526\" y=\"-751.8\" font-family=\"Times New Roman,serif\" font-size=\"14.00\">gini = 0.488</text>\r\n",
       "<text text-anchor=\"middle\" x=\"526\" y=\"-736.8\" font-family=\"Times New Roman,serif\" font-size=\"14.00\">samples = 1224</text>\r\n",
       "<text text-anchor=\"middle\" x=\"526\" y=\"-721.8\" font-family=\"Times New Roman,serif\" font-size=\"14.00\">value = [706, 518]</text>\r\n",
       "<text text-anchor=\"middle\" x=\"526\" y=\"-706.8\" font-family=\"Times New Roman,serif\" font-size=\"14.00\">class = No</text>\r\n",
       "</g>\r\n",
       "<!-- 0&#45;&gt;1 -->\r\n",
       "<g id=\"edge1\" class=\"edge\"><title>0&#45;&gt;1</title>\r\n",
       "<path fill=\"none\" stroke=\"black\" d=\"M585.428,-817.907C578.44,-808.923 570.967,-799.315 563.761,-790.05\"/>\r\n",
       "<polygon fill=\"black\" stroke=\"black\" points=\"566.418,-787.766 557.516,-782.021 560.893,-792.063 566.418,-787.766\"/>\r\n",
       "<text text-anchor=\"middle\" x=\"554.415\" y=\"-803.128\" font-family=\"Times New Roman,serif\" font-size=\"14.00\">True</text>\r\n",
       "</g>\r\n",
       "<!-- 2 -->\r\n",
       "<g id=\"node19\" class=\"node\"><title>2</title>\r\n",
       "<polygon fill=\"none\" stroke=\"black\" points=\"760,-774.5 656,-774.5 656,-706.5 760,-706.5 760,-774.5\"/>\r\n",
       "<text text-anchor=\"middle\" x=\"708\" y=\"-759.3\" font-family=\"Times New Roman,serif\" font-size=\"14.00\">gini = 0.0</text>\r\n",
       "<text text-anchor=\"middle\" x=\"708\" y=\"-744.3\" font-family=\"Times New Roman,serif\" font-size=\"14.00\">samples = 555</text>\r\n",
       "<text text-anchor=\"middle\" x=\"708\" y=\"-729.3\" font-family=\"Times New Roman,serif\" font-size=\"14.00\">value = [0, 555]</text>\r\n",
       "<text text-anchor=\"middle\" x=\"708\" y=\"-714.3\" font-family=\"Times New Roman,serif\" font-size=\"14.00\">class = Yes</text>\r\n",
       "</g>\r\n",
       "<!-- 0&#45;&gt;2 -->\r\n",
       "<g id=\"edge18\" class=\"edge\"><title>0&#45;&gt;2</title>\r\n",
       "<path fill=\"none\" stroke=\"black\" d=\"M648.572,-817.907C657.412,-806.542 667.028,-794.178 675.898,-782.774\"/>\r\n",
       "<polygon fill=\"black\" stroke=\"black\" points=\"678.827,-784.709 682.203,-774.667 673.301,-780.412 678.827,-784.709\"/>\r\n",
       "<text text-anchor=\"middle\" x=\"685.304\" y=\"-795.774\" font-family=\"Times New Roman,serif\" font-size=\"14.00\">False</text>\r\n",
       "</g>\r\n",
       "<!-- 3 -->\r\n",
       "<g id=\"node3\" class=\"node\"><title>3</title>\r\n",
       "<polygon fill=\"none\" stroke=\"black\" points=\"559,-663 293,-663 293,-580 559,-580 559,-663\"/>\r\n",
       "<text text-anchor=\"middle\" x=\"426\" y=\"-647.8\" font-family=\"Times New Roman,serif\" font-size=\"14.00\">Home Improvement Contractor &#45; 100 &lt;= 0.5</text>\r\n",
       "<text text-anchor=\"middle\" x=\"426\" y=\"-632.8\" font-family=\"Times New Roman,serif\" font-size=\"14.00\">gini = 0.471</text>\r\n",
       "<text text-anchor=\"middle\" x=\"426\" y=\"-617.8\" font-family=\"Times New Roman,serif\" font-size=\"14.00\">samples = 1138</text>\r\n",
       "<text text-anchor=\"middle\" x=\"426\" y=\"-602.8\" font-family=\"Times New Roman,serif\" font-size=\"14.00\">value = [705, 433]</text>\r\n",
       "<text text-anchor=\"middle\" x=\"426\" y=\"-587.8\" font-family=\"Times New Roman,serif\" font-size=\"14.00\">class = No</text>\r\n",
       "</g>\r\n",
       "<!-- 1&#45;&gt;3 -->\r\n",
       "<g id=\"edge2\" class=\"edge\"><title>1&#45;&gt;3</title>\r\n",
       "<path fill=\"none\" stroke=\"black\" d=\"M491.305,-698.907C483.549,-689.832 475.249,-680.121 467.256,-670.769\"/>\r\n",
       "<polygon fill=\"black\" stroke=\"black\" points=\"469.791,-668.349 460.633,-663.021 464.47,-672.897 469.791,-668.349\"/>\r\n",
       "</g>\r\n",
       "<!-- 4 -->\r\n",
       "<g id=\"node18\" class=\"node\"><title>4</title>\r\n",
       "<polygon fill=\"none\" stroke=\"black\" points=\"675,-655.5 577,-655.5 577,-587.5 675,-587.5 675,-655.5\"/>\r\n",
       "<text text-anchor=\"middle\" x=\"626\" y=\"-640.3\" font-family=\"Times New Roman,serif\" font-size=\"14.00\">gini = 0.023</text>\r\n",
       "<text text-anchor=\"middle\" x=\"626\" y=\"-625.3\" font-family=\"Times New Roman,serif\" font-size=\"14.00\">samples = 86</text>\r\n",
       "<text text-anchor=\"middle\" x=\"626\" y=\"-610.3\" font-family=\"Times New Roman,serif\" font-size=\"14.00\">value = [1, 85]</text>\r\n",
       "<text text-anchor=\"middle\" x=\"626\" y=\"-595.3\" font-family=\"Times New Roman,serif\" font-size=\"14.00\">class = Yes</text>\r\n",
       "</g>\r\n",
       "<!-- 1&#45;&gt;4 -->\r\n",
       "<g id=\"edge17\" class=\"edge\"><title>1&#45;&gt;4</title>\r\n",
       "<path fill=\"none\" stroke=\"black\" d=\"M560.695,-698.907C570.503,-687.432 581.181,-674.938 591.007,-663.442\"/>\r\n",
       "<polygon fill=\"black\" stroke=\"black\" points=\"593.816,-665.543 597.652,-655.667 588.494,-660.995 593.816,-665.543\"/>\r\n",
       "</g>\r\n",
       "<!-- 5 -->\r\n",
       "<g id=\"node4\" class=\"node\"><title>5</title>\r\n",
       "<polygon fill=\"none\" stroke=\"black\" points=\"410,-544 292,-544 292,-461 410,-461 410,-544\"/>\r\n",
       "<text text-anchor=\"middle\" x=\"351\" y=\"-528.8\" font-family=\"Times New Roman,serif\" font-size=\"14.00\">NY &lt;= 0.5</text>\r\n",
       "<text text-anchor=\"middle\" x=\"351\" y=\"-513.8\" font-family=\"Times New Roman,serif\" font-size=\"14.00\">gini = 0.491</text>\r\n",
       "<text text-anchor=\"middle\" x=\"351\" y=\"-498.8\" font-family=\"Times New Roman,serif\" font-size=\"14.00\">samples = 859</text>\r\n",
       "<text text-anchor=\"middle\" x=\"351\" y=\"-483.8\" font-family=\"Times New Roman,serif\" font-size=\"14.00\">value = [488, 371]</text>\r\n",
       "<text text-anchor=\"middle\" x=\"351\" y=\"-468.8\" font-family=\"Times New Roman,serif\" font-size=\"14.00\">class = No</text>\r\n",
       "</g>\r\n",
       "<!-- 3&#45;&gt;5 -->\r\n",
       "<g id=\"edge3\" class=\"edge\"><title>3&#45;&gt;5</title>\r\n",
       "<path fill=\"none\" stroke=\"black\" d=\"M399.979,-579.907C394.336,-571.105 388.31,-561.703 382.482,-552.612\"/>\r\n",
       "<polygon fill=\"black\" stroke=\"black\" points=\"385.318,-550.551 376.975,-544.021 379.425,-554.328 385.318,-550.551\"/>\r\n",
       "</g>\r\n",
       "<!-- 6 -->\r\n",
       "<g id=\"node15\" class=\"node\"><title>6</title>\r\n",
       "<polygon fill=\"none\" stroke=\"black\" points=\"557.5,-544 446.5,-544 446.5,-461 557.5,-461 557.5,-544\"/>\r\n",
       "<text text-anchor=\"middle\" x=\"502\" y=\"-528.8\" font-family=\"Times New Roman,serif\" font-size=\"14.00\">NY &lt;= 0.5</text>\r\n",
       "<text text-anchor=\"middle\" x=\"502\" y=\"-513.8\" font-family=\"Times New Roman,serif\" font-size=\"14.00\">gini = 0.346</text>\r\n",
       "<text text-anchor=\"middle\" x=\"502\" y=\"-498.8\" font-family=\"Times New Roman,serif\" font-size=\"14.00\">samples = 279</text>\r\n",
       "<text text-anchor=\"middle\" x=\"502\" y=\"-483.8\" font-family=\"Times New Roman,serif\" font-size=\"14.00\">value = [217, 62]</text>\r\n",
       "<text text-anchor=\"middle\" x=\"502\" y=\"-468.8\" font-family=\"Times New Roman,serif\" font-size=\"14.00\">class = No</text>\r\n",
       "</g>\r\n",
       "<!-- 3&#45;&gt;6 -->\r\n",
       "<g id=\"edge14\" class=\"edge\"><title>3&#45;&gt;6</title>\r\n",
       "<path fill=\"none\" stroke=\"black\" d=\"M452.368,-579.907C458.086,-571.105 464.193,-561.703 470.098,-552.612\"/>\r\n",
       "<polygon fill=\"black\" stroke=\"black\" points=\"473.167,-554.313 475.679,-544.021 467.296,-550.5 473.167,-554.313\"/>\r\n",
       "</g>\r\n",
       "<!-- 7 -->\r\n",
       "<g id=\"node5\" class=\"node\"><title>7</title>\r\n",
       "<polygon fill=\"none\" stroke=\"black\" points=\"252,-425 64,-425 64,-342 252,-342 252,-425\"/>\r\n",
       "<text text-anchor=\"middle\" x=\"158\" y=\"-409.8\" font-family=\"Times New Roman,serif\" font-size=\"14.00\">Damaged Goods &#45; D01 &lt;= 0.5</text>\r\n",
       "<text text-anchor=\"middle\" x=\"158\" y=\"-394.8\" font-family=\"Times New Roman,serif\" font-size=\"14.00\">gini = 0.491</text>\r\n",
       "<text text-anchor=\"middle\" x=\"158\" y=\"-379.8\" font-family=\"Times New Roman,serif\" font-size=\"14.00\">samples = 148</text>\r\n",
       "<text text-anchor=\"middle\" x=\"158\" y=\"-364.8\" font-family=\"Times New Roman,serif\" font-size=\"14.00\">value = [64, 84]</text>\r\n",
       "<text text-anchor=\"middle\" x=\"158\" y=\"-349.8\" font-family=\"Times New Roman,serif\" font-size=\"14.00\">class = Yes</text>\r\n",
       "</g>\r\n",
       "<!-- 5&#45;&gt;7 -->\r\n",
       "<g id=\"edge4\" class=\"edge\"><title>5&#45;&gt;7</title>\r\n",
       "<path fill=\"none\" stroke=\"black\" d=\"M291.782,-465.601C273.429,-454.475 252.949,-442.06 233.64,-430.354\"/>\r\n",
       "<polygon fill=\"black\" stroke=\"black\" points=\"235.228,-427.224 224.863,-425.033 231.6,-433.21 235.228,-427.224\"/>\r\n",
       "</g>\r\n",
       "<!-- 8 -->\r\n",
       "<g id=\"node8\" class=\"node\"><title>8</title>\r\n",
       "<polygon fill=\"none\" stroke=\"black\" points=\"431.5,-425 270.5,-425 270.5,-342 431.5,-342 431.5,-425\"/>\r\n",
       "<text text-anchor=\"middle\" x=\"351\" y=\"-409.8\" font-family=\"Times New Roman,serif\" font-size=\"14.00\">Supermarket &#45; 819 &lt;= 0.5</text>\r\n",
       "<text text-anchor=\"middle\" x=\"351\" y=\"-394.8\" font-family=\"Times New Roman,serif\" font-size=\"14.00\">gini = 0.481</text>\r\n",
       "<text text-anchor=\"middle\" x=\"351\" y=\"-379.8\" font-family=\"Times New Roman,serif\" font-size=\"14.00\">samples = 711</text>\r\n",
       "<text text-anchor=\"middle\" x=\"351\" y=\"-364.8\" font-family=\"Times New Roman,serif\" font-size=\"14.00\">value = [424, 287]</text>\r\n",
       "<text text-anchor=\"middle\" x=\"351\" y=\"-349.8\" font-family=\"Times New Roman,serif\" font-size=\"14.00\">class = No</text>\r\n",
       "</g>\r\n",
       "<!-- 5&#45;&gt;8 -->\r\n",
       "<g id=\"edge7\" class=\"edge\"><title>5&#45;&gt;8</title>\r\n",
       "<path fill=\"none\" stroke=\"black\" d=\"M351,-460.907C351,-452.649 351,-443.864 351,-435.302\"/>\r\n",
       "<polygon fill=\"black\" stroke=\"black\" points=\"354.5,-435.021 351,-425.021 347.5,-435.021 354.5,-435.021\"/>\r\n",
       "</g>\r\n",
       "<!-- 13 -->\r\n",
       "<g id=\"node6\" class=\"node\"><title>13</title>\r\n",
       "<polygon fill=\"none\" stroke=\"black\" points=\"104,-298.5 0,-298.5 0,-230.5 104,-230.5 104,-298.5\"/>\r\n",
       "<text text-anchor=\"middle\" x=\"52\" y=\"-283.3\" font-family=\"Times New Roman,serif\" font-size=\"14.00\">gini = 0.477</text>\r\n",
       "<text text-anchor=\"middle\" x=\"52\" y=\"-268.3\" font-family=\"Times New Roman,serif\" font-size=\"14.00\">samples = 130</text>\r\n",
       "<text text-anchor=\"middle\" x=\"52\" y=\"-253.3\" font-family=\"Times New Roman,serif\" font-size=\"14.00\">value = [51, 79]</text>\r\n",
       "<text text-anchor=\"middle\" x=\"52\" y=\"-238.3\" font-family=\"Times New Roman,serif\" font-size=\"14.00\">class = Yes</text>\r\n",
       "</g>\r\n",
       "<!-- 7&#45;&gt;13 -->\r\n",
       "<g id=\"edge5\" class=\"edge\"><title>7&#45;&gt;13</title>\r\n",
       "<path fill=\"none\" stroke=\"black\" d=\"M121.224,-341.907C110.727,-330.321 99.2903,-317.698 88.7924,-306.111\"/>\r\n",
       "<polygon fill=\"black\" stroke=\"black\" points=\"91.3566,-303.728 82.0487,-298.667 86.169,-308.428 91.3566,-303.728\"/>\r\n",
       "</g>\r\n",
       "<!-- 14 -->\r\n",
       "<g id=\"node7\" class=\"node\"><title>14</title>\r\n",
       "<polygon fill=\"none\" stroke=\"black\" points=\"220,-298.5 122,-298.5 122,-230.5 220,-230.5 220,-298.5\"/>\r\n",
       "<text text-anchor=\"middle\" x=\"171\" y=\"-283.3\" font-family=\"Times New Roman,serif\" font-size=\"14.00\">gini = 0.401</text>\r\n",
       "<text text-anchor=\"middle\" x=\"171\" y=\"-268.3\" font-family=\"Times New Roman,serif\" font-size=\"14.00\">samples = 18</text>\r\n",
       "<text text-anchor=\"middle\" x=\"171\" y=\"-253.3\" font-family=\"Times New Roman,serif\" font-size=\"14.00\">value = [13, 5]</text>\r\n",
       "<text text-anchor=\"middle\" x=\"171\" y=\"-238.3\" font-family=\"Times New Roman,serif\" font-size=\"14.00\">class = No</text>\r\n",
       "</g>\r\n",
       "<!-- 7&#45;&gt;14 -->\r\n",
       "<g id=\"edge6\" class=\"edge\"><title>7&#45;&gt;14</title>\r\n",
       "<path fill=\"none\" stroke=\"black\" d=\"M162.51,-341.907C163.7,-331.204 164.987,-319.615 166.192,-308.776\"/>\r\n",
       "<polygon fill=\"black\" stroke=\"black\" points=\"169.689,-308.992 167.315,-298.667 162.732,-308.219 169.689,-308.992\"/>\r\n",
       "</g>\r\n",
       "<!-- 9 -->\r\n",
       "<g id=\"node9\" class=\"node\"><title>9</title>\r\n",
       "<polygon fill=\"none\" stroke=\"black\" points=\"400.5,-306 251.5,-306 251.5,-223 400.5,-223 400.5,-306\"/>\r\n",
       "<text text-anchor=\"middle\" x=\"326\" y=\"-290.8\" font-family=\"Times New Roman,serif\" font-size=\"14.00\">Restaurant &#45; 818 &lt;= 0.5</text>\r\n",
       "<text text-anchor=\"middle\" x=\"326\" y=\"-275.8\" font-family=\"Times New Roman,serif\" font-size=\"14.00\">gini = 0.478</text>\r\n",
       "<text text-anchor=\"middle\" x=\"326\" y=\"-260.8\" font-family=\"Times New Roman,serif\" font-size=\"14.00\">samples = 700</text>\r\n",
       "<text text-anchor=\"middle\" x=\"326\" y=\"-245.8\" font-family=\"Times New Roman,serif\" font-size=\"14.00\">value = [423, 277]</text>\r\n",
       "<text text-anchor=\"middle\" x=\"326\" y=\"-230.8\" font-family=\"Times New Roman,serif\" font-size=\"14.00\">class = No</text>\r\n",
       "</g>\r\n",
       "<!-- 8&#45;&gt;9 -->\r\n",
       "<g id=\"edge8\" class=\"edge\"><title>8&#45;&gt;9</title>\r\n",
       "<path fill=\"none\" stroke=\"black\" d=\"M342.326,-341.907C340.542,-333.558 338.643,-324.671 336.795,-316.02\"/>\r\n",
       "<polygon fill=\"black\" stroke=\"black\" points=\"340.171,-315.069 334.658,-306.021 333.325,-316.531 340.171,-315.069\"/>\r\n",
       "</g>\r\n",
       "<!-- 10 -->\r\n",
       "<g id=\"node14\" class=\"node\"><title>10</title>\r\n",
       "<polygon fill=\"none\" stroke=\"black\" points=\"517,-298.5 419,-298.5 419,-230.5 517,-230.5 517,-298.5\"/>\r\n",
       "<text text-anchor=\"middle\" x=\"468\" y=\"-283.3\" font-family=\"Times New Roman,serif\" font-size=\"14.00\">gini = 0.165</text>\r\n",
       "<text text-anchor=\"middle\" x=\"468\" y=\"-268.3\" font-family=\"Times New Roman,serif\" font-size=\"14.00\">samples = 11</text>\r\n",
       "<text text-anchor=\"middle\" x=\"468\" y=\"-253.3\" font-family=\"Times New Roman,serif\" font-size=\"14.00\">value = [1, 10]</text>\r\n",
       "<text text-anchor=\"middle\" x=\"468\" y=\"-238.3\" font-family=\"Times New Roman,serif\" font-size=\"14.00\">class = Yes</text>\r\n",
       "</g>\r\n",
       "<!-- 8&#45;&gt;10 -->\r\n",
       "<g id=\"edge13\" class=\"edge\"><title>8&#45;&gt;10</title>\r\n",
       "<path fill=\"none\" stroke=\"black\" d=\"M391.593,-341.907C403.289,-330.211 416.043,-317.457 427.72,-305.78\"/>\r\n",
       "<polygon fill=\"black\" stroke=\"black\" points=\"430.237,-308.213 434.833,-298.667 425.287,-303.263 430.237,-308.213\"/>\r\n",
       "</g>\r\n",
       "<!-- 11 -->\r\n",
       "<g id=\"node10\" class=\"node\"><title>11</title>\r\n",
       "<polygon fill=\"none\" stroke=\"black\" points=\"345,-187 133,-187 133,-104 345,-104 345,-187\"/>\r\n",
       "<text text-anchor=\"middle\" x=\"239\" y=\"-171.8\" font-family=\"Times New Roman,serif\" font-size=\"14.00\">Tow Truck Company &#45; 124 &lt;= 0.5</text>\r\n",
       "<text text-anchor=\"middle\" x=\"239\" y=\"-156.8\" font-family=\"Times New Roman,serif\" font-size=\"14.00\">gini = 0.475</text>\r\n",
       "<text text-anchor=\"middle\" x=\"239\" y=\"-141.8\" font-family=\"Times New Roman,serif\" font-size=\"14.00\">samples = 685</text>\r\n",
       "<text text-anchor=\"middle\" x=\"239\" y=\"-126.8\" font-family=\"Times New Roman,serif\" font-size=\"14.00\">value = [419, 266]</text>\r\n",
       "<text text-anchor=\"middle\" x=\"239\" y=\"-111.8\" font-family=\"Times New Roman,serif\" font-size=\"14.00\">class = No</text>\r\n",
       "</g>\r\n",
       "<!-- 9&#45;&gt;11 -->\r\n",
       "<g id=\"edge9\" class=\"edge\"><title>9&#45;&gt;11</title>\r\n",
       "<path fill=\"none\" stroke=\"black\" d=\"M295.816,-222.907C289.135,-213.923 281.991,-204.315 275.101,-195.05\"/>\r\n",
       "<polygon fill=\"black\" stroke=\"black\" points=\"277.907,-192.957 269.131,-187.021 272.289,-197.134 277.907,-192.957\"/>\r\n",
       "</g>\r\n",
       "<!-- 12 -->\r\n",
       "<g id=\"node13\" class=\"node\"><title>12</title>\r\n",
       "<polygon fill=\"none\" stroke=\"black\" points=\"461,-179.5 363,-179.5 363,-111.5 461,-111.5 461,-179.5\"/>\r\n",
       "<text text-anchor=\"middle\" x=\"412\" y=\"-164.3\" font-family=\"Times New Roman,serif\" font-size=\"14.00\">gini = 0.391</text>\r\n",
       "<text text-anchor=\"middle\" x=\"412\" y=\"-149.3\" font-family=\"Times New Roman,serif\" font-size=\"14.00\">samples = 15</text>\r\n",
       "<text text-anchor=\"middle\" x=\"412\" y=\"-134.3\" font-family=\"Times New Roman,serif\" font-size=\"14.00\">value = [4, 11]</text>\r\n",
       "<text text-anchor=\"middle\" x=\"412\" y=\"-119.3\" font-family=\"Times New Roman,serif\" font-size=\"14.00\">class = Yes</text>\r\n",
       "</g>\r\n",
       "<!-- 9&#45;&gt;12 -->\r\n",
       "<g id=\"edge12\" class=\"edge\"><title>9&#45;&gt;12</title>\r\n",
       "<path fill=\"none\" stroke=\"black\" d=\"M355.837,-222.907C364.191,-211.542 373.279,-199.178 381.662,-187.774\"/>\r\n",
       "<polygon fill=\"black\" stroke=\"black\" points=\"384.518,-189.797 387.621,-179.667 378.878,-185.652 384.518,-189.797\"/>\r\n",
       "</g>\r\n",
       "<!-- 17 -->\r\n",
       "<g id=\"node11\" class=\"node\"><title>17</title>\r\n",
       "<polygon fill=\"none\" stroke=\"black\" points=\"234,-68 116,-68 116,-0 234,-0 234,-68\"/>\r\n",
       "<text text-anchor=\"middle\" x=\"175\" y=\"-52.8\" font-family=\"Times New Roman,serif\" font-size=\"14.00\">gini = 0.481</text>\r\n",
       "<text text-anchor=\"middle\" x=\"175\" y=\"-37.8\" font-family=\"Times New Roman,serif\" font-size=\"14.00\">samples = 615</text>\r\n",
       "<text text-anchor=\"middle\" x=\"175\" y=\"-22.8\" font-family=\"Times New Roman,serif\" font-size=\"14.00\">value = [367, 248]</text>\r\n",
       "<text text-anchor=\"middle\" x=\"175\" y=\"-7.8\" font-family=\"Times New Roman,serif\" font-size=\"14.00\">class = No</text>\r\n",
       "</g>\r\n",
       "<!-- 11&#45;&gt;17 -->\r\n",
       "<g id=\"edge10\" class=\"edge\"><title>11&#45;&gt;17</title>\r\n",
       "<path fill=\"none\" stroke=\"black\" d=\"M215.169,-103.726C210.104,-95.0615 204.748,-85.8962 199.653,-77.1802\"/>\r\n",
       "<polygon fill=\"black\" stroke=\"black\" points=\"202.531,-75.167 194.463,-68.2996 196.487,-78.6992 202.531,-75.167\"/>\r\n",
       "</g>\r\n",
       "<!-- 18 -->\r\n",
       "<g id=\"node12\" class=\"node\"><title>18</title>\r\n",
       "<polygon fill=\"none\" stroke=\"black\" points=\"356,-68 252,-68 252,-0 356,-0 356,-68\"/>\r\n",
       "<text text-anchor=\"middle\" x=\"304\" y=\"-52.8\" font-family=\"Times New Roman,serif\" font-size=\"14.00\">gini = 0.382</text>\r\n",
       "<text text-anchor=\"middle\" x=\"304\" y=\"-37.8\" font-family=\"Times New Roman,serif\" font-size=\"14.00\">samples = 70</text>\r\n",
       "<text text-anchor=\"middle\" x=\"304\" y=\"-22.8\" font-family=\"Times New Roman,serif\" font-size=\"14.00\">value = [52, 18]</text>\r\n",
       "<text text-anchor=\"middle\" x=\"304\" y=\"-7.8\" font-family=\"Times New Roman,serif\" font-size=\"14.00\">class = No</text>\r\n",
       "</g>\r\n",
       "<!-- 11&#45;&gt;18 -->\r\n",
       "<g id=\"edge11\" class=\"edge\"><title>11&#45;&gt;18</title>\r\n",
       "<path fill=\"none\" stroke=\"black\" d=\"M263.204,-103.726C268.401,-94.9703 273.902,-85.7032 279.125,-76.9051\"/>\r\n",
       "<polygon fill=\"black\" stroke=\"black\" points=\"282.138,-78.6853 284.233,-68.2996 276.119,-75.1121 282.138,-78.6853\"/>\r\n",
       "</g>\r\n",
       "<!-- 15 -->\r\n",
       "<g id=\"node16\" class=\"node\"><title>15</title>\r\n",
       "<polygon fill=\"none\" stroke=\"black\" points=\"554,-417.5 450,-417.5 450,-349.5 554,-349.5 554,-417.5\"/>\r\n",
       "<text text-anchor=\"middle\" x=\"502\" y=\"-402.3\" font-family=\"Times New Roman,serif\" font-size=\"14.00\">gini = 0.5</text>\r\n",
       "<text text-anchor=\"middle\" x=\"502\" y=\"-387.3\" font-family=\"Times New Roman,serif\" font-size=\"14.00\">samples = 20</text>\r\n",
       "<text text-anchor=\"middle\" x=\"502\" y=\"-372.3\" font-family=\"Times New Roman,serif\" font-size=\"14.00\">value = [10, 10]</text>\r\n",
       "<text text-anchor=\"middle\" x=\"502\" y=\"-357.3\" font-family=\"Times New Roman,serif\" font-size=\"14.00\">class = No</text>\r\n",
       "</g>\r\n",
       "<!-- 6&#45;&gt;15 -->\r\n",
       "<g id=\"edge15\" class=\"edge\"><title>6&#45;&gt;15</title>\r\n",
       "<path fill=\"none\" stroke=\"black\" d=\"M502,-460.907C502,-450.204 502,-438.615 502,-427.776\"/>\r\n",
       "<polygon fill=\"black\" stroke=\"black\" points=\"505.5,-427.667 502,-417.667 498.5,-427.667 505.5,-427.667\"/>\r\n",
       "</g>\r\n",
       "<!-- 16 -->\r\n",
       "<g id=\"node17\" class=\"node\"><title>16</title>\r\n",
       "<polygon fill=\"none\" stroke=\"black\" points=\"683.5,-417.5 572.5,-417.5 572.5,-349.5 683.5,-349.5 683.5,-417.5\"/>\r\n",
       "<text text-anchor=\"middle\" x=\"628\" y=\"-402.3\" font-family=\"Times New Roman,serif\" font-size=\"14.00\">gini = 0.321</text>\r\n",
       "<text text-anchor=\"middle\" x=\"628\" y=\"-387.3\" font-family=\"Times New Roman,serif\" font-size=\"14.00\">samples = 259</text>\r\n",
       "<text text-anchor=\"middle\" x=\"628\" y=\"-372.3\" font-family=\"Times New Roman,serif\" font-size=\"14.00\">value = [207, 52]</text>\r\n",
       "<text text-anchor=\"middle\" x=\"628\" y=\"-357.3\" font-family=\"Times New Roman,serif\" font-size=\"14.00\">class = No</text>\r\n",
       "</g>\r\n",
       "<!-- 6&#45;&gt;16 -->\r\n",
       "<g id=\"edge16\" class=\"edge\"><title>6&#45;&gt;16</title>\r\n",
       "<path fill=\"none\" stroke=\"black\" d=\"M545.715,-460.907C558.311,-449.211 572.046,-436.457 584.622,-424.78\"/>\r\n",
       "<polygon fill=\"black\" stroke=\"black\" points=\"587.335,-427.036 592.282,-417.667 582.572,-421.907 587.335,-427.036\"/>\r\n",
       "</g>\r\n",
       "</g>\r\n",
       "</svg>\r\n"
      ],
      "text/plain": [
       "<graphviz.files.Source at 0x18af0f50308>"
      ]
     },
     "execution_count": 64,
     "metadata": {},
     "output_type": "execute_result"
    }
   ],
   "source": [
    "### Visualizing the Tree\n",
    "from sklearn.tree import export_graphviz\n",
    "\n",
    "from IPython.display import SVG\n",
    "from graphviz import Source\n",
    "from IPython.display import display\n",
    "\n",
    "#which one do we put first, yes or no for the class names\n",
    "tree = export_graphviz(treeclf, out_file='tree.html', feature_names=df_train.columns, class_names=['No','Yes'])\n",
    "import graphviz\n",
    "\n",
    "with open(\"tree.html\") as f:\n",
    "    dot_graph = f.read()\n",
    "graphviz.Source(dot_graph, format=\"png\")"
   ]
  },
  {
   "cell_type": "code",
   "execution_count": 65,
   "metadata": {
    "scrolled": false
   },
   "outputs": [],
   "source": [
    "#display(SVG(graph.pipe(format='svg')))"
   ]
  },
  {
   "cell_type": "markdown",
   "metadata": {},
   "source": [
    "### Next using Grid Search for optimized Decision Tree parameters "
   ]
  },
  {
   "cell_type": "code",
   "execution_count": 66,
   "metadata": {},
   "outputs": [],
   "source": [
    "from sklearn.model_selection import GridSearchCV\n",
    "from sklearn import tree\n",
    "from sklearn.model_selection import cross_val_score"
   ]
  },
  {
   "cell_type": "code",
   "execution_count": 67,
   "metadata": {},
   "outputs": [],
   "source": [
    "dt = tree.DecisionTreeClassifier()"
   ]
  },
  {
   "cell_type": "code",
   "execution_count": 68,
   "metadata": {},
   "outputs": [],
   "source": [
    "parameters = {\n",
    "    'criterion': ['entropy','gini'],\n",
    "    'max_depth': np.linspace(3, 15, 10, dtype=int),\n",
    "    'min_samples_leaf': np.linspace(5, 30, 10, dtype=int),\n",
    "    'min_samples_split': np.linspace(10, 20, 10, dtype=int), \n",
    "    'max_leaf_nodes' : np.linspace(2, 12, 3, dtype=int),\n",
    "    \n",
    "}"
   ]
  },
  {
   "cell_type": "code",
   "execution_count": 69,
   "metadata": {},
   "outputs": [],
   "source": [
    "gs = GridSearchCV(dt, parameters, verbose=1, cv=5)"
   ]
  },
  {
   "cell_type": "code",
   "execution_count": 70,
   "metadata": {},
   "outputs": [
    {
     "name": "stdout",
     "output_type": "stream",
     "text": [
      "Fitting 5 folds for each of 6000 candidates, totalling 30000 fits\n"
     ]
    },
    {
     "name": "stderr",
     "output_type": "stream",
     "text": [
      "[Parallel(n_jobs=1)]: Using backend SequentialBackend with 1 concurrent workers.\n"
     ]
    },
    {
     "name": "stdout",
     "output_type": "stream",
     "text": [
      "Wall time: 3min 54s\n"
     ]
    },
    {
     "name": "stderr",
     "output_type": "stream",
     "text": [
      "[Parallel(n_jobs=1)]: Done 30000 out of 30000 | elapsed:  3.9min finished\n"
     ]
    },
    {
     "data": {
      "text/plain": [
       "({'criterion': 'entropy',\n",
       "  'max_depth': 7,\n",
       "  'max_leaf_nodes': 7,\n",
       "  'min_samples_leaf': 30,\n",
       "  'min_samples_split': 10},\n",
       " 0.7734682405845981)"
      ]
     },
     "execution_count": 70,
     "metadata": {},
     "output_type": "execute_result"
    }
   ],
   "source": [
    "%time _ = gs.fit(df_train, df_target_train)\n",
    "\n",
    "gs.best_params_, gs.best_score_"
   ]
  },
  {
   "cell_type": "code",
   "execution_count": 71,
   "metadata": {},
   "outputs": [],
   "source": [
    "# using best parameters from the above grid search results.\n",
    "treeclfOpt = tree.DecisionTreeClassifier(criterion= 'entropy', max_leaf_nodes = 7, max_depth = 7, min_samples_leaf= 30, min_samples_split= 10) #max_leaf_nodes"
   ]
  },
  {
   "cell_type": "code",
   "execution_count": 72,
   "metadata": {},
   "outputs": [],
   "source": [
    "treeclfOpt = treeclfOpt.fit(df_train, df_target_train)"
   ]
  },
  {
   "cell_type": "code",
   "execution_count": 73,
   "metadata": {},
   "outputs": [
    {
     "name": "stdout",
     "output_type": "stream",
     "text": [
      "['Yes' 'No' 'Yes' 'Yes' 'No' 'No' 'Yes' 'Yes' 'No' 'No' 'No' 'Yes' 'No'\n",
      " 'Yes' 'No' 'Yes' 'Yes' 'Yes' 'Yes' 'Yes' 'Yes' 'No' 'No' 'Yes' 'No' 'Yes'\n",
      " 'No' 'No' 'Yes' 'No' 'Yes' 'No' 'Yes' 'No' 'No' 'Yes' 'No' 'Yes' 'No'\n",
      " 'No' 'No' 'Yes' 'No' 'Yes' 'No' 'No' 'Yes' 'Yes' 'Yes' 'Yes' 'Yes' 'No'\n",
      " 'Yes' 'Yes' 'No' 'No' 'Yes' 'No' 'No' 'Yes' 'Yes' 'No' 'Yes' 'No' 'No'\n",
      " 'No' 'No' 'No' 'Yes' 'No' 'No' 'No' 'Yes' 'Yes' 'No' 'No' 'Yes' 'No'\n",
      " 'Yes' 'No' 'No' 'No' 'Yes' 'No' 'No' 'Yes' 'No' 'Yes' 'No' 'No' 'No' 'No'\n",
      " 'Yes' 'Yes' 'Yes' 'Yes' 'No' 'No' 'No' 'No' 'No' 'No' 'Yes' 'No' 'No'\n",
      " 'Yes' 'Yes' 'No' 'Yes' 'Yes' 'Yes' 'No' 'No' 'No' 'No' 'Yes' 'Yes' 'No'\n",
      " 'No' 'Yes' 'Yes' 'Yes' 'Yes' 'No' 'Yes' 'No' 'Yes' 'Yes' 'Yes' 'No' 'Yes'\n",
      " 'Yes' 'No' 'No' 'Yes' 'Yes' 'No' 'No' 'Yes' 'No' 'Yes' 'Yes' 'No' 'Yes'\n",
      " 'Yes' 'No' 'Yes' 'No' 'No' 'Yes' 'No' 'Yes' 'No' 'No' 'Yes' 'Yes' 'Yes'\n",
      " 'No' 'Yes' 'Yes' 'Yes' 'No' 'Yes' 'Yes' 'Yes' 'Yes' 'No' 'No' 'No' 'Yes'\n",
      " 'Yes' 'No' 'No' 'No' 'Yes' 'Yes' 'No' 'Yes' 'Yes' 'No' 'Yes' 'Yes' 'No'\n",
      " 'No' 'Yes' 'Yes' 'Yes' 'Yes' 'No' 'No' 'No' 'No' 'No' 'No' 'No' 'No' 'No'\n",
      " 'Yes' 'Yes' 'Yes' 'No' 'No' 'Yes' 'Yes' 'Yes' 'No' 'No' 'No' 'No' 'No'\n",
      " 'No' 'No' 'Yes' 'No' 'No' 'No' 'No' 'No' 'Yes' 'Yes' 'Yes' 'No' 'Yes'\n",
      " 'No' 'Yes' 'No' 'No' 'Yes' 'Yes' 'Yes' 'Yes' 'Yes' 'Yes' 'Yes' 'Yes'\n",
      " 'Yes' 'No' 'Yes' 'Yes' 'No' 'No' 'No' 'Yes' 'No' 'Yes' 'Yes' 'Yes' 'No'\n",
      " 'No' 'No' 'No' 'Yes' 'No' 'Yes' 'No' 'No' 'Yes' 'Yes' 'Yes' 'Yes' 'Yes'\n",
      " 'No' 'No' 'No' 'Yes' 'Yes' 'No' 'No' 'Yes' 'No' 'Yes' 'No' 'Yes' 'Yes'\n",
      " 'No' 'No' 'Yes' 'No' 'Yes' 'Yes' 'Yes' 'No' 'Yes' 'No' 'No' 'Yes' 'Yes'\n",
      " 'No' 'No' 'Yes' 'No' 'No' 'No' 'Yes' 'No' 'No' 'No' 'No' 'No' 'Yes' 'Yes'\n",
      " 'Yes' 'No' 'Yes' 'Yes' 'Yes' 'No' 'No' 'Yes' 'No' 'No' 'Yes' 'No' 'No'\n",
      " 'No' 'No' 'No' 'No' 'No' 'No' 'Yes' 'No' 'No' 'No' 'No' 'No' 'Yes' 'No'\n",
      " 'Yes' 'Yes' 'No' 'Yes' 'Yes' 'No' 'Yes' 'Yes' 'Yes' 'No' 'No' 'No' 'No'\n",
      " 'No' 'Yes' 'No' 'No' 'No' 'Yes' 'Yes' 'No' 'Yes' 'Yes' 'Yes' 'Yes' 'No'\n",
      " 'Yes' 'Yes' 'Yes' 'Yes' 'Yes' 'No' 'No' 'Yes' 'Yes' 'No' 'No' 'No' 'Yes'\n",
      " 'No' 'No' 'No' 'Yes' 'Yes' 'No' 'No' 'No' 'No' 'Yes' 'No' 'Yes' 'No'\n",
      " 'Yes' 'No' 'Yes' 'No' 'No' 'No' 'Yes' 'Yes' 'No' 'No' 'No' 'No' 'No' 'No'\n",
      " 'No' 'No' 'Yes' 'Yes' 'Yes' 'Yes' 'No' 'Yes' 'Yes' 'No' 'Yes' 'No' 'Yes'\n",
      " 'No' 'Yes' 'Yes' 'No' 'Yes' 'No' 'No' 'No' 'No' 'Yes' 'No' 'Yes' 'Yes'\n",
      " 'No' 'Yes' 'No' 'Yes' 'No' 'No' 'No' 'Yes' 'No' 'Yes' 'No' 'No' 'No'\n",
      " 'Yes' 'Yes' 'No' 'Yes' 'Yes' 'Yes' 'No' 'Yes' 'No' 'Yes' 'No' 'Yes']\n"
     ]
    }
   ],
   "source": [
    "treepreds_test = treeclfOpt.predict(df_test)\n",
    "print(treepreds_test)"
   ]
  },
  {
   "cell_type": "code",
   "execution_count": 74,
   "metadata": {},
   "outputs": [
    {
     "name": "stdout",
     "output_type": "stream",
     "text": [
      "0.7842696629213484\n"
     ]
    }
   ],
   "source": [
    "print(treeclfOpt.score(df_test, df_target_test))"
   ]
  },
  {
   "cell_type": "code",
   "execution_count": 75,
   "metadata": {},
   "outputs": [
    {
     "name": "stdout",
     "output_type": "stream",
     "text": [
      "[0.73333333 0.82222222 0.77777778 0.75555556 0.71111111 0.8\n",
      " 0.77777778 0.63636364 0.72093023 0.86046512]\n"
     ]
    }
   ],
   "source": [
    "cv_scores = cross_val_score(treeclfOpt, df_test, df_target_test, cv=10)\n",
    "print(cv_scores)"
   ]
  },
  {
   "cell_type": "markdown",
   "metadata": {},
   "source": [
    "#### Accuracy still 77%"
   ]
  },
  {
   "cell_type": "code",
   "execution_count": 76,
   "metadata": {},
   "outputs": [
    {
     "name": "stdout",
     "output_type": "stream",
     "text": [
      "0.7740303541315345\n"
     ]
    }
   ],
   "source": [
    "print(treeclfOpt.score(df_train, df_target_train))"
   ]
  },
  {
   "cell_type": "code",
   "execution_count": 77,
   "metadata": {},
   "outputs": [
    {
     "name": "stdout",
     "output_type": "stream",
     "text": [
      "              precision    recall  f1-score   support\n",
      "\n",
      "          No       0.67      0.89      0.77       177\n",
      "         Yes       0.91      0.71      0.80       268\n",
      "\n",
      "    accuracy                           0.78       445\n",
      "   macro avg       0.79      0.80      0.78       445\n",
      "weighted avg       0.82      0.78      0.79       445\n",
      "\n"
     ]
    }
   ],
   "source": [
    "print(classification_report(df_target_test, treepreds_test))"
   ]
  },
  {
   "cell_type": "code",
   "execution_count": 78,
   "metadata": {},
   "outputs": [
    {
     "name": "stdout",
     "output_type": "stream",
     "text": [
      "[[158  19]\n",
      " [ 77 191]]\n"
     ]
    }
   ],
   "source": [
    "treecm = confusion_matrix(df_target_test, treepreds_test)\n",
    "print(treecm)"
   ]
  },
  {
   "cell_type": "code",
   "execution_count": 79,
   "metadata": {},
   "outputs": [
    {
     "data": {
      "image/png": "[encoded data removed]",
      "text/plain": [
       "<Figure size 288x288 with 2 Axes>"
      ]
     },
     "metadata": {
      "needs_background": "light"
     },
     "output_type": "display_data"
    }
   ],
   "source": [
    "### Plot the confusion matrix\n",
    "\n",
    "import pylab as plt\n",
    "%matplotlib inline\n",
    "plt.matshow(treecm)\n",
    "plt.title('Confusion matrix fo Decision Tree')\n",
    "plt.colorbar()\n",
    "plt.ylabel('Actual')\n",
    "plt.xlabel('Predicted')\n",
    "plt.show()"
   ]
  },
  {
   "cell_type": "code",
   "execution_count": 80,
   "metadata": {},
   "outputs": [
    {
     "data": {
      "image/svg+xml": [
       "<?xml version=\"1.0\" encoding=\"UTF-8\" standalone=\"no\"?>\r\n",
       "<!DOCTYPE svg PUBLIC \"-//W3C//DTD SVG 1.1//EN\"\r\n",
       " \"http://www.w3.org/Graphics/SVG/1.1/DTD/svg11.dtd\">\r\n",
       "<!-- Generated by graphviz version 2.38.0 (20140413.2041)\r\n",
       " -->\r\n",
       "<!-- Title: Tree Pages: 1 -->\r\n",
       "<svg width=\"551pt\" height=\"790pt\"\r\n",
       " viewBox=\"0.00 0.00 551.00 790.00\" xmlns=\"http://www.w3.org/2000/svg\" xmlns:xlink=\"http://www.w3.org/1999/xlink\">\r\n",
       "<g id=\"graph0\" class=\"graph\" transform=\"scale(1 1) rotate(0) translate(4 786)\">\r\n",
       "<title>Tree</title>\r\n",
       "<polygon fill=\"white\" stroke=\"none\" points=\"-4,4 -4,-786 547,-786 547,4 -4,4\"/>\r\n",
       "<!-- 0 -->\r\n",
       "<g id=\"node1\" class=\"node\"><title>0</title>\r\n",
       "<polygon fill=\"none\" stroke=\"black\" points=\"462.5,-782 337.5,-782 337.5,-699 462.5,-699 462.5,-782\"/>\r\n",
       "<text text-anchor=\"middle\" x=\"400\" y=\"-766.8\" font-family=\"Times New Roman,serif\" font-size=\"14.00\">Restitution &lt;= 1.5</text>\r\n",
       "<text text-anchor=\"middle\" x=\"400\" y=\"-751.8\" font-family=\"Times New Roman,serif\" font-size=\"14.00\">entropy = 0.969</text>\r\n",
       "<text text-anchor=\"middle\" x=\"400\" y=\"-736.8\" font-family=\"Times New Roman,serif\" font-size=\"14.00\">samples = 1779</text>\r\n",
       "<text text-anchor=\"middle\" x=\"400\" y=\"-721.8\" font-family=\"Times New Roman,serif\" font-size=\"14.00\">value = [706, 1073]</text>\r\n",
       "<text text-anchor=\"middle\" x=\"400\" y=\"-706.8\" font-family=\"Times New Roman,serif\" font-size=\"14.00\">class = Yes</text>\r\n",
       "</g>\r\n",
       "<!-- 1 -->\r\n",
       "<g id=\"node2\" class=\"node\"><title>1</title>\r\n",
       "<polygon fill=\"none\" stroke=\"black\" points=\"421,-663 197,-663 197,-580 421,-580 421,-663\"/>\r\n",
       "<text text-anchor=\"middle\" x=\"309\" y=\"-647.8\" font-family=\"Times New Roman,serif\" font-size=\"14.00\">Debt Collection Agency &#45; 122 &lt;= 0.5</text>\r\n",
       "<text text-anchor=\"middle\" x=\"309\" y=\"-632.8\" font-family=\"Times New Roman,serif\" font-size=\"14.00\">entropy = 0.983</text>\r\n",
       "<text text-anchor=\"middle\" x=\"309\" y=\"-617.8\" font-family=\"Times New Roman,serif\" font-size=\"14.00\">samples = 1224</text>\r\n",
       "<text text-anchor=\"middle\" x=\"309\" y=\"-602.8\" font-family=\"Times New Roman,serif\" font-size=\"14.00\">value = [706, 518]</text>\r\n",
       "<text text-anchor=\"middle\" x=\"309\" y=\"-587.8\" font-family=\"Times New Roman,serif\" font-size=\"14.00\">class = No</text>\r\n",
       "</g>\r\n",
       "<!-- 0&#45;&gt;1 -->\r\n",
       "<g id=\"edge1\" class=\"edge\"><title>0&#45;&gt;1</title>\r\n",
       "<path fill=\"none\" stroke=\"black\" d=\"M368.428,-698.907C361.44,-689.923 353.967,-680.315 346.761,-671.05\"/>\r\n",
       "<polygon fill=\"black\" stroke=\"black\" points=\"349.418,-668.766 340.516,-663.021 343.893,-673.063 349.418,-668.766\"/>\r\n",
       "<text text-anchor=\"middle\" x=\"337.415\" y=\"-684.128\" font-family=\"Times New Roman,serif\" font-size=\"14.00\">True</text>\r\n",
       "</g>\r\n",
       "<!-- 2 -->\r\n",
       "<g id=\"node13\" class=\"node\"><title>2</title>\r\n",
       "<polygon fill=\"none\" stroke=\"black\" points=\"543,-655.5 439,-655.5 439,-587.5 543,-587.5 543,-655.5\"/>\r\n",
       "<text text-anchor=\"middle\" x=\"491\" y=\"-640.3\" font-family=\"Times New Roman,serif\" font-size=\"14.00\">entropy = 0.0</text>\r\n",
       "<text text-anchor=\"middle\" x=\"491\" y=\"-625.3\" font-family=\"Times New Roman,serif\" font-size=\"14.00\">samples = 555</text>\r\n",
       "<text text-anchor=\"middle\" x=\"491\" y=\"-610.3\" font-family=\"Times New Roman,serif\" font-size=\"14.00\">value = [0, 555]</text>\r\n",
       "<text text-anchor=\"middle\" x=\"491\" y=\"-595.3\" font-family=\"Times New Roman,serif\" font-size=\"14.00\">class = Yes</text>\r\n",
       "</g>\r\n",
       "<!-- 0&#45;&gt;2 -->\r\n",
       "<g id=\"edge12\" class=\"edge\"><title>0&#45;&gt;2</title>\r\n",
       "<path fill=\"none\" stroke=\"black\" d=\"M431.572,-698.907C440.412,-687.542 450.028,-675.178 458.898,-663.774\"/>\r\n",
       "<polygon fill=\"black\" stroke=\"black\" points=\"461.827,-665.709 465.203,-655.667 456.301,-661.412 461.827,-665.709\"/>\r\n",
       "<text text-anchor=\"middle\" x=\"468.304\" y=\"-676.774\" font-family=\"Times New Roman,serif\" font-size=\"14.00\">False</text>\r\n",
       "</g>\r\n",
       "<!-- 3 -->\r\n",
       "<g id=\"node3\" class=\"node\"><title>3</title>\r\n",
       "<polygon fill=\"none\" stroke=\"black\" points=\"340,-544 74,-544 74,-461 340,-461 340,-544\"/>\r\n",
       "<text text-anchor=\"middle\" x=\"207\" y=\"-528.8\" font-family=\"Times New Roman,serif\" font-size=\"14.00\">Home Improvement Contractor &#45; 100 &lt;= 0.5</text>\r\n",
       "<text text-anchor=\"middle\" x=\"207\" y=\"-513.8\" font-family=\"Times New Roman,serif\" font-size=\"14.00\">entropy = 0.958</text>\r\n",
       "<text text-anchor=\"middle\" x=\"207\" y=\"-498.8\" font-family=\"Times New Roman,serif\" font-size=\"14.00\">samples = 1138</text>\r\n",
       "<text text-anchor=\"middle\" x=\"207\" y=\"-483.8\" font-family=\"Times New Roman,serif\" font-size=\"14.00\">value = [705, 433]</text>\r\n",
       "<text text-anchor=\"middle\" x=\"207\" y=\"-468.8\" font-family=\"Times New Roman,serif\" font-size=\"14.00\">class = No</text>\r\n",
       "</g>\r\n",
       "<!-- 1&#45;&gt;3 -->\r\n",
       "<g id=\"edge2\" class=\"edge\"><title>1&#45;&gt;3</title>\r\n",
       "<path fill=\"none\" stroke=\"black\" d=\"M273.612,-579.907C265.7,-570.832 257.234,-561.121 249.081,-551.769\"/>\r\n",
       "<polygon fill=\"black\" stroke=\"black\" points=\"251.535,-549.259 242.326,-544.021 246.259,-553.859 251.535,-549.259\"/>\r\n",
       "</g>\r\n",
       "<!-- 4 -->\r\n",
       "<g id=\"node12\" class=\"node\"><title>4</title>\r\n",
       "<polygon fill=\"none\" stroke=\"black\" points=\"464,-536.5 358,-536.5 358,-468.5 464,-468.5 464,-536.5\"/>\r\n",
       "<text text-anchor=\"middle\" x=\"411\" y=\"-521.3\" font-family=\"Times New Roman,serif\" font-size=\"14.00\">entropy = 0.091</text>\r\n",
       "<text text-anchor=\"middle\" x=\"411\" y=\"-506.3\" font-family=\"Times New Roman,serif\" font-size=\"14.00\">samples = 86</text>\r\n",
       "<text text-anchor=\"middle\" x=\"411\" y=\"-491.3\" font-family=\"Times New Roman,serif\" font-size=\"14.00\">value = [1, 85]</text>\r\n",
       "<text text-anchor=\"middle\" x=\"411\" y=\"-476.3\" font-family=\"Times New Roman,serif\" font-size=\"14.00\">class = Yes</text>\r\n",
       "</g>\r\n",
       "<!-- 1&#45;&gt;4 -->\r\n",
       "<g id=\"edge11\" class=\"edge\"><title>1&#45;&gt;4</title>\r\n",
       "<path fill=\"none\" stroke=\"black\" d=\"M344.388,-579.907C354.393,-568.432 365.285,-555.938 375.307,-544.442\"/>\r\n",
       "<polygon fill=\"black\" stroke=\"black\" points=\"378.152,-546.505 382.085,-536.667 372.876,-541.905 378.152,-546.505\"/>\r\n",
       "</g>\r\n",
       "<!-- 5 -->\r\n",
       "<g id=\"node4\" class=\"node\"><title>5</title>\r\n",
       "<polygon fill=\"none\" stroke=\"black\" points=\"200,-425 82,-425 82,-342 200,-342 200,-425\"/>\r\n",
       "<text text-anchor=\"middle\" x=\"141\" y=\"-409.8\" font-family=\"Times New Roman,serif\" font-size=\"14.00\">NY &lt;= 0.5</text>\r\n",
       "<text text-anchor=\"middle\" x=\"141\" y=\"-394.8\" font-family=\"Times New Roman,serif\" font-size=\"14.00\">entropy = 0.987</text>\r\n",
       "<text text-anchor=\"middle\" x=\"141\" y=\"-379.8\" font-family=\"Times New Roman,serif\" font-size=\"14.00\">samples = 859</text>\r\n",
       "<text text-anchor=\"middle\" x=\"141\" y=\"-364.8\" font-family=\"Times New Roman,serif\" font-size=\"14.00\">value = [488, 371]</text>\r\n",
       "<text text-anchor=\"middle\" x=\"141\" y=\"-349.8\" font-family=\"Times New Roman,serif\" font-size=\"14.00\">class = No</text>\r\n",
       "</g>\r\n",
       "<!-- 3&#45;&gt;5 -->\r\n",
       "<g id=\"edge3\" class=\"edge\"><title>3&#45;&gt;5</title>\r\n",
       "<path fill=\"none\" stroke=\"black\" d=\"M184.102,-460.907C179.187,-452.195 173.942,-442.897 168.863,-433.893\"/>\r\n",
       "<polygon fill=\"black\" stroke=\"black\" points=\"171.82,-432.011 163.858,-425.021 165.723,-435.45 171.82,-432.011\"/>\r\n",
       "</g>\r\n",
       "<!-- 6 -->\r\n",
       "<g id=\"node11\" class=\"node\"><title>6</title>\r\n",
       "<polygon fill=\"none\" stroke=\"black\" points=\"329.5,-417.5 218.5,-417.5 218.5,-349.5 329.5,-349.5 329.5,-417.5\"/>\r\n",
       "<text text-anchor=\"middle\" x=\"274\" y=\"-402.3\" font-family=\"Times New Roman,serif\" font-size=\"14.00\">entropy = 0.764</text>\r\n",
       "<text text-anchor=\"middle\" x=\"274\" y=\"-387.3\" font-family=\"Times New Roman,serif\" font-size=\"14.00\">samples = 279</text>\r\n",
       "<text text-anchor=\"middle\" x=\"274\" y=\"-372.3\" font-family=\"Times New Roman,serif\" font-size=\"14.00\">value = [217, 62]</text>\r\n",
       "<text text-anchor=\"middle\" x=\"274\" y=\"-357.3\" font-family=\"Times New Roman,serif\" font-size=\"14.00\">class = No</text>\r\n",
       "</g>\r\n",
       "<!-- 3&#45;&gt;6 -->\r\n",
       "<g id=\"edge10\" class=\"edge\"><title>3&#45;&gt;6</title>\r\n",
       "<path fill=\"none\" stroke=\"black\" d=\"M230.245,-460.907C236.627,-449.763 243.559,-437.658 249.984,-426.439\"/>\r\n",
       "<polygon fill=\"black\" stroke=\"black\" points=\"253.075,-428.084 255.007,-417.667 247,-424.606 253.075,-428.084\"/>\r\n",
       "</g>\r\n",
       "<!-- 7 -->\r\n",
       "<g id=\"node5\" class=\"node\"><title>7</title>\r\n",
       "<polygon fill=\"none\" stroke=\"black\" points=\"106,-298.5 0,-298.5 0,-230.5 106,-230.5 106,-298.5\"/>\r\n",
       "<text text-anchor=\"middle\" x=\"53\" y=\"-283.3\" font-family=\"Times New Roman,serif\" font-size=\"14.00\">entropy = 0.987</text>\r\n",
       "<text text-anchor=\"middle\" x=\"53\" y=\"-268.3\" font-family=\"Times New Roman,serif\" font-size=\"14.00\">samples = 148</text>\r\n",
       "<text text-anchor=\"middle\" x=\"53\" y=\"-253.3\" font-family=\"Times New Roman,serif\" font-size=\"14.00\">value = [64, 84]</text>\r\n",
       "<text text-anchor=\"middle\" x=\"53\" y=\"-238.3\" font-family=\"Times New Roman,serif\" font-size=\"14.00\">class = Yes</text>\r\n",
       "</g>\r\n",
       "<!-- 5&#45;&gt;7 -->\r\n",
       "<g id=\"edge4\" class=\"edge\"><title>5&#45;&gt;7</title>\r\n",
       "<path fill=\"none\" stroke=\"black\" d=\"M110.469,-341.907C101.92,-330.542 92.6213,-318.178 84.0435,-306.774\"/>\r\n",
       "<polygon fill=\"black\" stroke=\"black\" points=\"86.7542,-304.555 77.9461,-298.667 81.1599,-308.763 86.7542,-304.555\"/>\r\n",
       "</g>\r\n",
       "<!-- 8 -->\r\n",
       "<g id=\"node6\" class=\"node\"><title>8</title>\r\n",
       "<polygon fill=\"none\" stroke=\"black\" points=\"336,-306 124,-306 124,-223 336,-223 336,-306\"/>\r\n",
       "<text text-anchor=\"middle\" x=\"230\" y=\"-290.8\" font-family=\"Times New Roman,serif\" font-size=\"14.00\">Tow Truck Company &#45; 124 &lt;= 0.5</text>\r\n",
       "<text text-anchor=\"middle\" x=\"230\" y=\"-275.8\" font-family=\"Times New Roman,serif\" font-size=\"14.00\">entropy = 0.973</text>\r\n",
       "<text text-anchor=\"middle\" x=\"230\" y=\"-260.8\" font-family=\"Times New Roman,serif\" font-size=\"14.00\">samples = 711</text>\r\n",
       "<text text-anchor=\"middle\" x=\"230\" y=\"-245.8\" font-family=\"Times New Roman,serif\" font-size=\"14.00\">value = [424, 287]</text>\r\n",
       "<text text-anchor=\"middle\" x=\"230\" y=\"-230.8\" font-family=\"Times New Roman,serif\" font-size=\"14.00\">class = No</text>\r\n",
       "</g>\r\n",
       "<!-- 5&#45;&gt;8 -->\r\n",
       "<g id=\"edge5\" class=\"edge\"><title>5&#45;&gt;8</title>\r\n",
       "<path fill=\"none\" stroke=\"black\" d=\"M171.878,-341.907C178.712,-332.923 186.021,-323.315 193.069,-314.05\"/>\r\n",
       "<polygon fill=\"black\" stroke=\"black\" points=\"195.908,-316.099 199.176,-306.021 190.336,-311.861 195.908,-316.099\"/>\r\n",
       "</g>\r\n",
       "<!-- 9 -->\r\n",
       "<g id=\"node7\" class=\"node\"><title>9</title>\r\n",
       "<polygon fill=\"none\" stroke=\"black\" points=\"249,-187 33,-187 33,-104 249,-104 249,-187\"/>\r\n",
       "<text text-anchor=\"middle\" x=\"141\" y=\"-171.8\" font-family=\"Times New Roman,serif\" font-size=\"14.00\">Surcharge/Overcharge &#45; S02 &lt;= 0.5</text>\r\n",
       "<text text-anchor=\"middle\" x=\"141\" y=\"-156.8\" font-family=\"Times New Roman,serif\" font-size=\"14.00\">entropy = 0.981</text>\r\n",
       "<text text-anchor=\"middle\" x=\"141\" y=\"-141.8\" font-family=\"Times New Roman,serif\" font-size=\"14.00\">samples = 641</text>\r\n",
       "<text text-anchor=\"middle\" x=\"141\" y=\"-126.8\" font-family=\"Times New Roman,serif\" font-size=\"14.00\">value = [372, 269]</text>\r\n",
       "<text text-anchor=\"middle\" x=\"141\" y=\"-111.8\" font-family=\"Times New Roman,serif\" font-size=\"14.00\">class = No</text>\r\n",
       "</g>\r\n",
       "<!-- 8&#45;&gt;9 -->\r\n",
       "<g id=\"edge6\" class=\"edge\"><title>8&#45;&gt;9</title>\r\n",
       "<path fill=\"none\" stroke=\"black\" d=\"M199.122,-222.907C192.288,-213.923 184.979,-204.315 177.931,-195.05\"/>\r\n",
       "<polygon fill=\"black\" stroke=\"black\" points=\"180.664,-192.861 171.824,-187.021 175.092,-197.099 180.664,-192.861\"/>\r\n",
       "</g>\r\n",
       "<!-- 10 -->\r\n",
       "<g id=\"node10\" class=\"node\"><title>10</title>\r\n",
       "<polygon fill=\"none\" stroke=\"black\" points=\"373,-179.5 267,-179.5 267,-111.5 373,-111.5 373,-179.5\"/>\r\n",
       "<text text-anchor=\"middle\" x=\"320\" y=\"-164.3\" font-family=\"Times New Roman,serif\" font-size=\"14.00\">entropy = 0.822</text>\r\n",
       "<text text-anchor=\"middle\" x=\"320\" y=\"-149.3\" font-family=\"Times New Roman,serif\" font-size=\"14.00\">samples = 70</text>\r\n",
       "<text text-anchor=\"middle\" x=\"320\" y=\"-134.3\" font-family=\"Times New Roman,serif\" font-size=\"14.00\">value = [52, 18]</text>\r\n",
       "<text text-anchor=\"middle\" x=\"320\" y=\"-119.3\" font-family=\"Times New Roman,serif\" font-size=\"14.00\">class = No</text>\r\n",
       "</g>\r\n",
       "<!-- 8&#45;&gt;10 -->\r\n",
       "<g id=\"edge9\" class=\"edge\"><title>8&#45;&gt;10</title>\r\n",
       "<path fill=\"none\" stroke=\"black\" d=\"M261.225,-222.907C269.968,-211.542 279.478,-199.178 288.251,-187.774\"/>\r\n",
       "<polygon fill=\"black\" stroke=\"black\" points=\"291.164,-189.727 294.487,-179.667 285.616,-185.459 291.164,-189.727\"/>\r\n",
       "</g>\r\n",
       "<!-- 11 -->\r\n",
       "<g id=\"node8\" class=\"node\"><title>11</title>\r\n",
       "<polygon fill=\"none\" stroke=\"black\" points=\"135,-68 17,-68 17,-0 135,-0 135,-68\"/>\r\n",
       "<text text-anchor=\"middle\" x=\"76\" y=\"-52.8\" font-family=\"Times New Roman,serif\" font-size=\"14.00\">entropy = 0.971</text>\r\n",
       "<text text-anchor=\"middle\" x=\"76\" y=\"-37.8\" font-family=\"Times New Roman,serif\" font-size=\"14.00\">samples = 571</text>\r\n",
       "<text text-anchor=\"middle\" x=\"76\" y=\"-22.8\" font-family=\"Times New Roman,serif\" font-size=\"14.00\">value = [343, 228]</text>\r\n",
       "<text text-anchor=\"middle\" x=\"76\" y=\"-7.8\" font-family=\"Times New Roman,serif\" font-size=\"14.00\">class = No</text>\r\n",
       "</g>\r\n",
       "<!-- 9&#45;&gt;11 -->\r\n",
       "<g id=\"edge7\" class=\"edge\"><title>9&#45;&gt;11</title>\r\n",
       "<path fill=\"none\" stroke=\"black\" d=\"M116.796,-103.726C111.599,-94.9703 106.098,-85.7032 100.875,-76.9051\"/>\r\n",
       "<polygon fill=\"black\" stroke=\"black\" points=\"103.881,-75.1121 95.7669,-68.2996 97.8617,-78.6853 103.881,-75.1121\"/>\r\n",
       "</g>\r\n",
       "<!-- 12 -->\r\n",
       "<g id=\"node9\" class=\"node\"><title>12</title>\r\n",
       "<polygon fill=\"none\" stroke=\"black\" points=\"259,-68 153,-68 153,-0 259,-0 259,-68\"/>\r\n",
       "<text text-anchor=\"middle\" x=\"206\" y=\"-52.8\" font-family=\"Times New Roman,serif\" font-size=\"14.00\">entropy = 0.979</text>\r\n",
       "<text text-anchor=\"middle\" x=\"206\" y=\"-37.8\" font-family=\"Times New Roman,serif\" font-size=\"14.00\">samples = 70</text>\r\n",
       "<text text-anchor=\"middle\" x=\"206\" y=\"-22.8\" font-family=\"Times New Roman,serif\" font-size=\"14.00\">value = [29, 41]</text>\r\n",
       "<text text-anchor=\"middle\" x=\"206\" y=\"-7.8\" font-family=\"Times New Roman,serif\" font-size=\"14.00\">class = Yes</text>\r\n",
       "</g>\r\n",
       "<!-- 9&#45;&gt;12 -->\r\n",
       "<g id=\"edge8\" class=\"edge\"><title>9&#45;&gt;12</title>\r\n",
       "<path fill=\"none\" stroke=\"black\" d=\"M165.204,-103.726C170.401,-94.9703 175.902,-85.7032 181.125,-76.9051\"/>\r\n",
       "<polygon fill=\"black\" stroke=\"black\" points=\"184.138,-78.6853 186.233,-68.2996 178.119,-75.1121 184.138,-78.6853\"/>\r\n",
       "</g>\r\n",
       "</g>\r\n",
       "</svg>\r\n"
      ],
      "text/plain": [
       "<graphviz.files.Source at 0x18aef9a3848>"
      ]
     },
     "execution_count": 80,
     "metadata": {},
     "output_type": "execute_result"
    }
   ],
   "source": [
    "### Visualizing the Tree\n",
    "from sklearn.tree import export_graphviz\n",
    "\n",
    "from IPython.display import SVG\n",
    "from graphviz import Source\n",
    "from IPython.display import display\n",
    "\n",
    "#which one do we put first, yes or no for the class names\n",
    "tree = export_graphviz(treeclfOpt, out_file='tree.html', feature_names=df_train.columns, class_names=['No','Yes'])\n",
    "import graphviz\n",
    "\n",
    "with open(\"tree.html\") as f:\n",
    "    dot_graph = f.read()\n",
    "graphviz.Source(dot_graph, format=\"png\")"
   ]
  },
  {
   "cell_type": "markdown",
   "metadata": {},
   "source": [
    "### Adding Duration column based on Mediation Close and Start dates\n",
    "#### Added a Duration column and re-ran classifiers to see if it impacts the accuracy"
   ]
  },
  {
   "cell_type": "code",
   "execution_count": 81,
   "metadata": {},
   "outputs": [],
   "source": [
    "from datetime import datetime as dt"
   ]
  },
  {
   "cell_type": "code",
   "execution_count": 82,
   "metadata": {},
   "outputs": [
    {
     "name": "stdout",
     "output_type": "stream",
     "text": [
      "<class 'pandas.core.frame.DataFrame'>\n",
      "Int64Index: 2224 entries, 0 to 2791\n",
      "Data columns (total 8 columns):\n",
      "Business Name           2197 non-null object\n",
      "Industry                2224 non-null category\n",
      "Complaint Type          2087 non-null category\n",
      "Mediation Start Date    2224 non-null datetime64[ns]\n",
      "Mediation Close Date    2224 non-null datetime64[ns]\n",
      "Satisfaction            2224 non-null object\n",
      "Restitution             2224 non-null float64\n",
      "Business State          2182 non-null category\n",
      "dtypes: category(3), datetime64[ns](2), float64(1), object(2)\n",
      "memory usage: 116.9+ KB\n"
     ]
    }
   ],
   "source": [
    "df.info()"
   ]
  },
  {
   "cell_type": "code",
   "execution_count": 83,
   "metadata": {},
   "outputs": [],
   "source": [
    "duration = df['Mediation Close Date'] - df['Mediation Start Date']"
   ]
  },
  {
   "cell_type": "code",
   "execution_count": 84,
   "metadata": {},
   "outputs": [],
   "source": [
    "#duration = pd.DataFrame(duration)"
   ]
  },
  {
   "cell_type": "code",
   "execution_count": 85,
   "metadata": {},
   "outputs": [],
   "source": [
    "duration = duration.dt.days"
   ]
  },
  {
   "cell_type": "code",
   "execution_count": 86,
   "metadata": {},
   "outputs": [
    {
     "data": {
      "text/plain": [
       "(2224,)"
      ]
     },
     "execution_count": 86,
     "metadata": {},
     "output_type": "execute_result"
    }
   ],
   "source": [
    "duration.shape"
   ]
  },
  {
   "cell_type": "code",
   "execution_count": 87,
   "metadata": {},
   "outputs": [
    {
     "data": {
      "text/plain": [
       "0     13\n",
       "1     41\n",
       "2     27\n",
       "3     15\n",
       "6     34\n",
       "8     37\n",
       "9     29\n",
       "10    31\n",
       "11     3\n",
       "13    46\n",
       "dtype: int64"
      ]
     },
     "execution_count": 87,
     "metadata": {},
     "output_type": "execute_result"
    }
   ],
   "source": [
    "duration[0:10]"
   ]
  },
  {
   "cell_type": "code",
   "execution_count": 88,
   "metadata": {},
   "outputs": [
    {
     "data": {
      "text/plain": [
       "count    2224.000000\n",
       "mean       26.214029\n",
       "std        14.759888\n",
       "min       -43.000000\n",
       "25%        15.000000\n",
       "50%        24.000000\n",
       "75%        36.000000\n",
       "max        84.000000\n",
       "dtype: float64"
      ]
     },
     "execution_count": 88,
     "metadata": {},
     "output_type": "execute_result"
    }
   ],
   "source": [
    "duration.describe()"
   ]
  },
  {
   "cell_type": "markdown",
   "metadata": {},
   "source": [
    "#### Create a copy of dfcopy and add duration "
   ]
  },
  {
   "cell_type": "code",
   "execution_count": 89,
   "metadata": {},
   "outputs": [],
   "source": [
    "dfcopyWithDuration = pd.concat([dfcopy, duration], axis=1).reindex(dfcopy.index)"
   ]
  },
  {
   "cell_type": "code",
   "execution_count": 90,
   "metadata": {},
   "outputs": [
    {
     "data": {
      "text/plain": [
       "(2224, 141)"
      ]
     },
     "execution_count": 90,
     "metadata": {},
     "output_type": "execute_result"
    }
   ],
   "source": [
    "dfcopyWithDuration.shape"
   ]
  },
  {
   "cell_type": "markdown",
   "metadata": {},
   "source": [
    "## ReRun KNN with the dfcopyWithDuraction to see if the accuracy goes up with Duration"
   ]
  },
  {
   "cell_type": "code",
   "execution_count": 91,
   "metadata": {},
   "outputs": [
    {
     "name": "stdout",
     "output_type": "stream",
     "text": [
      "(445, 141)\n"
     ]
    },
    {
     "data": {
      "text/html": [
       "<div>\n",
       "<style scoped>\n",
       "    .dataframe tbody tr th:only-of-type {\n",
       "        vertical-align: middle;\n",
       "    }\n",
       "\n",
       "    .dataframe tbody tr th {\n",
       "        vertical-align: top;\n",
       "    }\n",
       "\n",
       "    .dataframe thead th {\n",
       "        text-align: right;\n",
       "    }\n",
       "</style>\n",
       "<table border=\"1\" class=\"dataframe\">\n",
       "  <thead>\n",
       "    <tr style=\"text-align: right;\">\n",
       "      <th></th>\n",
       "      <th>Restitution</th>\n",
       "      <th>Appliances - 244</th>\n",
       "      <th>Auction House - 128</th>\n",
       "      <th>Auto Dealership - 212</th>\n",
       "      <th>Auto Leasing - 211</th>\n",
       "      <th>Auto Rental - 213</th>\n",
       "      <th>Booting Company - 126</th>\n",
       "      <th>Car Wash</th>\n",
       "      <th>Catering Establishment - 075</th>\n",
       "      <th>Dealer In Products For The Disabled - 119</th>\n",
       "      <th>...</th>\n",
       "      <th>PA</th>\n",
       "      <th>RI</th>\n",
       "      <th>SC</th>\n",
       "      <th>TN</th>\n",
       "      <th>TX</th>\n",
       "      <th>UT</th>\n",
       "      <th>VA</th>\n",
       "      <th>WA</th>\n",
       "      <th>WI</th>\n",
       "      <th>0</th>\n",
       "    </tr>\n",
       "  </thead>\n",
       "  <tbody>\n",
       "    <tr>\n",
       "      <td>2772</td>\n",
       "      <td>773.0</td>\n",
       "      <td>0</td>\n",
       "      <td>0</td>\n",
       "      <td>0</td>\n",
       "      <td>0</td>\n",
       "      <td>0</td>\n",
       "      <td>0</td>\n",
       "      <td>0</td>\n",
       "      <td>0</td>\n",
       "      <td>0</td>\n",
       "      <td>...</td>\n",
       "      <td>0</td>\n",
       "      <td>0</td>\n",
       "      <td>0</td>\n",
       "      <td>0</td>\n",
       "      <td>0</td>\n",
       "      <td>0</td>\n",
       "      <td>0</td>\n",
       "      <td>0</td>\n",
       "      <td>0</td>\n",
       "      <td>15</td>\n",
       "    </tr>\n",
       "    <tr>\n",
       "      <td>1232</td>\n",
       "      <td>0.0</td>\n",
       "      <td>0</td>\n",
       "      <td>0</td>\n",
       "      <td>0</td>\n",
       "      <td>0</td>\n",
       "      <td>0</td>\n",
       "      <td>0</td>\n",
       "      <td>0</td>\n",
       "      <td>0</td>\n",
       "      <td>0</td>\n",
       "      <td>...</td>\n",
       "      <td>0</td>\n",
       "      <td>0</td>\n",
       "      <td>0</td>\n",
       "      <td>0</td>\n",
       "      <td>0</td>\n",
       "      <td>0</td>\n",
       "      <td>0</td>\n",
       "      <td>0</td>\n",
       "      <td>0</td>\n",
       "      <td>29</td>\n",
       "    </tr>\n",
       "    <tr>\n",
       "      <td>658</td>\n",
       "      <td>90.0</td>\n",
       "      <td>0</td>\n",
       "      <td>0</td>\n",
       "      <td>0</td>\n",
       "      <td>0</td>\n",
       "      <td>0</td>\n",
       "      <td>0</td>\n",
       "      <td>0</td>\n",
       "      <td>0</td>\n",
       "      <td>0</td>\n",
       "      <td>...</td>\n",
       "      <td>0</td>\n",
       "      <td>0</td>\n",
       "      <td>0</td>\n",
       "      <td>0</td>\n",
       "      <td>0</td>\n",
       "      <td>0</td>\n",
       "      <td>0</td>\n",
       "      <td>1</td>\n",
       "      <td>0</td>\n",
       "      <td>22</td>\n",
       "    </tr>\n",
       "    <tr>\n",
       "      <td>879</td>\n",
       "      <td>0.0</td>\n",
       "      <td>0</td>\n",
       "      <td>0</td>\n",
       "      <td>0</td>\n",
       "      <td>0</td>\n",
       "      <td>1</td>\n",
       "      <td>0</td>\n",
       "      <td>0</td>\n",
       "      <td>0</td>\n",
       "      <td>0</td>\n",
       "      <td>...</td>\n",
       "      <td>0</td>\n",
       "      <td>0</td>\n",
       "      <td>0</td>\n",
       "      <td>0</td>\n",
       "      <td>0</td>\n",
       "      <td>0</td>\n",
       "      <td>0</td>\n",
       "      <td>0</td>\n",
       "      <td>0</td>\n",
       "      <td>40</td>\n",
       "    </tr>\n",
       "    <tr>\n",
       "      <td>540</td>\n",
       "      <td>0.0</td>\n",
       "      <td>0</td>\n",
       "      <td>0</td>\n",
       "      <td>0</td>\n",
       "      <td>0</td>\n",
       "      <td>0</td>\n",
       "      <td>0</td>\n",
       "      <td>0</td>\n",
       "      <td>0</td>\n",
       "      <td>0</td>\n",
       "      <td>...</td>\n",
       "      <td>0</td>\n",
       "      <td>0</td>\n",
       "      <td>0</td>\n",
       "      <td>0</td>\n",
       "      <td>0</td>\n",
       "      <td>0</td>\n",
       "      <td>0</td>\n",
       "      <td>0</td>\n",
       "      <td>0</td>\n",
       "      <td>64</td>\n",
       "    </tr>\n",
       "  </tbody>\n",
       "</table>\n",
       "<p>5 rows × 141 columns</p>\n",
       "</div>"
      ],
      "text/plain": [
       "      Restitution  Appliances - 244  Auction House - 128  \\\n",
       "2772        773.0                 0                    0   \n",
       "1232          0.0                 0                    0   \n",
       "658          90.0                 0                    0   \n",
       "879           0.0                 0                    0   \n",
       "540           0.0                 0                    0   \n",
       "\n",
       "      Auto Dealership - 212  Auto Leasing - 211  Auto Rental - 213  \\\n",
       "2772                      0                   0                  0   \n",
       "1232                      0                   0                  0   \n",
       "658                       0                   0                  0   \n",
       "879                       0                   0                  1   \n",
       "540                       0                   0                  0   \n",
       "\n",
       "      Booting Company - 126  Car Wash  Catering Establishment - 075  \\\n",
       "2772                      0         0                             0   \n",
       "1232                      0         0                             0   \n",
       "658                       0         0                             0   \n",
       "879                       0         0                             0   \n",
       "540                       0         0                             0   \n",
       "\n",
       "      Dealer In Products For The Disabled - 119  ...  PA  RI  SC  TN  TX  UT  \\\n",
       "2772                                          0  ...   0   0   0   0   0   0   \n",
       "1232                                          0  ...   0   0   0   0   0   0   \n",
       "658                                           0  ...   0   0   0   0   0   0   \n",
       "879                                           0  ...   0   0   0   0   0   0   \n",
       "540                                           0  ...   0   0   0   0   0   0   \n",
       "\n",
       "      VA  WA  WI   0  \n",
       "2772   0   0   0  15  \n",
       "1232   0   0   0  29  \n",
       "658    0   1   0  22  \n",
       "879    0   0   0  40  \n",
       "540    0   0   0  64  \n",
       "\n",
       "[5 rows x 141 columns]"
      ]
     },
     "execution_count": 91,
     "metadata": {},
     "output_type": "execute_result"
    }
   ],
   "source": [
    "from sklearn.model_selection import train_test_split\n",
    "df_train, df_test, df_target_train, df_target_test = train_test_split(dfcopyWithDuration, df_target, test_size=0.2, random_state=22)\n",
    "\n",
    "print(df_test.shape)\n",
    "df_test[0:5]"
   ]
  },
  {
   "cell_type": "code",
   "execution_count": 92,
   "metadata": {},
   "outputs": [
    {
     "name": "stdout",
     "output_type": "stream",
     "text": [
      "<class 'pandas.core.frame.DataFrame'>\n",
      "Int64Index: 2224 entries, 0 to 2791\n",
      "Columns: 141 entries, Restitution to 0\n",
      "dtypes: float64(1), int64(1), uint8(139)\n",
      "memory usage: 354.0 KB\n"
     ]
    }
   ],
   "source": [
    "dfcopyWithDuration.info()"
   ]
  },
  {
   "cell_type": "code",
   "execution_count": 93,
   "metadata": {},
   "outputs": [
    {
     "data": {
      "text/plain": [
       "KNeighborsClassifier(algorithm='auto', leaf_size=30, metric='minkowski',\n",
       "                     metric_params=None, n_jobs=None, n_neighbors=10, p=2,\n",
       "                     weights='distance')"
      ]
     },
     "execution_count": 93,
     "metadata": {},
     "output_type": "execute_result"
    }
   ],
   "source": [
    "#create the object\n",
    "n_neighbors = 10\n",
    "knnclf = neighbors.KNeighborsClassifier(n_neighbors, weights='distance')\n",
    "knnclf.fit(df_train, df_target_train)"
   ]
  },
  {
   "cell_type": "code",
   "execution_count": 94,
   "metadata": {},
   "outputs": [
    {
     "name": "stdout",
     "output_type": "stream",
     "text": [
      "['Yes' 'No' 'Yes' 'No' 'No' 'Yes' 'Yes' 'No' 'Yes' 'Yes' 'Yes' 'No' 'Yes'\n",
      " 'No' 'No' 'No' 'Yes' 'Yes' 'Yes' 'No' 'No' 'No' 'No' 'No' 'Yes' 'Yes'\n",
      " 'No' 'No' 'No' 'No' 'No' 'Yes' 'No' 'No' 'No' 'Yes' 'Yes' 'No' 'No' 'No'\n",
      " 'No' 'Yes' 'Yes' 'No' 'No' 'No' 'No' 'Yes' 'No' 'Yes' 'Yes' 'Yes' 'Yes'\n",
      " 'No' 'No' 'Yes' 'Yes' 'Yes' 'No' 'No' 'Yes' 'Yes' 'Yes' 'Yes' 'No' 'Yes'\n",
      " 'Yes' 'Yes' 'No' 'No' 'Yes' 'No' 'Yes' 'No' 'No' 'Yes' 'Yes' 'Yes' 'Yes'\n",
      " 'No' 'No' 'Yes' 'No' 'No' 'No' 'No' 'No' 'No' 'No' 'Yes' 'No' 'Yes' 'Yes'\n",
      " 'Yes' 'Yes' 'No' 'Yes' 'No' 'Yes' 'Yes' 'Yes' 'Yes' 'No' 'No' 'Yes' 'No'\n",
      " 'No' 'No' 'Yes' 'No' 'No' 'No' 'Yes' 'Yes' 'No' 'Yes' 'No' 'No' 'No' 'No'\n",
      " 'Yes' 'Yes' 'No' 'No' 'No' 'Yes' 'Yes' 'Yes' 'No' 'Yes' 'Yes' 'No' 'No'\n",
      " 'No' 'No' 'No' 'Yes' 'No' 'Yes' 'No' 'No' 'Yes' 'No' 'Yes' 'Yes' 'No'\n",
      " 'No' 'No' 'Yes' 'Yes' 'No' 'Yes' 'Yes' 'Yes' 'No' 'No' 'No' 'Yes' 'No'\n",
      " 'Yes' 'Yes' 'Yes' 'No' 'No' 'No' 'Yes' 'Yes' 'No' 'Yes' 'Yes' 'No' 'Yes'\n",
      " 'Yes' 'Yes' 'No' 'Yes' 'Yes' 'No' 'No' 'No' 'Yes' 'Yes' 'Yes' 'Yes' 'Yes'\n",
      " 'Yes' 'Yes' 'Yes' 'Yes' 'Yes' 'Yes' 'Yes' 'No' 'Yes' 'Yes' 'No' 'No'\n",
      " 'Yes' 'Yes' 'Yes' 'No' 'No' 'No' 'No' 'No' 'Yes' 'No' 'No' 'No' 'No'\n",
      " 'Yes' 'No' 'Yes' 'No' 'No' 'Yes' 'No' 'No' 'No' 'No' 'Yes' 'No' 'No' 'No'\n",
      " 'Yes' 'Yes' 'Yes' 'Yes' 'No' 'No' 'Yes' 'Yes' 'No' 'Yes' 'Yes' 'Yes'\n",
      " 'Yes' 'Yes' 'Yes' 'No' 'No' 'Yes' 'No' 'No' 'Yes' 'No' 'No' 'No' 'Yes'\n",
      " 'No' 'Yes' 'Yes' 'Yes' 'No' 'Yes' 'No' 'No' 'Yes' 'No' 'No' 'Yes' 'Yes'\n",
      " 'No' 'No' 'Yes' 'No' 'No' 'Yes' 'Yes' 'Yes' 'No' 'No' 'Yes' 'No' 'Yes'\n",
      " 'Yes' 'Yes' 'Yes' 'Yes' 'Yes' 'Yes' 'Yes' 'No' 'Yes' 'No' 'Yes' 'Yes'\n",
      " 'Yes' 'No' 'No' 'Yes' 'No' 'Yes' 'Yes' 'Yes' 'Yes' 'Yes' 'No' 'No' 'No'\n",
      " 'Yes' 'Yes' 'No' 'Yes' 'No' 'No' 'Yes' 'Yes' 'Yes' 'No' 'No' 'Yes' 'Yes'\n",
      " 'No' 'Yes' 'Yes' 'Yes' 'No' 'No' 'No' 'Yes' 'No' 'No' 'Yes' 'Yes' 'Yes'\n",
      " 'Yes' 'Yes' 'No' 'No' 'No' 'Yes' 'No' 'Yes' 'Yes' 'Yes' 'No' 'No' 'Yes'\n",
      " 'No' 'Yes' 'No' 'Yes' 'Yes' 'Yes' 'No' 'No' 'Yes' 'No' 'Yes' 'Yes' 'Yes'\n",
      " 'No' 'Yes' 'Yes' 'No' 'Yes' 'No' 'Yes' 'No' 'Yes' 'Yes' 'No' 'No' 'Yes'\n",
      " 'No' 'Yes' 'Yes' 'Yes' 'No' 'Yes' 'Yes' 'No' 'Yes' 'No' 'No' 'No' 'Yes'\n",
      " 'Yes' 'No' 'Yes' 'Yes' 'No' 'Yes' 'No' 'No' 'No' 'Yes' 'No' 'No' 'No'\n",
      " 'No' 'Yes' 'No' 'Yes' 'Yes' 'No' 'No' 'Yes' 'No' 'No' 'Yes' 'No' 'No'\n",
      " 'No' 'No' 'No' 'Yes' 'Yes' 'No' 'No' 'No' 'Yes' 'Yes' 'Yes' 'Yes' 'Yes'\n",
      " 'No' 'Yes' 'No' 'Yes' 'No' 'No' 'No' 'Yes' 'No' 'Yes' 'No' 'Yes' 'No'\n",
      " 'No' 'No' 'Yes' 'Yes' 'Yes' 'Yes' 'Yes' 'No' 'No' 'No' 'No' 'No' 'No'\n",
      " 'No' 'No']\n"
     ]
    }
   ],
   "source": [
    "knnpreds_test = knnclf.predict(df_test)\n",
    "print(knnpreds_test)"
   ]
  },
  {
   "cell_type": "markdown",
   "metadata": {},
   "source": [
    "#### Accuracy now up to 82% using Duration"
   ]
  },
  {
   "cell_type": "code",
   "execution_count": 95,
   "metadata": {},
   "outputs": [
    {
     "name": "stdout",
     "output_type": "stream",
     "text": [
      "              precision    recall  f1-score   support\n",
      "\n",
      "          No       0.73      0.88      0.80       185\n",
      "         Yes       0.90      0.77      0.83       260\n",
      "\n",
      "    accuracy                           0.82       445\n",
      "   macro avg       0.82      0.83      0.82       445\n",
      "weighted avg       0.83      0.82      0.82       445\n",
      "\n"
     ]
    }
   ],
   "source": [
    "print(classification_report(df_target_test, knnpreds_test))"
   ]
  },
  {
   "cell_type": "code",
   "execution_count": 96,
   "metadata": {},
   "outputs": [
    {
     "name": "stdout",
     "output_type": "stream",
     "text": [
      "[[163  22]\n",
      " [ 59 201]]\n"
     ]
    }
   ],
   "source": [
    "knncm = confusion_matrix(df_target_test, knnpreds_test)\n",
    "print(knncm)"
   ]
  },
  {
   "cell_type": "code",
   "execution_count": 97,
   "metadata": {},
   "outputs": [
    {
     "name": "stdout",
     "output_type": "stream",
     "text": [
      "0.8179775280898877\n"
     ]
    }
   ],
   "source": [
    "print(knnclf.score(df_test, df_target_test))"
   ]
  },
  {
   "cell_type": "code",
   "execution_count": 98,
   "metadata": {},
   "outputs": [
    {
     "data": {
      "image/png": "[encoded data removed]",
      "text/plain": [
       "<Figure size 288x288 with 2 Axes>"
      ]
     },
     "metadata": {
      "needs_background": "light"
     },
     "output_type": "display_data"
    }
   ],
   "source": [
    "### Plot the confusion matrix\n",
    "\n",
    "import pylab as plt\n",
    "%matplotlib inline\n",
    "plt.matshow(knncm)\n",
    "plt.title('Confusion matrix - KNN w/ duration')\n",
    "plt.colorbar()\n",
    "plt.ylabel('Actual')\n",
    "plt.xlabel('Predicted')\n",
    "plt.show()"
   ]
  },
  {
   "cell_type": "markdown",
   "metadata": {},
   "source": [
    "### Regression Analysis "
   ]
  },
  {
   "cell_type": "markdown",
   "metadata": {},
   "source": [
    "#### Below, we found that the distrbution of data was not conducive to linear regression analysis\n",
    "#### A different type of regression technique will need to be used"
   ]
  },
  {
   "cell_type": "code",
   "execution_count": 99,
   "metadata": {},
   "outputs": [],
   "source": [
    "from sklearn.linear_model import LinearRegression, Lasso, Ridge, ElasticNet, SGDRegressor\n",
    "from sklearn import preprocessing"
   ]
  },
  {
   "cell_type": "code",
   "execution_count": 100,
   "metadata": {},
   "outputs": [
    {
     "data": {
      "text/plain": [
       "MinMaxScaler(copy=True, feature_range=(0, 1))"
      ]
     },
     "execution_count": 100,
     "metadata": {},
     "output_type": "execute_result"
    }
   ],
   "source": [
    "min_max_scaler = preprocessing.MinMaxScaler()\n",
    "min_max_scaler.fit(df_train)"
   ]
  },
  {
   "cell_type": "code",
   "execution_count": 101,
   "metadata": {},
   "outputs": [],
   "source": [
    "df_train_norm = min_max_scaler.fit_transform(df_train)\n",
    "df_test_norm = min_max_scaler.fit_transform(df_test)"
   ]
  },
  {
   "cell_type": "code",
   "execution_count": 102,
   "metadata": {},
   "outputs": [
    {
     "data": {
      "text/plain": [
       "(1779, 141)"
      ]
     },
     "execution_count": 102,
     "metadata": {},
     "output_type": "execute_result"
    }
   ],
   "source": [
    "df_train_norm.shape"
   ]
  },
  {
   "cell_type": "code",
   "execution_count": 103,
   "metadata": {},
   "outputs": [
    {
     "data": {
      "text/plain": [
       "<function matplotlib.pyplot.show(*args, **kw)>"
      ]
     },
     "execution_count": 103,
     "metadata": {},
     "output_type": "execute_result"
    },
    {
     "data": {
      "image/png": "[encoded data removed]",
      "text/plain": [
       "<Figure size 432x288 with 1 Axes>"
      ]
     },
     "metadata": {
      "needs_background": "light"
     },
     "output_type": "display_data"
    }
   ],
   "source": [
    "y = np.linspace(-1, 3000, 100) # this doesn't look consistent with the describe, which shows that 75% are 0\n",
    "plt.figure()\n",
    "plt.hist(df_train_norm[0], bins = 7)\n",
    "plt.xlabel(\"amounts\")\n",
    "plt.ylabel(\"frequency\")\n",
    "plt.title(\"Distribution of payouts\")\n",
    "plt.show"
   ]
  },
  {
   "cell_type": "code",
   "execution_count": 104,
   "metadata": {},
   "outputs": [],
   "source": [
    "# Create linear regression object\n",
    "linreg = LinearRegression()"
   ]
  },
  {
   "cell_type": "code",
   "execution_count": 105,
   "metadata": {},
   "outputs": [
    {
     "data": {
      "text/plain": [
       "(2224,)"
      ]
     },
     "execution_count": 105,
     "metadata": {},
     "output_type": "execute_result"
    }
   ],
   "source": [
    "dfcopyWithDuration[0].shape"
   ]
  },
  {
   "cell_type": "code",
   "execution_count": 106,
   "metadata": {},
   "outputs": [],
   "source": [
    "y = np.array(dfcopyWithDuration[\"Restitution\"])"
   ]
  },
  {
   "cell_type": "code",
   "execution_count": 107,
   "metadata": {},
   "outputs": [],
   "source": [
    "\n",
    "x = np.array(dfcopyWithDuration[0])"
   ]
  },
  {
   "cell_type": "code",
   "execution_count": 108,
   "metadata": {},
   "outputs": [],
   "source": [
    "x1 = np.reshape(x, (2224, 1))"
   ]
  },
  {
   "cell_type": "code",
   "execution_count": 109,
   "metadata": {},
   "outputs": [
    {
     "data": {
      "text/plain": [
       "(2224, 1)"
      ]
     },
     "execution_count": 109,
     "metadata": {},
     "output_type": "execute_result"
    }
   ],
   "source": [
    "x1.shape"
   ]
  },
  {
   "cell_type": "code",
   "execution_count": 110,
   "metadata": {},
   "outputs": [],
   "source": [
    "x2 = np.array([np.concatenate((v,[1])) for v in x1])"
   ]
  },
  {
   "cell_type": "code",
   "execution_count": 111,
   "metadata": {},
   "outputs": [
    {
     "data": {
      "text/plain": [
       "LinearRegression(copy_X=True, fit_intercept=True, n_jobs=None, normalize=False)"
      ]
     },
     "execution_count": 111,
     "metadata": {},
     "output_type": "execute_result"
    }
   ],
   "source": [
    "linreg.fit(x2,y)"
   ]
  },
  {
   "cell_type": "code",
   "execution_count": 112,
   "metadata": {},
   "outputs": [
    {
     "name": "stdout",
     "output_type": "stream",
     "text": [
      " 0 \t 435.30 \t 0.00\n",
      " 1 \t 396.07 \t 2400.00\n",
      " 2 \t 415.69 \t 60.00\n",
      " 3 \t 432.50 \t 4.00\n",
      " 4 \t 405.88 \t 10900.00\n",
      " 5 \t 401.68 \t 0.00\n",
      " 6 \t 412.89 \t 0.00\n",
      " 7 \t 410.08 \t 0.00\n",
      " 8 \t 449.31 \t 0.00\n",
      " 9 \t 389.07 \t 0.00\n"
     ]
    }
   ],
   "source": [
    "for i in range(10):\n",
    "    pred = linreg.predict(np.array([x2[i]]))[0]\n",
    "    print(\"%2d \\t %2.2f \\t %2.2f\" % (i, pred, y[i]))"
   ]
  },
  {
   "cell_type": "code",
   "execution_count": 113,
   "metadata": {},
   "outputs": [],
   "source": [
    "import pylab as pl"
   ]
  },
  {
   "cell_type": "code",
   "execution_count": 114,
   "metadata": {},
   "outputs": [
    {
     "data": {
      "image/png": "[encoded data removed]",
      "text/plain": [
       "<Figure size 432x288 with 1 Axes>"
      ]
     },
     "metadata": {
      "needs_background": "light"
     },
     "output_type": "display_data"
    }
   ],
   "source": [
    "# Plot predicted against actual (in the training data)\n",
    "%matplotlib inline\n",
    "pl.plot(x2, y,'ro', markersize=5)\n",
    "pl.plot([0,50],[0,50], 'g-')\n",
    "pl.xlabel('x2')\n",
    "pl.ylabel('y')\n",
    "pl.show()"
   ]
  },
  {
   "cell_type": "markdown",
   "metadata": {},
   "source": [
    "## Clustering Model\n",
    "### Here we use a custom cosine similarity-based distance funciton and the kMeans from the Machine Learning in Action book"
   ]
  },
  {
   "cell_type": "code",
   "execution_count": 115,
   "metadata": {},
   "outputs": [],
   "source": [
    "def distCosSim(vecA, vecB):\n",
    "    ''\n",
    "    numDotproduct =  np.dot(vecA, vecB)\n",
    "    vectAss = sqrt(sum(power(vecA,2)))\n",
    "    vectBss = sqrt(sum(power(vecB,2)))\n",
    "    CosSim = numDotproduct/(vectAss*vectBss)\n",
    "    return (1-CosSim) "
   ]
  },
  {
   "cell_type": "code",
   "execution_count": 116,
   "metadata": {},
   "outputs": [],
   "source": [
    "def randCent(dataSet, k):\n",
    "    n = shape(dataSet)[1]\n",
    "    centroids = zeros((k,n), dtype=float)\n",
    "    for j in range(n): #create random cluster centers\n",
    "        minJ = min(dataSet[:,j])\n",
    "        rangeJ = float(max(dataSet[:,j]) - minJ)\n",
    "        centroids[:,j] = minJ + rangeJ * random.rand(k)\n",
    "    return centroids \n",
    "\n",
    "\n"
   ]
  },
  {
   "cell_type": "code",
   "execution_count": 117,
   "metadata": {},
   "outputs": [],
   "source": [
    "def kMeans(dataSet, k, distMeas, createCent=randCent):\n",
    "    'updated function to paramertize distMeasure'\n",
    "    m = shape(dataSet)[0]\n",
    "    clusterAssment = zeros((m,2)) #create mat to assign data points \n",
    "                                  #to a centroid, also holds SE of each point\n",
    "    centroids = createCent(dataSet, k)\n",
    "    clusterChanged = True\n",
    "    while clusterChanged:\n",
    "        clusterChanged = False\n",
    "        for i in range(m): #for each data point assign it to the closest centroid\n",
    "            minDist = inf; minIndex = -1\n",
    "            for j in range(k):\n",
    "                distJI = distMeas(centroids[j,:],dataSet[i,:])\n",
    "                if distJI < minDist:\n",
    "                    minDist = distJI; minIndex = j\n",
    "            if clusterAssment[i,0] != minIndex: clusterChanged = True\n",
    "            clusterAssment[i,:] = minIndex,minDist**2\n",
    "        # print centroids\n",
    "        for cent in range(k):#recalculate centroids\n",
    "            ptsInClust = dataSet[nonzero(clusterAssment[:,0]==cent)[0]] #get all the point in this cluster - Note: this was incorrect in the original distribution.\n",
    "            if(len(ptsInClust)!=0):\n",
    "                centroids[cent,:] = mean(ptsInClust, axis=0) #assign centroid to mean - Note condition was added 10/28/2013\n",
    "    return centroids, clusterAssment"
   ]
  },
  {
   "cell_type": "code",
   "execution_count": 118,
   "metadata": {},
   "outputs": [
    {
     "data": {
      "text/html": [
       "<div>\n",
       "<style scoped>\n",
       "    .dataframe tbody tr th:only-of-type {\n",
       "        vertical-align: middle;\n",
       "    }\n",
       "\n",
       "    .dataframe tbody tr th {\n",
       "        vertical-align: top;\n",
       "    }\n",
       "\n",
       "    .dataframe thead th {\n",
       "        text-align: right;\n",
       "    }\n",
       "</style>\n",
       "<table border=\"1\" class=\"dataframe\">\n",
       "  <thead>\n",
       "    <tr style=\"text-align: right;\">\n",
       "      <th></th>\n",
       "      <th>Restitution</th>\n",
       "      <th>Appliances - 244</th>\n",
       "      <th>Auction House - 128</th>\n",
       "      <th>Auto Dealership - 212</th>\n",
       "      <th>Auto Leasing - 211</th>\n",
       "      <th>Auto Rental - 213</th>\n",
       "      <th>Booting Company - 126</th>\n",
       "      <th>Car Wash</th>\n",
       "      <th>Catering Establishment - 075</th>\n",
       "      <th>Dealer In Products For The Disabled - 119</th>\n",
       "      <th>...</th>\n",
       "      <th>PA</th>\n",
       "      <th>RI</th>\n",
       "      <th>SC</th>\n",
       "      <th>TN</th>\n",
       "      <th>TX</th>\n",
       "      <th>UT</th>\n",
       "      <th>VA</th>\n",
       "      <th>WA</th>\n",
       "      <th>WI</th>\n",
       "      <th>0</th>\n",
       "    </tr>\n",
       "  </thead>\n",
       "  <tbody>\n",
       "    <tr>\n",
       "      <td>0</td>\n",
       "      <td>0.0</td>\n",
       "      <td>0</td>\n",
       "      <td>0</td>\n",
       "      <td>0</td>\n",
       "      <td>0</td>\n",
       "      <td>0</td>\n",
       "      <td>0</td>\n",
       "      <td>0</td>\n",
       "      <td>0</td>\n",
       "      <td>0</td>\n",
       "      <td>...</td>\n",
       "      <td>0</td>\n",
       "      <td>0</td>\n",
       "      <td>0</td>\n",
       "      <td>0</td>\n",
       "      <td>0</td>\n",
       "      <td>0</td>\n",
       "      <td>0</td>\n",
       "      <td>0</td>\n",
       "      <td>0</td>\n",
       "      <td>13</td>\n",
       "    </tr>\n",
       "    <tr>\n",
       "      <td>1</td>\n",
       "      <td>2400.0</td>\n",
       "      <td>0</td>\n",
       "      <td>0</td>\n",
       "      <td>0</td>\n",
       "      <td>0</td>\n",
       "      <td>0</td>\n",
       "      <td>0</td>\n",
       "      <td>0</td>\n",
       "      <td>0</td>\n",
       "      <td>0</td>\n",
       "      <td>...</td>\n",
       "      <td>0</td>\n",
       "      <td>0</td>\n",
       "      <td>0</td>\n",
       "      <td>0</td>\n",
       "      <td>0</td>\n",
       "      <td>0</td>\n",
       "      <td>0</td>\n",
       "      <td>0</td>\n",
       "      <td>0</td>\n",
       "      <td>41</td>\n",
       "    </tr>\n",
       "    <tr>\n",
       "      <td>2</td>\n",
       "      <td>60.0</td>\n",
       "      <td>0</td>\n",
       "      <td>0</td>\n",
       "      <td>0</td>\n",
       "      <td>0</td>\n",
       "      <td>0</td>\n",
       "      <td>0</td>\n",
       "      <td>0</td>\n",
       "      <td>0</td>\n",
       "      <td>0</td>\n",
       "      <td>...</td>\n",
       "      <td>0</td>\n",
       "      <td>0</td>\n",
       "      <td>0</td>\n",
       "      <td>0</td>\n",
       "      <td>0</td>\n",
       "      <td>0</td>\n",
       "      <td>0</td>\n",
       "      <td>0</td>\n",
       "      <td>0</td>\n",
       "      <td>27</td>\n",
       "    </tr>\n",
       "    <tr>\n",
       "      <td>3</td>\n",
       "      <td>4.0</td>\n",
       "      <td>0</td>\n",
       "      <td>0</td>\n",
       "      <td>0</td>\n",
       "      <td>0</td>\n",
       "      <td>0</td>\n",
       "      <td>0</td>\n",
       "      <td>0</td>\n",
       "      <td>0</td>\n",
       "      <td>0</td>\n",
       "      <td>...</td>\n",
       "      <td>0</td>\n",
       "      <td>0</td>\n",
       "      <td>0</td>\n",
       "      <td>0</td>\n",
       "      <td>0</td>\n",
       "      <td>0</td>\n",
       "      <td>0</td>\n",
       "      <td>0</td>\n",
       "      <td>0</td>\n",
       "      <td>15</td>\n",
       "    </tr>\n",
       "    <tr>\n",
       "      <td>6</td>\n",
       "      <td>10900.0</td>\n",
       "      <td>0</td>\n",
       "      <td>0</td>\n",
       "      <td>0</td>\n",
       "      <td>0</td>\n",
       "      <td>0</td>\n",
       "      <td>0</td>\n",
       "      <td>0</td>\n",
       "      <td>0</td>\n",
       "      <td>0</td>\n",
       "      <td>...</td>\n",
       "      <td>0</td>\n",
       "      <td>0</td>\n",
       "      <td>0</td>\n",
       "      <td>0</td>\n",
       "      <td>0</td>\n",
       "      <td>0</td>\n",
       "      <td>0</td>\n",
       "      <td>0</td>\n",
       "      <td>0</td>\n",
       "      <td>34</td>\n",
       "    </tr>\n",
       "  </tbody>\n",
       "</table>\n",
       "<p>5 rows × 141 columns</p>\n",
       "</div>"
      ],
      "text/plain": [
       "   Restitution  Appliances - 244  Auction House - 128  Auto Dealership - 212  \\\n",
       "0          0.0                 0                    0                      0   \n",
       "1       2400.0                 0                    0                      0   \n",
       "2         60.0                 0                    0                      0   \n",
       "3          4.0                 0                    0                      0   \n",
       "6      10900.0                 0                    0                      0   \n",
       "\n",
       "   Auto Leasing - 211  Auto Rental - 213  Booting Company - 126  Car Wash  \\\n",
       "0                   0                  0                      0         0   \n",
       "1                   0                  0                      0         0   \n",
       "2                   0                  0                      0         0   \n",
       "3                   0                  0                      0         0   \n",
       "6                   0                  0                      0         0   \n",
       "\n",
       "   Catering Establishment - 075  Dealer In Products For The Disabled - 119  \\\n",
       "0                             0                                          0   \n",
       "1                             0                                          0   \n",
       "2                             0                                          0   \n",
       "3                             0                                          0   \n",
       "6                             0                                          0   \n",
       "\n",
       "   ...  PA  RI  SC  TN  TX  UT  VA  WA  WI   0  \n",
       "0  ...   0   0   0   0   0   0   0   0   0  13  \n",
       "1  ...   0   0   0   0   0   0   0   0   0  41  \n",
       "2  ...   0   0   0   0   0   0   0   0   0  27  \n",
       "3  ...   0   0   0   0   0   0   0   0   0  15  \n",
       "6  ...   0   0   0   0   0   0   0   0   0  34  \n",
       "\n",
       "[5 rows x 141 columns]"
      ]
     },
     "execution_count": 118,
     "metadata": {},
     "output_type": "execute_result"
    }
   ],
   "source": [
    "dfcopyWithDuration.head()"
   ]
  },
  {
   "cell_type": "code",
   "execution_count": 119,
   "metadata": {},
   "outputs": [],
   "source": [
    "dfcopyWithDurationArr = np.array(dfcopyWithDuration)\n",
    "df_targetArr = np.array(df_target)\n"
   ]
  },
  {
   "cell_type": "code",
   "execution_count": 120,
   "metadata": {},
   "outputs": [
    {
     "name": "stdout",
     "output_type": "stream",
     "text": [
      "(445, 141)\n"
     ]
    },
    {
     "data": {
      "text/plain": [
       "array([[773.,   0.,   0.,   0.,   0.,   0.,   0.,   0.,   0.,   0.,   0.,\n",
       "          0.,   0.,   0.,   1.,   0.,   0.,   0.,   0.,   0.,   0.,   0.,\n",
       "          0.,   0.,   0.,   0.,   0.,   0.,   0.,   0.,   0.,   0.,   0.,\n",
       "          0.,   0.,   0.,   0.,   0.,   0.,   0.,   0.,   0.,   0.,   0.,\n",
       "          0.,   0.,   0.,   0.,   0.,   0.,   0.,   0.,   0.,   0.,   0.,\n",
       "          0.,   0.,   0.,   0.,   0.,   0.,   0.,   0.,   0.,   0.,   0.,\n",
       "          0.,   0.,   0.,   0.,   0.,   0.,   0.,   0.,   0.,   0.,   0.,\n",
       "          0.,   0.,   0.,   0.,   0.,   0.,   0.,   1.,   0.,   0.,   0.,\n",
       "          0.,   0.,   0.,   0.,   0.,   0.,   0.,   0.,   0.,   0.,   0.,\n",
       "          0.,   0.,   0.,   0.,   0.,   0.,   0.,   0.,   0.,   0.,   0.,\n",
       "          0.,   0.,   0.,   0.,   0.,   0.,   0.,   0.,   1.,   0.,   0.,\n",
       "          0.,   0.,   0.,   0.,   0.,   0.,   0.,   0.,   0.,   0.,   0.,\n",
       "          0.,   0.,   0.,   0.,   0.,   0.,   0.,   0.,  15.],\n",
       "       [  0.,   0.,   0.,   0.,   0.,   0.,   0.,   0.,   0.,   0.,   0.,\n",
       "          0.,   0.,   0.,   0.,   0.,   0.,   0.,   0.,   0.,   0.,   0.,\n",
       "          0.,   0.,   0.,   0.,   0.,   0.,   0.,   0.,   0.,   0.,   0.,\n",
       "          0.,   0.,   0.,   0.,   0.,   0.,   0.,   0.,   0.,   0.,   0.,\n",
       "          0.,   0.,   0.,   0.,   0.,   0.,   0.,   0.,   0.,   0.,   0.,\n",
       "          0.,   0.,   1.,   0.,   0.,   0.,   0.,   0.,   0.,   0.,   0.,\n",
       "          0.,   0.,   0.,   0.,   0.,   0.,   0.,   1.,   0.,   0.,   0.,\n",
       "          0.,   0.,   0.,   0.,   0.,   0.,   0.,   0.,   0.,   0.,   0.,\n",
       "          0.,   0.,   0.,   0.,   0.,   0.,   0.,   0.,   0.,   0.,   0.,\n",
       "          0.,   0.,   0.,   0.,   0.,   0.,   0.,   0.,   0.,   0.,   0.,\n",
       "          0.,   0.,   0.,   0.,   0.,   0.,   0.,   0.,   0.,   0.,   0.,\n",
       "          0.,   0.,   0.,   0.,   0.,   0.,   0.,   0.,   1.,   0.,   0.,\n",
       "          0.,   0.,   0.,   0.,   0.,   0.,   0.,   0.,  29.],\n",
       "       [ 90.,   0.,   0.,   0.,   0.,   0.,   0.,   0.,   0.,   0.,   0.,\n",
       "          0.,   0.,   0.,   0.,   1.,   0.,   0.,   0.,   0.,   0.,   0.,\n",
       "          0.,   0.,   0.,   0.,   0.,   0.,   0.,   0.,   0.,   0.,   0.,\n",
       "          0.,   0.,   0.,   0.,   0.,   0.,   0.,   0.,   0.,   0.,   0.,\n",
       "          0.,   0.,   0.,   0.,   0.,   0.,   0.,   0.,   0.,   0.,   0.,\n",
       "          0.,   0.,   0.,   0.,   0.,   0.,   0.,   0.,   0.,   0.,   0.,\n",
       "          0.,   0.,   0.,   0.,   0.,   0.,   0.,   0.,   0.,   0.,   0.,\n",
       "          0.,   0.,   0.,   0.,   0.,   0.,   0.,   0.,   0.,   0.,   0.,\n",
       "          0.,   0.,   0.,   0.,   0.,   0.,   0.,   0.,   0.,   0.,   0.,\n",
       "          0.,   1.,   0.,   0.,   0.,   0.,   0.,   0.,   0.,   0.,   0.,\n",
       "          0.,   0.,   0.,   0.,   0.,   0.,   0.,   0.,   0.,   0.,   0.,\n",
       "          0.,   0.,   0.,   0.,   0.,   0.,   0.,   0.,   0.,   0.,   0.,\n",
       "          0.,   0.,   0.,   0.,   0.,   0.,   1.,   0.,  22.],\n",
       "       [  0.,   0.,   0.,   0.,   0.,   1.,   0.,   0.,   0.,   0.,   0.,\n",
       "          0.,   0.,   0.,   0.,   0.,   0.,   0.,   0.,   0.,   0.,   0.,\n",
       "          0.,   0.,   0.,   0.,   0.,   0.,   0.,   0.,   0.,   0.,   0.,\n",
       "          0.,   0.,   0.,   0.,   0.,   0.,   0.,   0.,   0.,   0.,   0.,\n",
       "          0.,   0.,   0.,   0.,   0.,   0.,   0.,   0.,   0.,   0.,   0.,\n",
       "          0.,   0.,   0.,   0.,   0.,   0.,   0.,   0.,   0.,   0.,   0.,\n",
       "          0.,   0.,   0.,   0.,   0.,   0.,   0.,   0.,   0.,   0.,   0.,\n",
       "          0.,   0.,   0.,   0.,   0.,   0.,   0.,   0.,   0.,   0.,   0.,\n",
       "          0.,   0.,   0.,   0.,   0.,   0.,   0.,   0.,   0.,   0.,   0.,\n",
       "          0.,   0.,   0.,   0.,   0.,   0.,   0.,   1.,   0.,   0.,   0.,\n",
       "          0.,   0.,   0.,   0.,   0.,   0.,   0.,   0.,   0.,   0.,   0.,\n",
       "          0.,   0.,   0.,   0.,   0.,   0.,   0.,   0.,   0.,   0.,   0.,\n",
       "          0.,   0.,   0.,   0.,   0.,   0.,   0.,   0.,  40.],\n",
       "       [  0.,   0.,   0.,   0.,   0.,   0.,   0.,   0.,   0.,   0.,   0.,\n",
       "          0.,   0.,   0.,   0.,   0.,   0.,   0.,   0.,   0.,   0.,   0.,\n",
       "          0.,   0.,   0.,   0.,   0.,   1.,   0.,   0.,   0.,   0.,   0.,\n",
       "          0.,   0.,   0.,   0.,   0.,   0.,   0.,   0.,   0.,   0.,   0.,\n",
       "          0.,   0.,   0.,   0.,   0.,   0.,   0.,   0.,   0.,   0.,   0.,\n",
       "          0.,   0.,   0.,   0.,   0.,   0.,   0.,   0.,   0.,   0.,   0.,\n",
       "          0.,   0.,   0.,   0.,   0.,   0.,   0.,   1.,   0.,   0.,   0.,\n",
       "          0.,   0.,   0.,   0.,   0.,   0.,   0.,   0.,   0.,   0.,   0.,\n",
       "          0.,   0.,   0.,   0.,   0.,   0.,   0.,   0.,   0.,   0.,   0.,\n",
       "          0.,   0.,   0.,   0.,   0.,   0.,   0.,   0.,   0.,   0.,   0.,\n",
       "          0.,   0.,   0.,   0.,   0.,   0.,   0.,   0.,   0.,   0.,   0.,\n",
       "          0.,   0.,   0.,   0.,   0.,   0.,   0.,   0.,   1.,   0.,   0.,\n",
       "          0.,   0.,   0.,   0.,   0.,   0.,   0.,   0.,  64.]])"
      ]
     },
     "execution_count": 120,
     "metadata": {},
     "output_type": "execute_result"
    }
   ],
   "source": [
    "from sklearn.model_selection import train_test_split\n",
    "df_train, df_test, df_target_train, df_target_test = train_test_split(dfcopyWithDurationArr, df_targetArr, test_size=0.2, random_state=22)\n",
    "\n",
    "print(df_test.shape)\n",
    "df_test[0:5]"
   ]
  },
  {
   "cell_type": "code",
   "execution_count": 121,
   "metadata": {},
   "outputs": [],
   "source": [
    "from numpy import *"
   ]
  },
  {
   "cell_type": "code",
   "execution_count": 122,
   "metadata": {},
   "outputs": [],
   "source": [
    "dfcopyWithDurationArr = np.array(dfcopyWithDuration)\n",
    "df_targetArr = np.array(df_target)\n",
    "df_trainArr = np.array(df_train)"
   ]
  },
  {
   "cell_type": "code",
   "execution_count": 123,
   "metadata": {},
   "outputs": [],
   "source": [
    "cent, clusAssmnt = kMeans(df_trainArr, 3, distCosSim, createCent=randCent)"
   ]
  },
  {
   "cell_type": "code",
   "execution_count": 124,
   "metadata": {},
   "outputs": [
    {
     "name": "stdout",
     "output_type": "stream",
     "text": [
      "centroid (3, 141) /n cluster assment (1779, 2)\n"
     ]
    }
   ],
   "source": [
    "print('centroid', cent.shape,  '/n', 'cluster assment',clusAssmnt.shape)"
   ]
  },
  {
   "cell_type": "code",
   "execution_count": 125,
   "metadata": {},
   "outputs": [],
   "source": [
    "trainDF = pd.DataFrame(df_train, columns=dfcopyWithDuration.columns)"
   ]
  },
  {
   "cell_type": "markdown",
   "metadata": {},
   "source": [
    "#### Show the centroids for the 3 clusters"
   ]
  },
  {
   "cell_type": "code",
   "execution_count": 126,
   "metadata": {},
   "outputs": [
    {
     "data": {
      "text/html": [
       "<div>\n",
       "<style scoped>\n",
       "    .dataframe tbody tr th:only-of-type {\n",
       "        vertical-align: middle;\n",
       "    }\n",
       "\n",
       "    .dataframe tbody tr th {\n",
       "        vertical-align: top;\n",
       "    }\n",
       "\n",
       "    .dataframe thead th {\n",
       "        text-align: right;\n",
       "    }\n",
       "</style>\n",
       "<table border=\"1\" class=\"dataframe\">\n",
       "  <thead>\n",
       "    <tr style=\"text-align: right;\">\n",
       "      <th></th>\n",
       "      <th>Restitution</th>\n",
       "      <th>Appliances - 244</th>\n",
       "      <th>Auction House - 128</th>\n",
       "      <th>Auto Dealership - 212</th>\n",
       "      <th>Auto Leasing - 211</th>\n",
       "      <th>Auto Rental - 213</th>\n",
       "      <th>Booting Company - 126</th>\n",
       "      <th>Car Wash</th>\n",
       "      <th>Catering Establishment - 075</th>\n",
       "      <th>Dealer In Products For The Disabled - 119</th>\n",
       "      <th>...</th>\n",
       "      <th>PA</th>\n",
       "      <th>RI</th>\n",
       "      <th>SC</th>\n",
       "      <th>TN</th>\n",
       "      <th>TX</th>\n",
       "      <th>UT</th>\n",
       "      <th>VA</th>\n",
       "      <th>WA</th>\n",
       "      <th>WI</th>\n",
       "      <th>0</th>\n",
       "    </tr>\n",
       "  </thead>\n",
       "  <tbody>\n",
       "    <tr>\n",
       "      <td>0</td>\n",
       "      <td>1350.489484</td>\n",
       "      <td>0.017208</td>\n",
       "      <td>0.007648</td>\n",
       "      <td>0.0</td>\n",
       "      <td>0.0</td>\n",
       "      <td>0.005736</td>\n",
       "      <td>0.003824</td>\n",
       "      <td>0.0000</td>\n",
       "      <td>0.0000</td>\n",
       "      <td>0.0000</td>\n",
       "      <td>...</td>\n",
       "      <td>0.021033</td>\n",
       "      <td>0.001912</td>\n",
       "      <td>0.000</td>\n",
       "      <td>0.0000</td>\n",
       "      <td>0.022945</td>\n",
       "      <td>0.0000</td>\n",
       "      <td>0.001912</td>\n",
       "      <td>0.007648</td>\n",
       "      <td>0.005736</td>\n",
       "      <td>23.145315</td>\n",
       "    </tr>\n",
       "    <tr>\n",
       "      <td>1</td>\n",
       "      <td>0.260800</td>\n",
       "      <td>0.018400</td>\n",
       "      <td>0.003200</td>\n",
       "      <td>0.0</td>\n",
       "      <td>0.0</td>\n",
       "      <td>0.004000</td>\n",
       "      <td>0.000000</td>\n",
       "      <td>0.0024</td>\n",
       "      <td>0.0016</td>\n",
       "      <td>0.0008</td>\n",
       "      <td>...</td>\n",
       "      <td>0.010400</td>\n",
       "      <td>0.000800</td>\n",
       "      <td>0.004</td>\n",
       "      <td>0.0032</td>\n",
       "      <td>0.013600</td>\n",
       "      <td>0.0032</td>\n",
       "      <td>0.007200</td>\n",
       "      <td>0.010400</td>\n",
       "      <td>0.012000</td>\n",
       "      <td>27.553600</td>\n",
       "    </tr>\n",
       "    <tr>\n",
       "      <td>2</td>\n",
       "      <td>0.000000</td>\n",
       "      <td>0.000000</td>\n",
       "      <td>0.000000</td>\n",
       "      <td>0.0</td>\n",
       "      <td>0.0</td>\n",
       "      <td>0.000000</td>\n",
       "      <td>0.000000</td>\n",
       "      <td>0.0000</td>\n",
       "      <td>0.0000</td>\n",
       "      <td>0.0000</td>\n",
       "      <td>...</td>\n",
       "      <td>0.000000</td>\n",
       "      <td>0.000000</td>\n",
       "      <td>0.000</td>\n",
       "      <td>0.0000</td>\n",
       "      <td>0.000000</td>\n",
       "      <td>0.0000</td>\n",
       "      <td>0.000000</td>\n",
       "      <td>0.000000</td>\n",
       "      <td>0.000000</td>\n",
       "      <td>-16.166667</td>\n",
       "    </tr>\n",
       "  </tbody>\n",
       "</table>\n",
       "<p>3 rows × 141 columns</p>\n",
       "</div>"
      ],
      "text/plain": [
       "   Restitution  Appliances - 244  Auction House - 128  Auto Dealership - 212  \\\n",
       "0  1350.489484          0.017208             0.007648                    0.0   \n",
       "1     0.260800          0.018400             0.003200                    0.0   \n",
       "2     0.000000          0.000000             0.000000                    0.0   \n",
       "\n",
       "   Auto Leasing - 211  Auto Rental - 213  Booting Company - 126  Car Wash  \\\n",
       "0                 0.0           0.005736               0.003824    0.0000   \n",
       "1                 0.0           0.004000               0.000000    0.0024   \n",
       "2                 0.0           0.000000               0.000000    0.0000   \n",
       "\n",
       "   Catering Establishment - 075  Dealer In Products For The Disabled - 119  \\\n",
       "0                        0.0000                                     0.0000   \n",
       "1                        0.0016                                     0.0008   \n",
       "2                        0.0000                                     0.0000   \n",
       "\n",
       "   ...        PA        RI     SC      TN        TX      UT        VA  \\\n",
       "0  ...  0.021033  0.001912  0.000  0.0000  0.022945  0.0000  0.001912   \n",
       "1  ...  0.010400  0.000800  0.004  0.0032  0.013600  0.0032  0.007200   \n",
       "2  ...  0.000000  0.000000  0.000  0.0000  0.000000  0.0000  0.000000   \n",
       "\n",
       "         WA        WI          0  \n",
       "0  0.007648  0.005736  23.145315  \n",
       "1  0.010400  0.012000  27.553600  \n",
       "2  0.000000  0.000000 -16.166667  \n",
       "\n",
       "[3 rows x 141 columns]"
      ]
     },
     "execution_count": 126,
     "metadata": {},
     "output_type": "execute_result"
    }
   ],
   "source": [
    "centDF = pd.DataFrame(cent, columns = dfcopyWithDuration.columns)  #cluster targets \n",
    "centDF"
   ]
  },
  {
   "cell_type": "code",
   "execution_count": 127,
   "metadata": {},
   "outputs": [
    {
     "data": {
      "text/html": [
       "<div>\n",
       "<style scoped>\n",
       "    .dataframe tbody tr th:only-of-type {\n",
       "        vertical-align: middle;\n",
       "    }\n",
       "\n",
       "    .dataframe tbody tr th {\n",
       "        vertical-align: top;\n",
       "    }\n",
       "\n",
       "    .dataframe thead th {\n",
       "        text-align: right;\n",
       "    }\n",
       "</style>\n",
       "<table border=\"1\" class=\"dataframe\">\n",
       "  <thead>\n",
       "    <tr style=\"text-align: right;\">\n",
       "      <th></th>\n",
       "      <th>Cluster</th>\n",
       "      <th>MinDistance**2</th>\n",
       "    </tr>\n",
       "  </thead>\n",
       "  <tbody>\n",
       "    <tr>\n",
       "      <td>0</td>\n",
       "      <td>1.0</td>\n",
       "      <td>6.956708e-05</td>\n",
       "    </tr>\n",
       "    <tr>\n",
       "      <td>1</td>\n",
       "      <td>0.0</td>\n",
       "      <td>6.050510e-10</td>\n",
       "    </tr>\n",
       "    <tr>\n",
       "      <td>2</td>\n",
       "      <td>1.0</td>\n",
       "      <td>7.954763e-06</td>\n",
       "    </tr>\n",
       "    <tr>\n",
       "      <td>3</td>\n",
       "      <td>1.0</td>\n",
       "      <td>4.072606e-06</td>\n",
       "    </tr>\n",
       "    <tr>\n",
       "      <td>4</td>\n",
       "      <td>1.0</td>\n",
       "      <td>1.263234e-05</td>\n",
       "    </tr>\n",
       "    <tr>\n",
       "      <td>...</td>\n",
       "      <td>...</td>\n",
       "      <td>...</td>\n",
       "    </tr>\n",
       "    <tr>\n",
       "      <td>1774</td>\n",
       "      <td>1.0</td>\n",
       "      <td>1.494820e-03</td>\n",
       "    </tr>\n",
       "    <tr>\n",
       "      <td>1775</td>\n",
       "      <td>1.0</td>\n",
       "      <td>5.867805e-07</td>\n",
       "    </tr>\n",
       "    <tr>\n",
       "      <td>1776</td>\n",
       "      <td>1.0</td>\n",
       "      <td>2.299957e-07</td>\n",
       "    </tr>\n",
       "    <tr>\n",
       "      <td>1777</td>\n",
       "      <td>1.0</td>\n",
       "      <td>2.696897e-07</td>\n",
       "    </tr>\n",
       "    <tr>\n",
       "      <td>1778</td>\n",
       "      <td>1.0</td>\n",
       "      <td>2.319933e-07</td>\n",
       "    </tr>\n",
       "  </tbody>\n",
       "</table>\n",
       "<p>1779 rows × 2 columns</p>\n",
       "</div>"
      ],
      "text/plain": [
       "      Cluster  MinDistance**2\n",
       "0         1.0    6.956708e-05\n",
       "1         0.0    6.050510e-10\n",
       "2         1.0    7.954763e-06\n",
       "3         1.0    4.072606e-06\n",
       "4         1.0    1.263234e-05\n",
       "...       ...             ...\n",
       "1774      1.0    1.494820e-03\n",
       "1775      1.0    5.867805e-07\n",
       "1776      1.0    2.299957e-07\n",
       "1777      1.0    2.696897e-07\n",
       "1778      1.0    2.319933e-07\n",
       "\n",
       "[1779 rows x 2 columns]"
      ]
     },
     "execution_count": 127,
     "metadata": {},
     "output_type": "execute_result"
    }
   ],
   "source": [
    "NYCclusters = pd.DataFrame(clusAssmnt, columns=[\"Cluster\", \"MinDistance**2\"])\n",
    "NYCclusters"
   ]
  },
  {
   "cell_type": "code",
   "execution_count": 128,
   "metadata": {},
   "outputs": [
    {
     "name": "stdout",
     "output_type": "stream",
     "text": [
      "{0: Int64Index([   1,    7,    9,   11,   12,   13,   14,   18,   20,   21,\n",
      "            ...\n",
      "            1726, 1732, 1736, 1737, 1740, 1746, 1753, 1762, 1763, 1766],\n",
      "           dtype='int64', length=523), 1: Int64Index([   0,    2,    3,    4,    5,    6,    8,   10,   15,   16,\n",
      "            ...\n",
      "            1769, 1770, 1771, 1772, 1773, 1774, 1775, 1776, 1777, 1778],\n",
      "           dtype='int64', length=1250), 2: Int64Index([100, 335, 1013, 1075, 1234, 1384], dtype='int64')}\n"
     ]
    }
   ],
   "source": [
    "#record index for each cluster to get labels\n",
    "centDictDocIndx = dict()\n",
    "for c in range(len(centDF)):  #use cluster total to iterate \n",
    "    centDictDocIndx[c] = NYCclusters.index[NYCclusters[\"Cluster\"] == c]  #add to dict where ech key is a cluster and return the value as the indx of each doc\n",
    "print(centDictDocIndx)"
   ]
  },
  {
   "cell_type": "markdown",
   "metadata": {},
   "source": [
    "#### Important note.  The variable \"0\" is actually a variable denoting that a Debt Collection Agency was involved in the complaint."
   ]
  },
  {
   "cell_type": "code",
   "execution_count": 129,
   "metadata": {
    "scrolled": false
   },
   "outputs": [
    {
     "name": "stdout",
     "output_type": "stream",
     "text": [
      "Cluster 0\n",
      "Total records in cluster 523\n",
      "\n",
      "Top 10 attributes for each cluster\n",
      "                                          freq  Record %\n",
      "Restitution                              523.0  1.000000\n",
      "0                                        519.0  0.992352\n",
      "NY                                       400.0  0.764818\n",
      "Misrepresentation - M01                   97.0  0.185468\n",
      "Tow Truck Company - 124                   82.0  0.156788\n",
      "Billing Dispute - B02                     59.0  0.112811\n",
      "Surcharge/Overcharge - S02                58.0  0.110899\n",
      "Damaged Goods - D01                       49.0  0.093690\n",
      "Electronic Store - 001                    47.0  0.089866\n",
      "Exchange Goods/Contract Cancelled - E01   47.0  0.089866\n",
      "\n",
      "-----------------\n",
      "Cluster 1\n",
      "Total records in cluster 1250\n",
      "\n",
      "Top 10 attributes for each cluster\n",
      "                                           freq  Record %\n",
      "0                                        1250.0    1.0000\n",
      "NY                                       1006.0    0.8048\n",
      "Home Improvement Contractor - 100         279.0    0.2232\n",
      "Misrepresentation - M01                   196.0    0.1568\n",
      "Damaged Goods - D01                       132.0    0.1056\n",
      "Furniture Sales - 242                     129.0    0.1032\n",
      "Quality of Work - Q01                     119.0    0.0952\n",
      "Exchange Goods/Contract Cancelled - E01   114.0    0.0912\n",
      "Surcharge/Overcharge - S02                108.0    0.0864\n",
      "Billing Dispute - B02                      99.0    0.0792\n",
      "\n",
      "-----------------\n",
      "Cluster 2\n",
      "Total records in cluster 6\n",
      "\n",
      "Top 10 attributes for each cluster\n",
      "                                         freq  Record %\n",
      "NY                                        6.0  1.000000\n",
      "Home Improvement Contractor - 100         2.0  0.333333\n",
      "Damaged Goods - D01                       1.0  0.166667\n",
      "Exchange Goods/Contract Cancelled - E01   1.0  0.166667\n",
      "Furniture Sales - 242                     1.0  0.166667\n",
      "Garage - 049                              1.0  0.166667\n",
      "Grocery-Retail - 808                      1.0  0.166667\n",
      "Laundry - 064                             1.0  0.166667\n",
      "Misrepresentation - M01                   1.0  0.166667\n",
      "Other - Z01                               1.0  0.166667\n",
      "\n",
      "-----------------\n"
     ]
    }
   ],
   "source": [
    "for j in range(3):\n",
    "    streamPD = pd.DataFrame()\n",
    "    temp =  dict()\n",
    "    test = pd.DataFrame()\n",
    "    for i in centDictDocIndx[j]:\n",
    "        streamPD =  streamPD.append(trainDF.iloc[i])  # vs_trainDF.iloc[i]\n",
    "        for (columnName, columnData) in streamPD.iteritems():\n",
    "            counter = 0\n",
    "            for z in columnData:\n",
    "                if z > 0:\n",
    "                    counter = counter + 1\n",
    "                    temp[columnName] = counter\n",
    "    test= test.append(temp,ignore_index=True,sort=True)\n",
    "    table = test.T\n",
    "    table.columns = ['freq']\n",
    "\n",
    "    print(\"Cluster\", j)\n",
    "    print('Total records in cluster', len(streamPD))\n",
    "    print()\n",
    "    print('Top 10 attributes for each cluster')\n",
    "    table['Record %'] = table['freq']/len(streamPD)\n",
    "    print(table.nlargest(10,'freq'))\n",
    "    print()\n",
    "    print('-----------------')\n",
    "\n"
   ]
  },
  {
   "cell_type": "markdown",
   "metadata": {},
   "source": [
    "#### Homogeneity, completeness, and v-measure scores indicate a poor quality of clusters"
   ]
  },
  {
   "cell_type": "code",
   "execution_count": 130,
   "metadata": {},
   "outputs": [
    {
     "name": "stdout",
     "output_type": "stream",
     "text": [
      "Completeness score  0.29526628074987205\n",
      "homogeneity score   0.27643370245142246\n"
     ]
    }
   ],
   "source": [
    "from sklearn.metrics import completeness_score,homogeneity_score\n",
    "\n",
    "\n",
    "print('Completeness score', end = '  ')\n",
    "print(completeness_score(df_target_train,NYCclusters['Cluster']))\n",
    "print('homogeneity score', end = '   ')\n",
    "print(homogeneity_score(df_target_train,NYCclusters['Cluster']))"
   ]
  },
  {
   "cell_type": "code",
   "execution_count": 131,
   "metadata": {},
   "outputs": [],
   "source": [
    "completeness = completeness_score(df_target_train,NYCclusters['Cluster'])\n",
    "homogeneity = homogeneity_score(df_target_train,NYCclusters['Cluster'])"
   ]
  },
  {
   "cell_type": "code",
   "execution_count": 132,
   "metadata": {},
   "outputs": [
    {
     "name": "stdout",
     "output_type": "stream",
     "text": [
      "V-measure:  0.28553980617490937\n"
     ]
    }
   ],
   "source": [
    "print(\"V-measure: \", 2 * ((homogeneity * completeness) / (homogeneity + completeness)))"
   ]
  },
  {
   "cell_type": "markdown",
   "metadata": {},
   "source": [
    "##   Singular Value Decomposition-- used to reduce the dimensions of the data set \n",
    "### Run against the dataframe that includes duration (dfcopyWIthDuration)"
   ]
  },
  {
   "cell_type": "code",
   "execution_count": 133,
   "metadata": {},
   "outputs": [
    {
     "name": "stdout",
     "output_type": "stream",
     "text": [
      "(445, 141)\n"
     ]
    },
    {
     "data": {
      "text/html": [
       "<div>\n",
       "<style scoped>\n",
       "    .dataframe tbody tr th:only-of-type {\n",
       "        vertical-align: middle;\n",
       "    }\n",
       "\n",
       "    .dataframe tbody tr th {\n",
       "        vertical-align: top;\n",
       "    }\n",
       "\n",
       "    .dataframe thead th {\n",
       "        text-align: right;\n",
       "    }\n",
       "</style>\n",
       "<table border=\"1\" class=\"dataframe\">\n",
       "  <thead>\n",
       "    <tr style=\"text-align: right;\">\n",
       "      <th></th>\n",
       "      <th>Restitution</th>\n",
       "      <th>Appliances - 244</th>\n",
       "      <th>Auction House - 128</th>\n",
       "      <th>Auto Dealership - 212</th>\n",
       "      <th>Auto Leasing - 211</th>\n",
       "      <th>Auto Rental - 213</th>\n",
       "      <th>Booting Company - 126</th>\n",
       "      <th>Car Wash</th>\n",
       "      <th>Catering Establishment - 075</th>\n",
       "      <th>Dealer In Products For The Disabled - 119</th>\n",
       "      <th>...</th>\n",
       "      <th>PA</th>\n",
       "      <th>RI</th>\n",
       "      <th>SC</th>\n",
       "      <th>TN</th>\n",
       "      <th>TX</th>\n",
       "      <th>UT</th>\n",
       "      <th>VA</th>\n",
       "      <th>WA</th>\n",
       "      <th>WI</th>\n",
       "      <th>0</th>\n",
       "    </tr>\n",
       "  </thead>\n",
       "  <tbody>\n",
       "    <tr>\n",
       "      <td>2772</td>\n",
       "      <td>773.0</td>\n",
       "      <td>0</td>\n",
       "      <td>0</td>\n",
       "      <td>0</td>\n",
       "      <td>0</td>\n",
       "      <td>0</td>\n",
       "      <td>0</td>\n",
       "      <td>0</td>\n",
       "      <td>0</td>\n",
       "      <td>0</td>\n",
       "      <td>...</td>\n",
       "      <td>0</td>\n",
       "      <td>0</td>\n",
       "      <td>0</td>\n",
       "      <td>0</td>\n",
       "      <td>0</td>\n",
       "      <td>0</td>\n",
       "      <td>0</td>\n",
       "      <td>0</td>\n",
       "      <td>0</td>\n",
       "      <td>15</td>\n",
       "    </tr>\n",
       "    <tr>\n",
       "      <td>1232</td>\n",
       "      <td>0.0</td>\n",
       "      <td>0</td>\n",
       "      <td>0</td>\n",
       "      <td>0</td>\n",
       "      <td>0</td>\n",
       "      <td>0</td>\n",
       "      <td>0</td>\n",
       "      <td>0</td>\n",
       "      <td>0</td>\n",
       "      <td>0</td>\n",
       "      <td>...</td>\n",
       "      <td>0</td>\n",
       "      <td>0</td>\n",
       "      <td>0</td>\n",
       "      <td>0</td>\n",
       "      <td>0</td>\n",
       "      <td>0</td>\n",
       "      <td>0</td>\n",
       "      <td>0</td>\n",
       "      <td>0</td>\n",
       "      <td>29</td>\n",
       "    </tr>\n",
       "    <tr>\n",
       "      <td>658</td>\n",
       "      <td>90.0</td>\n",
       "      <td>0</td>\n",
       "      <td>0</td>\n",
       "      <td>0</td>\n",
       "      <td>0</td>\n",
       "      <td>0</td>\n",
       "      <td>0</td>\n",
       "      <td>0</td>\n",
       "      <td>0</td>\n",
       "      <td>0</td>\n",
       "      <td>...</td>\n",
       "      <td>0</td>\n",
       "      <td>0</td>\n",
       "      <td>0</td>\n",
       "      <td>0</td>\n",
       "      <td>0</td>\n",
       "      <td>0</td>\n",
       "      <td>0</td>\n",
       "      <td>1</td>\n",
       "      <td>0</td>\n",
       "      <td>22</td>\n",
       "    </tr>\n",
       "    <tr>\n",
       "      <td>879</td>\n",
       "      <td>0.0</td>\n",
       "      <td>0</td>\n",
       "      <td>0</td>\n",
       "      <td>0</td>\n",
       "      <td>0</td>\n",
       "      <td>1</td>\n",
       "      <td>0</td>\n",
       "      <td>0</td>\n",
       "      <td>0</td>\n",
       "      <td>0</td>\n",
       "      <td>...</td>\n",
       "      <td>0</td>\n",
       "      <td>0</td>\n",
       "      <td>0</td>\n",
       "      <td>0</td>\n",
       "      <td>0</td>\n",
       "      <td>0</td>\n",
       "      <td>0</td>\n",
       "      <td>0</td>\n",
       "      <td>0</td>\n",
       "      <td>40</td>\n",
       "    </tr>\n",
       "    <tr>\n",
       "      <td>540</td>\n",
       "      <td>0.0</td>\n",
       "      <td>0</td>\n",
       "      <td>0</td>\n",
       "      <td>0</td>\n",
       "      <td>0</td>\n",
       "      <td>0</td>\n",
       "      <td>0</td>\n",
       "      <td>0</td>\n",
       "      <td>0</td>\n",
       "      <td>0</td>\n",
       "      <td>...</td>\n",
       "      <td>0</td>\n",
       "      <td>0</td>\n",
       "      <td>0</td>\n",
       "      <td>0</td>\n",
       "      <td>0</td>\n",
       "      <td>0</td>\n",
       "      <td>0</td>\n",
       "      <td>0</td>\n",
       "      <td>0</td>\n",
       "      <td>64</td>\n",
       "    </tr>\n",
       "  </tbody>\n",
       "</table>\n",
       "<p>5 rows × 141 columns</p>\n",
       "</div>"
      ],
      "text/plain": [
       "      Restitution  Appliances - 244  Auction House - 128  \\\n",
       "2772        773.0                 0                    0   \n",
       "1232          0.0                 0                    0   \n",
       "658          90.0                 0                    0   \n",
       "879           0.0                 0                    0   \n",
       "540           0.0                 0                    0   \n",
       "\n",
       "      Auto Dealership - 212  Auto Leasing - 211  Auto Rental - 213  \\\n",
       "2772                      0                   0                  0   \n",
       "1232                      0                   0                  0   \n",
       "658                       0                   0                  0   \n",
       "879                       0                   0                  1   \n",
       "540                       0                   0                  0   \n",
       "\n",
       "      Booting Company - 126  Car Wash  Catering Establishment - 075  \\\n",
       "2772                      0         0                             0   \n",
       "1232                      0         0                             0   \n",
       "658                       0         0                             0   \n",
       "879                       0         0                             0   \n",
       "540                       0         0                             0   \n",
       "\n",
       "      Dealer In Products For The Disabled - 119  ...  PA  RI  SC  TN  TX  UT  \\\n",
       "2772                                          0  ...   0   0   0   0   0   0   \n",
       "1232                                          0  ...   0   0   0   0   0   0   \n",
       "658                                           0  ...   0   0   0   0   0   0   \n",
       "879                                           0  ...   0   0   0   0   0   0   \n",
       "540                                           0  ...   0   0   0   0   0   0   \n",
       "\n",
       "      VA  WA  WI   0  \n",
       "2772   0   0   0  15  \n",
       "1232   0   0   0  29  \n",
       "658    0   1   0  22  \n",
       "879    0   0   0  40  \n",
       "540    0   0   0  64  \n",
       "\n",
       "[5 rows x 141 columns]"
      ]
     },
     "execution_count": 133,
     "metadata": {},
     "output_type": "execute_result"
    }
   ],
   "source": [
    "from sklearn.model_selection import train_test_split\n",
    "df_train, df_test, df_target_train, df_target_test = train_test_split(dfcopyWithDuration, df_target, test_size=0.2, random_state=22)\n",
    "\n",
    "print(df_test.shape)\n",
    "df_test[0:5]"
   ]
  },
  {
   "cell_type": "code",
   "execution_count": 134,
   "metadata": {},
   "outputs": [],
   "source": [
    "from sklearn.decomposition import TruncatedSVD\n",
    "from scipy.sparse import random as sparse_random\n",
    "from sklearn.random_projection import sparse_random_matrix"
   ]
  },
  {
   "cell_type": "code",
   "execution_count": 135,
   "metadata": {},
   "outputs": [],
   "source": [
    "svd = TruncatedSVD(n_components=1, n_iter=7, random_state=42)"
   ]
  },
  {
   "cell_type": "code",
   "execution_count": 136,
   "metadata": {},
   "outputs": [],
   "source": [
    "df_trainTRANS = svd.fit_transform(df_train)"
   ]
  },
  {
   "cell_type": "code",
   "execution_count": 137,
   "metadata": {},
   "outputs": [],
   "source": [
    "df_testTRANS = svd.fit_transform(df_test)"
   ]
  },
  {
   "cell_type": "code",
   "execution_count": 138,
   "metadata": {},
   "outputs": [
    {
     "name": "stdout",
     "output_type": "stream",
     "text": [
      "[[7.73010038e+02]\n",
      " [1.97681863e-02]\n",
      " [9.00149656e+01]\n",
      " [2.72424570e-02]\n",
      " [4.36072677e-02]\n",
      " [2.90006761e+02]\n",
      " [2.40002739e+03]\n",
      " [2.72513568e-02]\n",
      " [5.00008755e+02]\n",
      " [1.00001816e+03]\n",
      " [3.50012877e+02]\n",
      " [2.24779120e-02]\n",
      " [1.08986933e-02]\n",
      " [1.36394778e-02]\n",
      " [2.04330811e-02]\n",
      " [2.52021787e-02]\n",
      " [4.36021030e+02]\n",
      " [2.80011552e+02]\n",
      " [8.87085818e-03]\n",
      " [3.74777049e-02]\n",
      " [1.29587424e-02]\n",
      " [2.11306712e-02]\n",
      " [1.70440701e-02]\n",
      " [2.38536397e-02]\n",
      " [8.19578356e-03]\n",
      " [5.00027824e+02]\n",
      " [2.72604909e-02]\n",
      " [1.77246786e-02]\n",
      " [1.90876462e-02]\n",
      " [9.55400520e-03]\n",
      " [2.31569864e-02]\n",
      " [1.00019741e+02]\n",
      " [1.43209712e-02]\n",
      " [2.31729042e-02]\n",
      " [2.72600173e-02]\n",
      " [2.73582347e-03]\n",
      " [2.07565176e-03]\n",
      " [1.77277206e-02]\n",
      " [3.61152068e-02]\n",
      " [1.50015427e-02]\n",
      " [1.84085544e-02]\n",
      " [1.80001663e+03]\n",
      " [2.00001318e+03]\n",
      " [2.04508089e-02]\n",
      " [1.77240927e-02]\n",
      " [1.43197312e-02]\n",
      " [1.50024171e-02]\n",
      " [3.00001992e+02]\n",
      " [2.11146463e-02]\n",
      " [1.70013752e+01]\n",
      " [4.90016931e+02]\n",
      " [2.00013758e+01]\n",
      " [4.39679987e+04]\n",
      " [2.86235382e-02]\n",
      " [1.70277791e-02]\n",
      " [6.40122621e+01]\n",
      " [3.43293462e-03]\n",
      " [1.43148256e-02]\n",
      " [3.20352370e-02]\n",
      " [2.72534870e-02]\n",
      " [2.29045606e+02]\n",
      " [1.56834434e-02]\n",
      " [1.15944890e-02]\n",
      " [1.46900445e+03]\n",
      " [1.63738201e-02]\n",
      " [1.09364495e-02]\n",
      " [2.85018346e+02]\n",
      " [2.40004049e+02]\n",
      " [3.68097515e-02]\n",
      " [1.84064796e-02]\n",
      " [6.80258831e+01]\n",
      " [1.49850570e-02]\n",
      " [8.00170270e+01]\n",
      " [1.90879074e-02]\n",
      " [2.93035579e-02]\n",
      " [3.61226881e-02]\n",
      " [2.52172628e-02]\n",
      " [3.81005362e+02]\n",
      " [6.80054611e+01]\n",
      " [2.31792696e-02]\n",
      " [1.77250344e-02]\n",
      " [1.00109138e+01]\n",
      " [2.45377228e-02]\n",
      " [1.22620003e-02]\n",
      " [1.22765547e-02]\n",
      " [3.27193861e-02]\n",
      " [2.24924294e-02]\n",
      " [2.45200213e-02]\n",
      " [3.13564266e-02]\n",
      " [1.00014979e+02]\n",
      " [3.02385548e+00]\n",
      " [8.19210715e-03]\n",
      " [4.10574247e-03]\n",
      " [2.06141428e-03]\n",
      " [9.40136180e+01]\n",
      " [1.09140405e-02]\n",
      " [3.50008111e+02]\n",
      " [3.33826007e-02]\n",
      " [9.55421300e-03]\n",
      " [2.17802199e+03]\n",
      " [1.09201514e-02]\n",
      " [9.56131775e-03]\n",
      " [1.70639241e-02]\n",
      " [2.04508089e-02]\n",
      " [2.06957814e-03]\n",
      " [4.70100315e-02]\n",
      " [2.38551413e-02]\n",
      " [2.04511238e-02]\n",
      " [1.32000857e+03]\n",
      " [2.79517513e-02]\n",
      " [3.67962676e-02]\n",
      " [2.31561969e-02]\n",
      " [8.87027226e-03]\n",
      " [2.70000893e+03]\n",
      " [2.52162395e-02]\n",
      " [1.50063584e-02]\n",
      " [1.22660927e-02]\n",
      " [2.86310196e-02]\n",
      " [2.31746540e-02]\n",
      " [2.24779987e-02]\n",
      " [3.50095501e+01]\n",
      " [1.11021104e+02]\n",
      " [1.90973325e-02]\n",
      " [1.83904040e-02]\n",
      " [1.70470612e-02]\n",
      " [1.63684800e-02]\n",
      " [7.30028438e+02]\n",
      " [1.36015651e+02]\n",
      " [1.50026992e-02]\n",
      " [8.00408472e+00]\n",
      " [7.08691506e-04]\n",
      " [2.04488914e-02]\n",
      " [2.04483209e-02]\n",
      " [1.97677384e-02]\n",
      " [6.82728356e-03]\n",
      " [2.79488723e-02]\n",
      " [1.63687296e-02]\n",
      " [1.77247405e-02]\n",
      " [1.56839326e-02]\n",
      " [3.33884906e-02]\n",
      " [2.52173853e-02]\n",
      " [9.00886996e+00]\n",
      " [2.79429194e-02]\n",
      " [2.00024491e+02]\n",
      " [8.17003233e+02]\n",
      " [1.63620594e-02]\n",
      " [3.81558594e-02]\n",
      " [3.27162978e-02]\n",
      " [2.18032657e+02]\n",
      " [6.82729172e-03]\n",
      " [2.45375501e-02]\n",
      " [9.54634850e-03]\n",
      " [1.07203111e+03]\n",
      " [8.88025697e-03]\n",
      " [8.19093495e-03]\n",
      " [2.18203407e-02]\n",
      " [2.31738993e-02]\n",
      " [3.00010164e+02]\n",
      " [2.04511855e-02]\n",
      " [1.02390814e-02]\n",
      " [5.47611696e-03]\n",
      " [4.79389230e-03]\n",
      " [2.93043083e-02]\n",
      " [1.70639241e-02]\n",
      " [1.02330567e-02]\n",
      " [3.00007438e+02]\n",
      " [9.55200142e-03]\n",
      " [2.59127790e-02]\n",
      " [6.41012802e+02]\n",
      " [3.74020363e+02]\n",
      " [2.24932113e-02]\n",
      " [4.00014227e+02]\n",
      " [1.63684800e-02]\n",
      " [3.75033977e+02]\n",
      " [3.54341460e-02]\n",
      " [2.40143135e+01]\n",
      " [2.48007438e+02]\n",
      " [2.11298292e-02]\n",
      " [2.45211915e-02]\n",
      " [2.72678115e-02]\n",
      " [8.19810973e-03]\n",
      " [2.00004738e+02]\n",
      " [1.46015650e+02]\n",
      " [8.85443699e-03]\n",
      " [2.00009507e+02]\n",
      " [3.00023796e+02]\n",
      " [5.46753173e-03]\n",
      " [5.00001725e+03]\n",
      " [4.49006037e+02]\n",
      " [2.62014939e+02]\n",
      " [4.78647095e-03]\n",
      " [2.80136338e+01]\n",
      " [2.79403594e-02]\n",
      " [1.96024474e+02]\n",
      " [1.30502900e+03]\n",
      " [3.81588311e-02]\n",
      " [2.52182343e-02]\n",
      " [1.43299071e-02]\n",
      " [3.10286262e+01]\n",
      " [6.82965328e-03]\n",
      " [2.25003861e-02]\n",
      " [2.04493543e-02]\n",
      " [2.18125325e-02]\n",
      " [2.24930041e-02]\n",
      " [2.65779447e-02]\n",
      " [3.42434939e-03]\n",
      " [2.18133070e-02]\n",
      " [1.43213350e-02]\n",
      " [2.31628126e-02]\n",
      " [2.52160518e-02]\n",
      " [4.10968879e-03]\n",
      " [9.55155698e-03]\n",
      " [1.90115915e+01]\n",
      " [2.24940512e-02]\n",
      " [2.79430267e-02]\n",
      " [4.50109150e+01]\n",
      " [2.86235382e-02]\n",
      " [1.29573053e-02]\n",
      " [2.86237070e-02]\n",
      " [6.82919534e-03]\n",
      " [9.80000471e+02]\n",
      " [1.43204129e-02]\n",
      " [6.82968129e-03]\n",
      " [2.24943678e-02]\n",
      " [3.64201756e+03]\n",
      " [3.40570667e-03]\n",
      " [5.00136263e+01]\n",
      " [1.89601184e+03]\n",
      " [2.11310898e-02]\n",
      " [9.55263799e-03]\n",
      " [1.75000981e+03]\n",
      " [1.35001196e+03]\n",
      " [1.90865683e-02]\n",
      " [5.00011479e+02]\n",
      " [6.00136247e+01]\n",
      " [7.50835250e-03]\n",
      " [1.50027397e+01]\n",
      " [3.42190459e-03]\n",
      " [6.30197547e+01]\n",
      " [1.90726081e-02]\n",
      " [2.45387297e-02]\n",
      " [1.62300920e+03]\n",
      " [1.70496984e-02]\n",
      " [2.86073921e-02]\n",
      " [1.18302153e+03]\n",
      " [1.36244521e-02]\n",
      " [2.38625076e-02]\n",
      " [1.29677855e-02]\n",
      " [4.79059516e-03]\n",
      " [2.31725481e-02]\n",
      " [9.55291060e-03]\n",
      " [2.51012900e+02]\n",
      " [6.47002644e+03]\n",
      " [2.38565547e-02]\n",
      " [2.51008138e+02]\n",
      " [1.43208628e-02]\n",
      " [2.79428540e-02]\n",
      " [1.63018368e+02]\n",
      " [2.38545509e-02]\n",
      " [3.67966442e-02]\n",
      " [1.00023833e+02]\n",
      " [3.57801758e+03]\n",
      " [3.47665692e-02]\n",
      " [2.86232475e-02]\n",
      " [3.00001362e+03]\n",
      " [2.86370221e-02]\n",
      " [2.59061905e-02]\n",
      " [2.00030604e+02]\n",
      " [6.82760718e-03]\n",
      " [9.55343846e-03]\n",
      " [2.11334258e-02]\n",
      " [3.88378288e-02]\n",
      " [6.13001040e-03]\n",
      " [6.14619644e-03]\n",
      " [2.00007462e+02]\n",
      " [1.25032690e+02]\n",
      " [4.50047744e+01]\n",
      " [1.02485507e-02]\n",
      " [2.68800757e+03]\n",
      " [1.50075162e+01]\n",
      " [1.02169100e-02]\n",
      " [1.02181836e-02]\n",
      " [3.27100814e-02]\n",
      " [2.80017644e+02]\n",
      " [1.70526387e-02]\n",
      " [6.09014179e+02]\n",
      " [3.81658705e-02]\n",
      " [7.19280051e+04]\n",
      " [1.56907422e-02]\n",
      " [2.52186109e-02]\n",
      " [2.50177142e+01]\n",
      " [1.36500630e-02]\n",
      " [6.99852657e-04]\n",
      " [1.50000854e+03]\n",
      " [1.36606927e-02]\n",
      " [5.00047749e+01]\n",
      " [1.02005464e+02]\n",
      " [3.13478261e-02]\n",
      " [1.36406430e-02]\n",
      " [2.31748584e-02]\n",
      " [8.18918514e-03]\n",
      " [2.11263250e-02]\n",
      " [2.31955436e-02]\n",
      " [8.30292688e+01]\n",
      " [1.29577410e-02]\n",
      " [2.31822503e-02]\n",
      " [4.10551897e-03]\n",
      " [3.00022425e+02]\n",
      " [4.78495640e-03]\n",
      " [1.70455050e-02]\n",
      " [2.79428697e-02]\n",
      " [1.77195932e-02]\n",
      " [9.55309101e-03]\n",
      " [1.97701900e-02]\n",
      " [6.66028469e+02]\n",
      " [1.10143189e+01]\n",
      " [3.44018328e+02]\n",
      " [6.83003524e-03]\n",
      " [3.27096122e-02]\n",
      " [2.45358608e-02]\n",
      " [1.43187557e-02]\n",
      " [2.11334258e-02]\n",
      " [2.79253211e-02]\n",
      " [1.57016311e+02]\n",
      " [5.46540542e-03]\n",
      " [7.10143052e+01]\n",
      " [1.56825344e-02]\n",
      " [1.77254130e-02]\n",
      " [3.88394946e-02]\n",
      " [2.93120803e-02]\n",
      " [1.50097272e-02]\n",
      " [1.00000525e+03]\n",
      " [1.90861994e-02]\n",
      " [3.53001078e+03]\n",
      " [2.65845401e-02]\n",
      " [1.40095335e+01]\n",
      " [4.29258146e-02]\n",
      " [1.56660076e-02]\n",
      " [1.72650035e+04]\n",
      " [2.45371736e-02]\n",
      " [6.15565495e-03]\n",
      " [2.86221033e-02]\n",
      " [7.50004621e+02]\n",
      " [1.27500653e+03]\n",
      " [1.36019058e+02]\n",
      " [2.86239148e-02]\n",
      " [1.49838252e-02]\n",
      " [8.88025697e-03]\n",
      " [8.19131690e-03]\n",
      " [4.90047752e+01]\n",
      " [1.00018384e+02]\n",
      " [1.22617095e-02]\n",
      " [2.65779711e-02]\n",
      " [4.90027129e+02]\n",
      " [1.95021762e+02]\n",
      " [1.84067776e-02]\n",
      " [6.00109010e+01]\n",
      " [3.61052763e-02]\n",
      " [1.09234393e-02]\n",
      " [1.50022963e-02]\n",
      " [6.90333793e+01]\n",
      " [7.50008036e+02]\n",
      " [2.11318697e-02]\n",
      " [1.77252530e-02]\n",
      " [8.19056214e-03]\n",
      " [2.59086710e-02]\n",
      " [2.19017675e+02]\n",
      " [1.22801948e+03]\n",
      " [8.19810973e-03]\n",
      " [1.02347036e-02]\n",
      " [5.64012811e+02]\n",
      " [3.43164821e-03]\n",
      " [1.70455050e-02]\n",
      " [2.74339741e-03]\n",
      " [2.38551870e-02]\n",
      " [2.65807325e-02]\n",
      " [3.40724010e-02]\n",
      " [6.14775261e-03]\n",
      " [3.00014237e+02]\n",
      " [4.22582377e-02]\n",
      " [1.43198270e-02]\n",
      " [4.10301410e-03]\n",
      " [3.40724167e-02]\n",
      " [2.06233663e-03]\n",
      " [2.38565547e-02]\n",
      " [1.97698647e-02]\n",
      " [2.04493327e-02]\n",
      " [9.55354574e-03]\n",
      " [1.56824634e-02]\n",
      " [1.36394544e-02]\n",
      " [2.59082891e-02]\n",
      " [3.27102952e-02]\n",
      " [1.80068087e+01]\n",
      " [3.74593470e-02]\n",
      " [1.36345934e-02]\n",
      " [7.50823316e-03]\n",
      " [1.50027149e-02]\n",
      " [1.56826602e-02]\n",
      " [1.39016333e+02]\n",
      " [4.22427664e-02]\n",
      " [2.72435063e-02]\n",
      " [4.76918185e-03]\n",
      " [3.06670971e-02]\n",
      " [3.13481211e-02]\n",
      " [3.20263542e-02]\n",
      " [2.79430267e-02]\n",
      " [2.58822986e-02]\n",
      " [2.50033996e+02]\n",
      " [2.07081306e-03]\n",
      " [1.49842905e-02]\n",
      " [2.58997370e-02]\n",
      " [2.31748584e-02]\n",
      " [6.83457445e-04]\n",
      " [1.70700781e+03]\n",
      " [4.34016246e+02]\n",
      " [5.00029196e+02]\n",
      " [6.80115808e+01]\n",
      " [2.24916064e-02]\n",
      " [2.75019025e+02]\n",
      " [1.70518999e-02]\n",
      " [6.80061421e+01]\n",
      " [3.20289021e-02]\n",
      " [1.36394475e-02]\n",
      " [1.90896152e-02]\n",
      " [5.00029870e+02]\n",
      " [3.33884906e-02]\n",
      " [5.28016226e+02]\n",
      " [2.18120046e-02]\n",
      " [2.52016299e+02]\n",
      " [3.33900379e-02]\n",
      " [2.93132442e-02]\n",
      " [3.81531072e-02]\n",
      " [1.49202622e+03]\n",
      " [1.25013609e+02]\n",
      " [5.00027145e+02]\n",
      " [9.55240150e-03]\n",
      " [6.82739940e-03]\n",
      " [2.38564894e-02]\n",
      " [3.13481736e-02]\n",
      " [1.50026992e-02]\n",
      " [3.27102795e-02]\n",
      " [2.31754286e-02]\n",
      " [2.86214280e-02]\n",
      " [3.33886608e-02]\n",
      " [2.38564894e-02]]\n"
     ]
    }
   ],
   "source": [
    "print(df_testTRANS)"
   ]
  },
  {
   "cell_type": "markdown",
   "metadata": {},
   "source": [
    "### The first component explains over 99% of the variation in the data"
   ]
  },
  {
   "cell_type": "code",
   "execution_count": 139,
   "metadata": {},
   "outputs": [
    {
     "name": "stdout",
     "output_type": "stream",
     "text": [
      "[0.99998741]\n"
     ]
    }
   ],
   "source": [
    "print(svd.explained_variance_ratio_)"
   ]
  },
  {
   "cell_type": "code",
   "execution_count": 140,
   "metadata": {},
   "outputs": [
    {
     "name": "stdout",
     "output_type": "stream",
     "text": [
      "0.9999874056618056\n"
     ]
    }
   ],
   "source": [
    "print(svd.explained_variance_ratio_.sum())"
   ]
  },
  {
   "cell_type": "code",
   "execution_count": 141,
   "metadata": {},
   "outputs": [],
   "source": [
    "#use the same parameters from the grid search result and now the SVD transformation\n",
    "from sklearn import tree\n",
    "\n",
    "treeclfOpt = tree.DecisionTreeClassifier(criterion= 'entropy', max_leaf_nodes = 12, max_depth = 7, min_samples_leaf= 24, min_samples_split= 10) #max_leaf_nodes"
   ]
  },
  {
   "cell_type": "code",
   "execution_count": 142,
   "metadata": {},
   "outputs": [],
   "source": [
    "treeclfOpt = treeclfOpt.fit(df_trainTRANS, df_target_train)"
   ]
  },
  {
   "cell_type": "code",
   "execution_count": 143,
   "metadata": {},
   "outputs": [
    {
     "name": "stdout",
     "output_type": "stream",
     "text": [
      "['Yes' 'Yes' 'Yes' 'Yes' 'No' 'Yes' 'Yes' 'Yes' 'Yes' 'Yes' 'Yes' 'Yes'\n",
      " 'Yes' 'Yes' 'Yes' 'Yes' 'Yes' 'Yes' 'Yes' 'Yes' 'Yes' 'Yes' 'Yes' 'Yes'\n",
      " 'Yes' 'Yes' 'Yes' 'Yes' 'Yes' 'Yes' 'Yes' 'Yes' 'Yes' 'Yes' 'Yes' 'Yes'\n",
      " 'Yes' 'Yes' 'Yes' 'Yes' 'Yes' 'Yes' 'Yes' 'Yes' 'Yes' 'Yes' 'Yes' 'Yes'\n",
      " 'Yes' 'Yes' 'Yes' 'Yes' 'Yes' 'Yes' 'Yes' 'Yes' 'Yes' 'Yes' 'Yes' 'Yes'\n",
      " 'Yes' 'Yes' 'Yes' 'Yes' 'Yes' 'Yes' 'Yes' 'Yes' 'Yes' 'Yes' 'Yes' 'Yes'\n",
      " 'Yes' 'Yes' 'Yes' 'Yes' 'Yes' 'Yes' 'Yes' 'Yes' 'Yes' 'Yes' 'Yes' 'Yes'\n",
      " 'Yes' 'Yes' 'Yes' 'Yes' 'Yes' 'Yes' 'Yes' 'Yes' 'Yes' 'Yes' 'Yes' 'Yes'\n",
      " 'Yes' 'Yes' 'Yes' 'Yes' 'Yes' 'Yes' 'Yes' 'Yes' 'Yes' 'No' 'Yes' 'Yes'\n",
      " 'Yes' 'Yes' 'Yes' 'Yes' 'Yes' 'Yes' 'Yes' 'Yes' 'Yes' 'Yes' 'Yes' 'Yes'\n",
      " 'Yes' 'Yes' 'Yes' 'Yes' 'Yes' 'Yes' 'Yes' 'Yes' 'Yes' 'Yes' 'Yes' 'Yes'\n",
      " 'Yes' 'Yes' 'Yes' 'Yes' 'Yes' 'Yes' 'Yes' 'Yes' 'Yes' 'Yes' 'Yes' 'Yes'\n",
      " 'Yes' 'Yes' 'Yes' 'Yes' 'Yes' 'Yes' 'Yes' 'Yes' 'Yes' 'Yes' 'Yes' 'Yes'\n",
      " 'Yes' 'Yes' 'Yes' 'Yes' 'Yes' 'Yes' 'Yes' 'Yes' 'Yes' 'Yes' 'Yes' 'Yes'\n",
      " 'Yes' 'Yes' 'Yes' 'Yes' 'Yes' 'Yes' 'Yes' 'Yes' 'Yes' 'Yes' 'Yes' 'Yes'\n",
      " 'Yes' 'Yes' 'Yes' 'Yes' 'Yes' 'Yes' 'Yes' 'Yes' 'Yes' 'Yes' 'Yes' 'Yes'\n",
      " 'Yes' 'Yes' 'Yes' 'Yes' 'Yes' 'Yes' 'Yes' 'Yes' 'Yes' 'Yes' 'Yes' 'Yes'\n",
      " 'Yes' 'Yes' 'Yes' 'Yes' 'Yes' 'Yes' 'Yes' 'Yes' 'Yes' 'Yes' 'Yes' 'Yes'\n",
      " 'Yes' 'Yes' 'Yes' 'Yes' 'Yes' 'Yes' 'Yes' 'Yes' 'Yes' 'Yes' 'Yes' 'Yes'\n",
      " 'Yes' 'Yes' 'Yes' 'Yes' 'Yes' 'Yes' 'Yes' 'Yes' 'Yes' 'Yes' 'Yes' 'Yes'\n",
      " 'Yes' 'Yes' 'Yes' 'Yes' 'Yes' 'Yes' 'Yes' 'Yes' 'Yes' 'Yes' 'Yes' 'Yes'\n",
      " 'Yes' 'Yes' 'Yes' 'Yes' 'Yes' 'Yes' 'Yes' 'Yes' 'Yes' 'Yes' 'Yes' 'Yes'\n",
      " 'Yes' 'Yes' 'Yes' 'Yes' 'Yes' 'Yes' 'Yes' 'Yes' 'Yes' 'Yes' 'Yes' 'Yes'\n",
      " 'Yes' 'Yes' 'Yes' 'Yes' 'Yes' 'Yes' 'Yes' 'Yes' 'Yes' 'Yes' 'Yes' 'Yes'\n",
      " 'Yes' 'Yes' 'Yes' 'Yes' 'Yes' 'Yes' 'Yes' 'Yes' 'Yes' 'Yes' 'Yes' 'Yes'\n",
      " 'Yes' 'Yes' 'Yes' 'Yes' 'Yes' 'Yes' 'Yes' 'Yes' 'Yes' 'Yes' 'Yes' 'Yes'\n",
      " 'Yes' 'Yes' 'Yes' 'Yes' 'Yes' 'Yes' 'Yes' 'Yes' 'Yes' 'Yes' 'Yes' 'Yes'\n",
      " 'Yes' 'Yes' 'Yes' 'Yes' 'Yes' 'Yes' 'Yes' 'Yes' 'Yes' 'Yes' 'Yes' 'Yes'\n",
      " 'No' 'Yes' 'Yes' 'Yes' 'Yes' 'Yes' 'Yes' 'Yes' 'Yes' 'Yes' 'Yes' 'Yes'\n",
      " 'Yes' 'Yes' 'Yes' 'Yes' 'Yes' 'Yes' 'Yes' 'Yes' 'Yes' 'Yes' 'Yes' 'Yes'\n",
      " 'Yes' 'Yes' 'Yes' 'Yes' 'Yes' 'Yes' 'Yes' 'Yes' 'Yes' 'Yes' 'Yes' 'Yes'\n",
      " 'Yes' 'Yes' 'Yes' 'Yes' 'Yes' 'Yes' 'Yes' 'No' 'Yes' 'Yes' 'Yes' 'Yes'\n",
      " 'Yes' 'Yes' 'Yes' 'Yes' 'Yes' 'Yes' 'Yes' 'Yes' 'Yes' 'Yes' 'Yes' 'Yes'\n",
      " 'Yes' 'Yes' 'Yes' 'No' 'Yes' 'Yes' 'Yes' 'Yes' 'Yes' 'Yes' 'Yes' 'Yes'\n",
      " 'Yes' 'Yes' 'Yes' 'Yes' 'Yes' 'Yes' 'Yes' 'Yes' 'Yes' 'Yes' 'Yes' 'Yes'\n",
      " 'Yes' 'Yes' 'Yes' 'Yes' 'Yes' 'Yes' 'Yes' 'Yes' 'Yes' 'Yes' 'Yes' 'Yes'\n",
      " 'Yes' 'Yes' 'Yes' 'Yes' 'Yes' 'Yes' 'Yes' 'Yes' 'Yes' 'Yes' 'Yes' 'Yes'\n",
      " 'Yes']\n"
     ]
    }
   ],
   "source": [
    "treepreds_test = treeclfOpt.predict(df_testTRANS)\n",
    "print(treepreds_test)"
   ]
  },
  {
   "cell_type": "code",
   "execution_count": 144,
   "metadata": {},
   "outputs": [],
   "source": [
    "testTarg = pd.DataFrame(df_target_test)"
   ]
  },
  {
   "cell_type": "markdown",
   "metadata": {},
   "source": [
    "#### The accuracy actually decreased significantly (from 82% to 59%)"
   ]
  },
  {
   "cell_type": "code",
   "execution_count": 145,
   "metadata": {},
   "outputs": [
    {
     "name": "stdout",
     "output_type": "stream",
     "text": [
      "0.5910112359550562\n"
     ]
    }
   ],
   "source": [
    "print(treeclfOpt.score(df_testTRANS, testTarg))"
   ]
  },
  {
   "cell_type": "code",
   "execution_count": null,
   "metadata": {},
   "outputs": [],
   "source": []
  }
 ],
 "metadata": {
  "kernelspec": {
   "display_name": "Python 3",
   "language": "python",
   "name": "python3"
  },
  "language_info": {
   "codemirror_mode": {
    "name": "ipython",
    "version": 3
   },
   "file_extension": ".py",
   "mimetype": "text/x-python",
   "name": "python",
   "nbconvert_exporter": "python",
   "pygments_lexer": "ipython3",
   "version": "3.7.4"
  }
 },
 "nbformat": 4,
 "nbformat_minor": 2
}
